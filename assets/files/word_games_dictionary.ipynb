{
 "cells": [
  {
   "cell_type": "markdown",
   "metadata": {},
   "source": [
    "The following exercise problems are from the introductory Computer Science book, How to Design Programs. The problems were originally defined in a custom langauge built from the Racket programming language. These problems employed functional programming & recursion to build some analytic fucntions from the scratch & I really enjoyed working on them. In this post, I'll solve these problems in Scheme."
   ]
  },
  {
   "cell_type": "markdown",
   "metadata": {},
   "source": [
    "### Reading from the computer's dictionary\n",
    "You don't need any external data to work on these problems. Your computer's built-in dictionary is good enough. Depending on your OS, you can find your dictionary in one of the following locations."
   ]
  },
  {
   "cell_type": "code",
   "execution_count": 2,
   "metadata": {},
   "outputs": [
    {
     "data": {
      "text/plain": [
       "dictionary-location"
      ]
     },
     "execution_count": 2,
     "metadata": {},
     "output_type": "execute_result"
    }
   ],
   "source": [
    "; On OS X: \n",
    "(define DICTIONARY-LOCATION \"/usr/share/dict/words\")\n",
    "; On LINUX: /usr/share/dict/words or /var/lib/dict/words\n",
    "; On WINDOWS: borrow the word file from your Linux friend"
   ]
  },
  {
   "cell_type": "code",
   "execution_count": 1,
   "metadata": {},
   "outputs": [
    {
     "ename": "unbound-variable",
     "evalue": "Unbound variable: dictionary-location",
     "execution_count": 1,
     "output_type": "error",
     "traceback": [
      "\u001b[31mUnbound variable: dictionary-location\u001b[0m"
     ],
     "user_expressions": {}
    }
   ],
   "source": [
    "(read-line dictionary-location) ;; crashes the kernel"
   ]
  },
  {
   "cell_type": "code",
   "execution_count": null,
   "metadata": {},
   "outputs": [],
   "source": [
    "; Read the dictionary as a list of strings ??\n",
    ";; crashes the kernel\n",
    "(with-input-from-file DICTIONARY-LOCATION\n",
    "  (lambda ()\n",
    "    (let loop ((lines '())\n",
    "               (next-line (read-line)))\n",
    "       (if (eof-object? next-line)       ; when we hit the end of file\n",
    "           (reverse lines)               ; return the lines\n",
    "           (loop (cons next-line lines)  ; else loop, keeping this line\n",
    "                 (read-line))))))        ; and move to next one"
   ]
  },
  {
   "cell_type": "code",
   "execution_count": null,
   "metadata": {},
   "outputs": [],
   "source": [
    "(define (explode word)\n",
    "    (map string (string->list word))     ; Racket functions\n",
    ")\n",
    "\n",
    "(define LETTERS\n",
    "    (explode \"abcdefghijklmnopqrstuvwxyz\")\n",
    ")"
   ]
  },
  {
   "cell_type": "markdown",
   "metadata": {},
   "source": [
    "But our list is much longer than 3000! So we can't use normal recursive functions on this list, otherwise, it'll cause a [stack overflow](https://stackoverflow.com/questions/14222416/recursion-in-python-runtimeerror-maximum-recursion-depth-exceeded-while-callin) !!\n",
    "We can solve this problem by either writing iterative procedures instead, or converting our recursive procuderes to their tail-call form. We'll also be adding decorators to our function to ensure Python optimizes our tail-recursive calls.\n",
    "\n",
    "Source: https://chrispenner.ca/posts/python-tail-recursion"
   ]
  },
  {
   "cell_type": "markdown",
   "metadata": {},
   "source": [
    "### Problem 1\n",
    "\n",
    "Design the function `starts_with`, which consumes a Letter and Dictionary and then counts how many words in the given Dictionary start with the given Letter."
   ]
  },
  {
   "cell_type": "code",
   "execution_count": null,
   "metadata": {},
   "outputs": [],
   "source": [
    ";; Ex 195\n",
    "(define (starts-with# l dict)\n",
    "    (if (null? dict)\n",
    "        0\n",
    "        (if (string=? (car (explode (car dict))) l)\n",
    "            (+ 1 (starts-with# l (cdr dict)))\n",
    "            (starts-with# l (cdr dict))\n",
    "        )\n",
    "    )\n",
    ")"
   ]
  },
  {
   "cell_type": "code",
   "execution_count": null,
   "metadata": {},
   "outputs": [],
   "source": [
    ";; # of words starting with e in computer's dictionary\n",
    "(starts-with# \"e\" DICT)"
   ]
  }
 ],
 "metadata": {
  "kernelspec": {
   "display_name": "MIT Scheme",
   "language": "mit-scheme",
   "name": "mit-scheme"
  },
  "language_info": {
   "codemirror_mode": "scheme",
   "file_extension": ".scm",
   "mimetype": "application/x-scheme",
   "name": "MIT Scheme",
   "pygments_lexer": "scheme",
   "version": "9.2.1"
  }
 },
 "nbformat": 4,
 "nbformat_minor": 4
}
