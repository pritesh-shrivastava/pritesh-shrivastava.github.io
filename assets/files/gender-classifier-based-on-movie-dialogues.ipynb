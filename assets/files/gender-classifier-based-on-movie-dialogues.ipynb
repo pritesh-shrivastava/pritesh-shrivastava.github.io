{
 "cells": [
  {
   "cell_type": "markdown",
   "metadata": {
    "papermill": {
     "duration": 0.050875,
     "end_time": "2020-11-22T09:02:49.882315",
     "exception": false,
     "start_time": "2020-11-22T09:02:49.831440",
     "status": "completed"
    },
    "tags": []
   },
   "source": [
    "In this notebook, we will try to predict the gender of a Hollywood movie character based in his / her dialogues in the movie. The [dataset](https://www.kaggle.com/Cornell-University/movie-dialog-corpus) was released by [Cornell University](http://www.cs.cornell.edu/~cristian/Cornell_Movie-Dialogs_Corpus.html). This classifier will help us understand if there is some kind of gender bias between male and female characters in Hollywood movies."
   ]
  },
  {
   "cell_type": "markdown",
   "metadata": {
    "papermill": {
     "duration": 0.049302,
     "end_time": "2020-11-22T09:02:49.981690",
     "exception": false,
     "start_time": "2020-11-22T09:02:49.932388",
     "status": "completed"
    },
    "tags": []
   },
   "source": [
    "### Import necessary libraries"
   ]
  },
  {
   "cell_type": "code",
   "execution_count": 1,
   "metadata": {
    "_cell_guid": "3ba0a9bd-82cd-4c7f-9df1-d855df169cf9",
    "_execution_state": "idle",
    "_uuid": "b6c533290632400d56c4f3c01cfc9d8e1d37e85b",
    "execution": {
     "iopub.execute_input": "2020-11-22T09:02:50.094741Z",
     "iopub.status.busy": "2020-11-22T09:02:50.089289Z",
     "iopub.status.idle": "2020-11-22T09:03:00.882848Z",
     "shell.execute_reply": "2020-11-22T09:03:00.882171Z"
    },
    "papermill": {
     "duration": 10.85182,
     "end_time": "2020-11-22T09:03:00.882993",
     "exception": false,
     "start_time": "2020-11-22T09:02:50.031173",
     "status": "completed"
    },
    "tags": []
   },
   "outputs": [
    {
     "name": "stderr",
     "output_type": "stream",
     "text": [
      "/opt/conda/lib/python3.7/site-packages/sklearn/utils/deprecation.py:143: FutureWarning: The sklearn.metrics.scorer module is  deprecated in version 0.22 and will be removed in version 0.24. The corresponding classes / functions should instead be imported from sklearn.metrics. Anything that cannot be imported from sklearn.metrics is now part of the private API.\n",
      "  warnings.warn(message, FutureWarning)\n",
      "/opt/conda/lib/python3.7/site-packages/sklearn/utils/deprecation.py:143: FutureWarning: The sklearn.feature_selection.base module is  deprecated in version 0.22 and will be removed in version 0.24. The corresponding classes / functions should instead be imported from sklearn.feature_selection. Anything that cannot be imported from sklearn.feature_selection is now part of the private API.\n",
      "  warnings.warn(message, FutureWarning)\n"
     ]
    }
   ],
   "source": [
    "import pandas as pd\n",
    "import numpy as np\n",
    "import re\n",
    "from nltk.corpus import stopwords\n",
    "from nltk.stem import WordNetLemmatizer\n",
    "from wordcloud import WordCloud\n",
    "import matplotlib.pyplot as plt\n",
    "import seaborn as sns\n",
    "import warnings\n",
    "\n",
    "from sklearn.preprocessing import OneHotEncoder, StandardScaler, MinMaxScaler\n",
    "from sklearn.compose import ColumnTransformer\n",
    "from sklearn.feature_extraction.text import TfidfTransformer, CountVectorizer, TfidfVectorizer\n",
    "from sklearn.preprocessing import FunctionTransformer\n",
    "from sklearn.linear_model import LogisticRegression\n",
    "from sklearn.naive_bayes import MultinomialNB\n",
    "from sklearn.ensemble import RandomForestClassifier,BaggingClassifier\n",
    "from sklearn.svm import SVC\n",
    "from sklearn.calibration import CalibratedClassifierCV\n",
    "from sklearn.metrics import classification_report, confusion_matrix\n",
    "from sklearn.pipeline import FeatureUnion, Pipeline\n",
    "from sklearn.model_selection import train_test_split\n",
    "from sklearn.base import BaseEstimator, TransformerMixin\n",
    "from sklearn import svm\n",
    "from sklearn.multiclass import OneVsRestClassifier\n",
    "from sklearn.svm import LinearSVC\n",
    "\n",
    "from imblearn.under_sampling import RandomUnderSampler\n",
    "import eli5\n",
    "\n",
    "import IPython\n",
    "from IPython.display import display\n",
    "import graphviz\n",
    "from sklearn.tree import export_graphviz\n",
    "import re\n",
    "\n",
    "\n",
    "warnings.filterwarnings('ignore')\n",
    "pd.set_option('display.max_rows', 100)"
   ]
  },
  {
   "cell_type": "markdown",
   "metadata": {
    "_execution_state": "idle",
    "_uuid": "e067108cbb3bbf8465528c150e9108d689a5cb46",
    "papermill": {
     "duration": 0.050919,
     "end_time": "2020-11-22T09:03:00.985987",
     "exception": false,
     "start_time": "2020-11-22T09:03:00.935068",
     "status": "completed"
    },
    "tags": []
   },
   "source": [
    "### Reading the dataset"
   ]
  },
  {
   "cell_type": "code",
   "execution_count": 2,
   "metadata": {
    "_cell_guid": "38545e4b-d3a3-4238-ae57-8383ef5c2ba3",
    "_execution_state": "idle",
    "_uuid": "7244a575de5697a41d944e33c005b7b11eb09e26",
    "execution": {
     "iopub.execute_input": "2020-11-22T09:03:01.112086Z",
     "iopub.status.busy": "2020-11-22T09:03:01.111260Z",
     "iopub.status.idle": "2020-11-22T09:03:02.117122Z",
     "shell.execute_reply": "2020-11-22T09:03:02.116380Z"
    },
    "papermill": {
     "duration": 1.080744,
     "end_time": "2020-11-22T09:03:02.117248",
     "exception": false,
     "start_time": "2020-11-22T09:03:01.036504",
     "status": "completed"
    },
    "tags": []
   },
   "outputs": [
    {
     "data": {
      "text/html": [
       "<div>\n",
       "<style scoped>\n",
       "    .dataframe tbody tr th:only-of-type {\n",
       "        vertical-align: middle;\n",
       "    }\n",
       "\n",
       "    .dataframe tbody tr th {\n",
       "        vertical-align: top;\n",
       "    }\n",
       "\n",
       "    .dataframe thead th {\n",
       "        text-align: right;\n",
       "    }\n",
       "</style>\n",
       "<table border=\"1\" class=\"dataframe\">\n",
       "  <thead>\n",
       "    <tr style=\"text-align: right;\">\n",
       "      <th></th>\n",
       "      <th>0</th>\n",
       "      <th>1</th>\n",
       "      <th>2</th>\n",
       "      <th>3</th>\n",
       "      <th>4</th>\n",
       "      <th>5</th>\n",
       "    </tr>\n",
       "  </thead>\n",
       "  <tbody>\n",
       "    <tr>\n",
       "      <th>0</th>\n",
       "      <td>u0</td>\n",
       "      <td>BIANCA</td>\n",
       "      <td>m0</td>\n",
       "      <td>10 things i hate about you</td>\n",
       "      <td>f</td>\n",
       "      <td>4</td>\n",
       "    </tr>\n",
       "    <tr>\n",
       "      <th>1</th>\n",
       "      <td>u1</td>\n",
       "      <td>BRUCE</td>\n",
       "      <td>m0</td>\n",
       "      <td>10 things i hate about you</td>\n",
       "      <td>?</td>\n",
       "      <td>?</td>\n",
       "    </tr>\n",
       "    <tr>\n",
       "      <th>2</th>\n",
       "      <td>u2</td>\n",
       "      <td>CAMERON</td>\n",
       "      <td>m0</td>\n",
       "      <td>10 things i hate about you</td>\n",
       "      <td>m</td>\n",
       "      <td>3</td>\n",
       "    </tr>\n",
       "    <tr>\n",
       "      <th>3</th>\n",
       "      <td>u3</td>\n",
       "      <td>CHASTITY</td>\n",
       "      <td>m0</td>\n",
       "      <td>10 things i hate about you</td>\n",
       "      <td>?</td>\n",
       "      <td>?</td>\n",
       "    </tr>\n",
       "    <tr>\n",
       "      <th>4</th>\n",
       "      <td>u4</td>\n",
       "      <td>JOEY</td>\n",
       "      <td>m0</td>\n",
       "      <td>10 things i hate about you</td>\n",
       "      <td>m</td>\n",
       "      <td>6</td>\n",
       "    </tr>\n",
       "  </tbody>\n",
       "</table>\n",
       "</div>"
      ],
      "text/plain": [
       "    0         1   2                           3  4  5\n",
       "0  u0    BIANCA  m0  10 things i hate about you  f  4\n",
       "1  u1     BRUCE  m0  10 things i hate about you  ?  ?\n",
       "2  u2   CAMERON  m0  10 things i hate about you  m  3\n",
       "3  u3  CHASTITY  m0  10 things i hate about you  ?  ?\n",
       "4  u4      JOEY  m0  10 things i hate about you  m  6"
      ]
     },
     "execution_count": 2,
     "metadata": {},
     "output_type": "execute_result"
    }
   ],
   "source": [
    "lines_df = pd.read_csv('../input/movie_lines.tsv', sep='\\t', error_bad_lines=False,\n",
    "                       warn_bad_lines=False, header=None)\n",
    "characters_df = pd.read_csv('../input/movie_characters_metadata.tsv', sep='\\t', warn_bad_lines=False,\n",
    "                            error_bad_lines=False, header=None)\n",
    "\n",
    "characters_df.head()"
   ]
  },
  {
   "cell_type": "markdown",
   "metadata": {
    "_cell_guid": "951431ca-b029-493a-b5e9-60eb276335f6",
    "_execution_state": "idle",
    "_uuid": "c1b241261fd00b10b050cbfea8b50c7e5933b4f8",
    "papermill": {
     "duration": 0.051014,
     "end_time": "2020-11-22T09:03:02.220242",
     "exception": false,
     "start_time": "2020-11-22T09:03:02.169228",
     "status": "completed"
    },
    "tags": []
   },
   "source": [
    "Adding column names to characters dataframe"
   ]
  },
  {
   "cell_type": "code",
   "execution_count": 3,
   "metadata": {
    "_cell_guid": "95dfc0ac-4bea-405c-8612-25fa1575a611",
    "_execution_state": "idle",
    "_uuid": "b35629052ef7c6cbc0517a61f35cc3831fac57b5",
    "execution": {
     "iopub.execute_input": "2020-11-22T09:03:02.342679Z",
     "iopub.status.busy": "2020-11-22T09:03:02.341550Z",
     "iopub.status.idle": "2020-11-22T09:03:02.347170Z",
     "shell.execute_reply": "2020-11-22T09:03:02.346568Z"
    },
    "papermill": {
     "duration": 0.075174,
     "end_time": "2020-11-22T09:03:02.347298",
     "exception": false,
     "start_time": "2020-11-22T09:03:02.272124",
     "status": "completed"
    },
    "tags": []
   },
   "outputs": [
    {
     "data": {
      "text/html": [
       "<div>\n",
       "<style scoped>\n",
       "    .dataframe tbody tr th:only-of-type {\n",
       "        vertical-align: middle;\n",
       "    }\n",
       "\n",
       "    .dataframe tbody tr th {\n",
       "        vertical-align: top;\n",
       "    }\n",
       "\n",
       "    .dataframe thead th {\n",
       "        text-align: right;\n",
       "    }\n",
       "</style>\n",
       "<table border=\"1\" class=\"dataframe\">\n",
       "  <thead>\n",
       "    <tr style=\"text-align: right;\">\n",
       "      <th></th>\n",
       "      <th>chId</th>\n",
       "      <th>chName</th>\n",
       "      <th>mId</th>\n",
       "      <th>mName</th>\n",
       "      <th>gender</th>\n",
       "      <th>posCredits</th>\n",
       "    </tr>\n",
       "  </thead>\n",
       "  <tbody>\n",
       "    <tr>\n",
       "      <th>0</th>\n",
       "      <td>u0</td>\n",
       "      <td>BIANCA</td>\n",
       "      <td>m0</td>\n",
       "      <td>10 things i hate about you</td>\n",
       "      <td>f</td>\n",
       "      <td>4</td>\n",
       "    </tr>\n",
       "    <tr>\n",
       "      <th>1</th>\n",
       "      <td>u1</td>\n",
       "      <td>BRUCE</td>\n",
       "      <td>m0</td>\n",
       "      <td>10 things i hate about you</td>\n",
       "      <td>?</td>\n",
       "      <td>?</td>\n",
       "    </tr>\n",
       "    <tr>\n",
       "      <th>2</th>\n",
       "      <td>u2</td>\n",
       "      <td>CAMERON</td>\n",
       "      <td>m0</td>\n",
       "      <td>10 things i hate about you</td>\n",
       "      <td>m</td>\n",
       "      <td>3</td>\n",
       "    </tr>\n",
       "    <tr>\n",
       "      <th>3</th>\n",
       "      <td>u3</td>\n",
       "      <td>CHASTITY</td>\n",
       "      <td>m0</td>\n",
       "      <td>10 things i hate about you</td>\n",
       "      <td>?</td>\n",
       "      <td>?</td>\n",
       "    </tr>\n",
       "    <tr>\n",
       "      <th>4</th>\n",
       "      <td>u4</td>\n",
       "      <td>JOEY</td>\n",
       "      <td>m0</td>\n",
       "      <td>10 things i hate about you</td>\n",
       "      <td>m</td>\n",
       "      <td>6</td>\n",
       "    </tr>\n",
       "  </tbody>\n",
       "</table>\n",
       "</div>"
      ],
      "text/plain": [
       "  chId    chName mId                       mName gender posCredits\n",
       "0   u0    BIANCA  m0  10 things i hate about you      f          4\n",
       "1   u1     BRUCE  m0  10 things i hate about you      ?          ?\n",
       "2   u2   CAMERON  m0  10 things i hate about you      m          3\n",
       "3   u3  CHASTITY  m0  10 things i hate about you      ?          ?\n",
       "4   u4      JOEY  m0  10 things i hate about you      m          6"
      ]
     },
     "execution_count": 3,
     "metadata": {},
     "output_type": "execute_result"
    }
   ],
   "source": [
    "characters_df.columns=['chId','chName','mId','mName','gender','posCredits']\n",
    "characters_df.head()"
   ]
  },
  {
   "cell_type": "code",
   "execution_count": 4,
   "metadata": {
    "execution": {
     "iopub.execute_input": "2020-11-22T09:03:02.459721Z",
     "iopub.status.busy": "2020-11-22T09:03:02.458609Z",
     "iopub.status.idle": "2020-11-22T09:03:02.463538Z",
     "shell.execute_reply": "2020-11-22T09:03:02.462749Z"
    },
    "papermill": {
     "duration": 0.063138,
     "end_time": "2020-11-22T09:03:02.463664",
     "exception": false,
     "start_time": "2020-11-22T09:03:02.400526",
     "status": "completed"
    },
    "tags": []
   },
   "outputs": [
    {
     "data": {
      "text/plain": [
       "(9034, 6)"
      ]
     },
     "execution_count": 4,
     "metadata": {},
     "output_type": "execute_result"
    }
   ],
   "source": [
    "characters_df.shape"
   ]
  },
  {
   "cell_type": "markdown",
   "metadata": {
    "papermill": {
     "duration": 0.053534,
     "end_time": "2020-11-22T09:03:02.570503",
     "exception": false,
     "start_time": "2020-11-22T09:03:02.516969",
     "status": "completed"
    },
    "tags": []
   },
   "source": [
    "Checking the distribution of gender in the characters dataset"
   ]
  },
  {
   "cell_type": "code",
   "execution_count": 5,
   "metadata": {
    "execution": {
     "iopub.execute_input": "2020-11-22T09:03:02.717852Z",
     "iopub.status.busy": "2020-11-22T09:03:02.716289Z",
     "iopub.status.idle": "2020-11-22T09:03:02.721791Z",
     "shell.execute_reply": "2020-11-22T09:03:02.718956Z"
    },
    "papermill": {
     "duration": 0.092561,
     "end_time": "2020-11-22T09:03:02.722014",
     "exception": false,
     "start_time": "2020-11-22T09:03:02.629453",
     "status": "completed"
    },
    "tags": []
   },
   "outputs": [
    {
     "data": {
      "text/plain": [
       "?    6008\n",
       "m    1899\n",
       "f     921\n",
       "M     145\n",
       "F      44\n",
       "Name: gender, dtype: int64"
      ]
     },
     "execution_count": 5,
     "metadata": {},
     "output_type": "execute_result"
    }
   ],
   "source": [
    "characters_df.gender.value_counts()"
   ]
  },
  {
   "cell_type": "markdown",
   "metadata": {
    "papermill": {
     "duration": 0.053885,
     "end_time": "2020-11-22T09:03:02.838390",
     "exception": false,
     "start_time": "2020-11-22T09:03:02.784505",
     "status": "completed"
    },
    "tags": []
   },
   "source": [
    "We need to clean this column. Let's also remove the characters were gender information is not available.\n",
    "We'll assign a label of 0 to male characters & 1 to female characters."
   ]
  },
  {
   "cell_type": "code",
   "execution_count": 6,
   "metadata": {
    "execution": {
     "iopub.execute_input": "2020-11-22T09:03:02.964900Z",
     "iopub.status.busy": "2020-11-22T09:03:02.958488Z",
     "iopub.status.idle": "2020-11-22T09:03:02.970186Z",
     "shell.execute_reply": "2020-11-22T09:03:02.969414Z"
    },
    "papermill": {
     "duration": 0.076781,
     "end_time": "2020-11-22T09:03:02.970317",
     "exception": false,
     "start_time": "2020-11-22T09:03:02.893536",
     "status": "completed"
    },
    "tags": []
   },
   "outputs": [
    {
     "data": {
      "text/plain": [
       "(3026, 6)"
      ]
     },
     "execution_count": 6,
     "metadata": {},
     "output_type": "execute_result"
    }
   ],
   "source": [
    "characters_df = characters_df[characters_df.gender != '?']\n",
    "characters_df.gender = characters_df.gender.apply(lambda g: 0 if g in ['m', 'M'] else 1)  ## Label encoding\n",
    "\n",
    "characters_df.shape"
   ]
  },
  {
   "cell_type": "code",
   "execution_count": 7,
   "metadata": {
    "execution": {
     "iopub.execute_input": "2020-11-22T09:03:03.087713Z",
     "iopub.status.busy": "2020-11-22T09:03:03.086590Z",
     "iopub.status.idle": "2020-11-22T09:03:03.091520Z",
     "shell.execute_reply": "2020-11-22T09:03:03.090703Z"
    },
    "papermill": {
     "duration": 0.06668,
     "end_time": "2020-11-22T09:03:03.091653",
     "exception": false,
     "start_time": "2020-11-22T09:03:03.024973",
     "status": "completed"
    },
    "tags": []
   },
   "outputs": [
    {
     "data": {
      "text/plain": [
       "0    2044\n",
       "1     982\n",
       "Name: gender, dtype: int64"
      ]
     },
     "execution_count": 7,
     "metadata": {},
     "output_type": "execute_result"
    }
   ],
   "source": [
    "characters_df.gender.value_counts()"
   ]
  },
  {
   "cell_type": "markdown",
   "metadata": {
    "papermill": {
     "duration": 0.05423,
     "end_time": "2020-11-22T09:03:03.200767",
     "exception": false,
     "start_time": "2020-11-22T09:03:03.146537",
     "status": "completed"
    },
    "tags": []
   },
   "source": [
    "Let's also take a look at the position of the character in the post credits of the movie"
   ]
  },
  {
   "cell_type": "code",
   "execution_count": 8,
   "metadata": {
    "execution": {
     "iopub.execute_input": "2020-11-22T09:03:03.320559Z",
     "iopub.status.busy": "2020-11-22T09:03:03.319451Z",
     "iopub.status.idle": "2020-11-22T09:03:03.324298Z",
     "shell.execute_reply": "2020-11-22T09:03:03.324855Z"
    },
    "papermill": {
     "duration": 0.069523,
     "end_time": "2020-11-22T09:03:03.325020",
     "exception": false,
     "start_time": "2020-11-22T09:03:03.255497",
     "status": "completed"
    },
    "tags": []
   },
   "outputs": [
    {
     "data": {
      "text/plain": [
       "1       497\n",
       "2       443\n",
       "3       352\n",
       "?       330\n",
       "4       268\n",
       "5       211\n",
       "6       169\n",
       "7       125\n",
       "8       100\n",
       "9        79\n",
       "10       54\n",
       "11       40\n",
       "1000     38\n",
       "13       33\n",
       "12       32\n",
       "16       26\n",
       "14       24\n",
       "18       24\n",
       "17       19\n",
       "19       18\n",
       "15       14\n",
       "21       13\n",
       "22        9\n",
       "20        8\n",
       "29        7\n",
       "27        6\n",
       "24        5\n",
       "25        5\n",
       "26        5\n",
       "45        4\n",
       "23        4\n",
       "31        4\n",
       "35        4\n",
       "38        3\n",
       "43        3\n",
       "33        3\n",
       "34        3\n",
       "36        2\n",
       "59        2\n",
       "39        2\n",
       "30        2\n",
       "42        2\n",
       "28        2\n",
       "32        2\n",
       "51        1\n",
       "82        1\n",
       "44        1\n",
       "70        1\n",
       "46        1\n",
       "41        1\n",
       "63        1\n",
       "37        1\n",
       "50        1\n",
       "49        1\n",
       "47        1\n",
       "62        1\n",
       "71        1\n",
       "Name: posCredits, dtype: int64"
      ]
     },
     "execution_count": 8,
     "metadata": {},
     "output_type": "execute_result"
    }
   ],
   "source": [
    "characters_df.posCredits.value_counts()"
   ]
  },
  {
   "cell_type": "markdown",
   "metadata": {
    "papermill": {
     "duration": 0.054909,
     "end_time": "2020-11-22T09:03:03.435560",
     "exception": false,
     "start_time": "2020-11-22T09:03:03.380651",
     "status": "completed"
    },
    "tags": []
   },
   "source": [
    "The position of characters in the credits section seems to be a useful feature for classification. We can try to use it as a categorical variable later. But let's combine the low frequency ones together first."
   ]
  },
  {
   "cell_type": "code",
   "execution_count": 9,
   "metadata": {
    "execution": {
     "iopub.execute_input": "2020-11-22T09:03:03.560210Z",
     "iopub.status.busy": "2020-11-22T09:03:03.559232Z",
     "iopub.status.idle": "2020-11-22T09:03:03.564736Z",
     "shell.execute_reply": "2020-11-22T09:03:03.563999Z"
    },
    "papermill": {
     "duration": 0.073574,
     "end_time": "2020-11-22T09:03:03.564883",
     "exception": false,
     "start_time": "2020-11-22T09:03:03.491309",
     "status": "completed"
    },
    "tags": []
   },
   "outputs": [
    {
     "data": {
      "text/plain": [
       "10+    782\n",
       "1      497\n",
       "2      443\n",
       "3      352\n",
       "4      268\n",
       "5      211\n",
       "6      169\n",
       "7      125\n",
       "8      100\n",
       "9       79\n",
       "Name: posCredits, dtype: int64"
      ]
     },
     "execution_count": 9,
     "metadata": {},
     "output_type": "execute_result"
    }
   ],
   "source": [
    "characters_df.posCredits = characters_df.posCredits.apply(lambda p: '10+' if not p in ['1', '2', '3', '4', '5', '6', '7', '8', '9'] else p)  ## Label encoding\n",
    "characters_df.posCredits.value_counts()"
   ]
  },
  {
   "cell_type": "markdown",
   "metadata": {
    "papermill": {
     "duration": 0.056595,
     "end_time": "2020-11-22T09:03:03.677382",
     "exception": false,
     "start_time": "2020-11-22T09:03:03.620787",
     "status": "completed"
    },
    "tags": []
   },
   "source": [
    "Let's clean the lines dataframe now!"
   ]
  },
  {
   "cell_type": "code",
   "execution_count": 10,
   "metadata": {
    "_cell_guid": "4f5c1a41-7991-4cb9-9bfe-22a9e3e8ab88",
    "_execution_state": "idle",
    "_uuid": "f14307a92b5954eb7e130bf092832ceaa5894c84",
    "execution": {
     "iopub.execute_input": "2020-11-22T09:03:03.807977Z",
     "iopub.status.busy": "2020-11-22T09:03:03.806923Z",
     "iopub.status.idle": "2020-11-22T09:03:03.812315Z",
     "shell.execute_reply": "2020-11-22T09:03:03.811522Z"
    },
    "papermill": {
     "duration": 0.076742,
     "end_time": "2020-11-22T09:03:03.812444",
     "exception": false,
     "start_time": "2020-11-22T09:03:03.735702",
     "status": "completed"
    },
    "tags": []
   },
   "outputs": [
    {
     "data": {
      "text/html": [
       "<div>\n",
       "<style scoped>\n",
       "    .dataframe tbody tr th:only-of-type {\n",
       "        vertical-align: middle;\n",
       "    }\n",
       "\n",
       "    .dataframe tbody tr th {\n",
       "        vertical-align: top;\n",
       "    }\n",
       "\n",
       "    .dataframe thead th {\n",
       "        text-align: right;\n",
       "    }\n",
       "</style>\n",
       "<table border=\"1\" class=\"dataframe\">\n",
       "  <thead>\n",
       "    <tr style=\"text-align: right;\">\n",
       "      <th></th>\n",
       "      <th>lineId</th>\n",
       "      <th>chId</th>\n",
       "      <th>mId</th>\n",
       "      <th>chName</th>\n",
       "      <th>dialogue</th>\n",
       "    </tr>\n",
       "  </thead>\n",
       "  <tbody>\n",
       "    <tr>\n",
       "      <th>0</th>\n",
       "      <td>L1045</td>\n",
       "      <td>u0</td>\n",
       "      <td>m0</td>\n",
       "      <td>BIANCA</td>\n",
       "      <td>They do not!</td>\n",
       "    </tr>\n",
       "    <tr>\n",
       "      <th>1</th>\n",
       "      <td>L1044</td>\n",
       "      <td>u2</td>\n",
       "      <td>m0</td>\n",
       "      <td>CAMERON</td>\n",
       "      <td>They do to!</td>\n",
       "    </tr>\n",
       "    <tr>\n",
       "      <th>2</th>\n",
       "      <td>L985</td>\n",
       "      <td>u0</td>\n",
       "      <td>m0</td>\n",
       "      <td>BIANCA</td>\n",
       "      <td>I hope so.</td>\n",
       "    </tr>\n",
       "    <tr>\n",
       "      <th>3</th>\n",
       "      <td>L984</td>\n",
       "      <td>u2</td>\n",
       "      <td>m0</td>\n",
       "      <td>CAMERON</td>\n",
       "      <td>She okay?</td>\n",
       "    </tr>\n",
       "    <tr>\n",
       "      <th>4</th>\n",
       "      <td>L925</td>\n",
       "      <td>u0</td>\n",
       "      <td>m0</td>\n",
       "      <td>BIANCA</td>\n",
       "      <td>Let's go.</td>\n",
       "    </tr>\n",
       "  </tbody>\n",
       "</table>\n",
       "</div>"
      ],
      "text/plain": [
       "  lineId chId mId   chName      dialogue\n",
       "0  L1045   u0  m0   BIANCA  They do not!\n",
       "1  L1044   u2  m0  CAMERON   They do to!\n",
       "2   L985   u0  m0   BIANCA    I hope so.\n",
       "3   L984   u2  m0  CAMERON     She okay?\n",
       "4   L925   u0  m0   BIANCA     Let's go."
      ]
     },
     "execution_count": 10,
     "metadata": {},
     "output_type": "execute_result"
    }
   ],
   "source": [
    "lines_df.columns = ['lineId','chId','mId','chName','dialogue']\n",
    "lines_df.head()"
   ]
  },
  {
   "cell_type": "markdown",
   "metadata": {
    "_cell_guid": "5b07e2a6-b722-41f8-9f17-f6cdce961764",
    "_execution_state": "idle",
    "_uuid": "91e508cdca246de61627cad6e8075fd7c537236f",
    "papermill": {
     "duration": 0.057788,
     "end_time": "2020-11-22T09:03:03.927216",
     "exception": false,
     "start_time": "2020-11-22T09:03:03.869428",
     "status": "completed"
    },
    "tags": []
   },
   "source": [
    "Let's join lines_df and characters_df together."
   ]
  },
  {
   "cell_type": "code",
   "execution_count": 11,
   "metadata": {
    "_cell_guid": "e12163c0-86af-4d03-83cf-ee61e05f1703",
    "_execution_state": "idle",
    "_uuid": "65a1c40d879f87f7260c290e8eb477ed6b9a9682",
    "execution": {
     "iopub.execute_input": "2020-11-22T09:03:04.085145Z",
     "iopub.status.busy": "2020-11-22T09:03:04.083653Z",
     "iopub.status.idle": "2020-11-22T09:03:04.272664Z",
     "shell.execute_reply": "2020-11-22T09:03:04.271911Z"
    },
    "papermill": {
     "duration": 0.288213,
     "end_time": "2020-11-22T09:03:04.272814",
     "exception": false,
     "start_time": "2020-11-22T09:03:03.984601",
     "status": "completed"
    },
    "tags": []
   },
   "outputs": [
    {
     "data": {
      "text/html": [
       "<div>\n",
       "<style scoped>\n",
       "    .dataframe tbody tr th:only-of-type {\n",
       "        vertical-align: middle;\n",
       "    }\n",
       "\n",
       "    .dataframe tbody tr th {\n",
       "        vertical-align: top;\n",
       "    }\n",
       "\n",
       "    .dataframe thead th {\n",
       "        text-align: right;\n",
       "    }\n",
       "</style>\n",
       "<table border=\"1\" class=\"dataframe\">\n",
       "  <thead>\n",
       "    <tr style=\"text-align: right;\">\n",
       "      <th></th>\n",
       "      <th>lineId</th>\n",
       "      <th>chId</th>\n",
       "      <th>mId</th>\n",
       "      <th>chName</th>\n",
       "      <th>dialogue</th>\n",
       "      <th>mName</th>\n",
       "      <th>gender</th>\n",
       "      <th>posCredits</th>\n",
       "    </tr>\n",
       "  </thead>\n",
       "  <tbody>\n",
       "    <tr>\n",
       "      <th>0</th>\n",
       "      <td>L1045</td>\n",
       "      <td>u0</td>\n",
       "      <td>m0</td>\n",
       "      <td>BIANCA</td>\n",
       "      <td>They do not!</td>\n",
       "      <td>10 things i hate about you</td>\n",
       "      <td>1</td>\n",
       "      <td>4</td>\n",
       "    </tr>\n",
       "    <tr>\n",
       "      <th>1</th>\n",
       "      <td>L985</td>\n",
       "      <td>u0</td>\n",
       "      <td>m0</td>\n",
       "      <td>BIANCA</td>\n",
       "      <td>I hope so.</td>\n",
       "      <td>10 things i hate about you</td>\n",
       "      <td>1</td>\n",
       "      <td>4</td>\n",
       "    </tr>\n",
       "    <tr>\n",
       "      <th>2</th>\n",
       "      <td>L925</td>\n",
       "      <td>u0</td>\n",
       "      <td>m0</td>\n",
       "      <td>BIANCA</td>\n",
       "      <td>Let's go.</td>\n",
       "      <td>10 things i hate about you</td>\n",
       "      <td>1</td>\n",
       "      <td>4</td>\n",
       "    </tr>\n",
       "    <tr>\n",
       "      <th>3</th>\n",
       "      <td>L872</td>\n",
       "      <td>u0</td>\n",
       "      <td>m0</td>\n",
       "      <td>BIANCA</td>\n",
       "      <td>Okay -- you're gonna need to learn how to lie.</td>\n",
       "      <td>10 things i hate about you</td>\n",
       "      <td>1</td>\n",
       "      <td>4</td>\n",
       "    </tr>\n",
       "    <tr>\n",
       "      <th>4</th>\n",
       "      <td>L869</td>\n",
       "      <td>u0</td>\n",
       "      <td>m0</td>\n",
       "      <td>BIANCA</td>\n",
       "      <td>Like my fear of wearing pastels?</td>\n",
       "      <td>10 things i hate about you</td>\n",
       "      <td>1</td>\n",
       "      <td>4</td>\n",
       "    </tr>\n",
       "  </tbody>\n",
       "</table>\n",
       "</div>"
      ],
      "text/plain": [
       "  lineId chId mId  chName                                        dialogue  \\\n",
       "0  L1045   u0  m0  BIANCA                                    They do not!   \n",
       "1   L985   u0  m0  BIANCA                                      I hope so.   \n",
       "2   L925   u0  m0  BIANCA                                       Let's go.   \n",
       "3   L872   u0  m0  BIANCA  Okay -- you're gonna need to learn how to lie.   \n",
       "4   L869   u0  m0  BIANCA                Like my fear of wearing pastels?   \n",
       "\n",
       "                        mName  gender posCredits  \n",
       "0  10 things i hate about you       1          4  \n",
       "1  10 things i hate about you       1          4  \n",
       "2  10 things i hate about you       1          4  \n",
       "3  10 things i hate about you       1          4  \n",
       "4  10 things i hate about you       1          4  "
      ]
     },
     "execution_count": 11,
     "metadata": {},
     "output_type": "execute_result"
    }
   ],
   "source": [
    "df = pd.merge(lines_df, characters_df, how='inner', on=['chId','mId', 'chName'],\n",
    "         left_index=False, right_index=False, sort=True,\n",
    "         copy=False, indicator=False)\n",
    "df.head()"
   ]
  },
  {
   "cell_type": "code",
   "execution_count": 12,
   "metadata": {
    "execution": {
     "iopub.execute_input": "2020-11-22T09:03:04.394385Z",
     "iopub.status.busy": "2020-11-22T09:03:04.393508Z",
     "iopub.status.idle": "2020-11-22T09:03:04.398514Z",
     "shell.execute_reply": "2020-11-22T09:03:04.397762Z"
    },
    "papermill": {
     "duration": 0.067742,
     "end_time": "2020-11-22T09:03:04.398636",
     "exception": false,
     "start_time": "2020-11-22T09:03:04.330894",
     "status": "completed"
    },
    "tags": []
   },
   "outputs": [
    {
     "data": {
      "text/plain": [
       "(229309, 8)"
      ]
     },
     "execution_count": 12,
     "metadata": {},
     "output_type": "execute_result"
    }
   ],
   "source": [
    "df.shape"
   ]
  },
  {
   "cell_type": "markdown",
   "metadata": {
    "papermill": {
     "duration": 0.05901,
     "end_time": "2020-11-22T09:03:04.516898",
     "exception": false,
     "start_time": "2020-11-22T09:03:04.457888",
     "status": "completed"
    },
    "tags": []
   },
   "source": [
    "Remove empty dialogues from the dataset"
   ]
  },
  {
   "cell_type": "code",
   "execution_count": 13,
   "metadata": {
    "_cell_guid": "1f4333c0-f159-4c94-ae6b-785695496431",
    "_execution_state": "idle",
    "_uuid": "3d63e78f6524aa0557aaedc179468ab91b2478d9",
    "execution": {
     "iopub.execute_input": "2020-11-22T09:03:04.673266Z",
     "iopub.status.busy": "2020-11-22T09:03:04.672446Z",
     "iopub.status.idle": "2020-11-22T09:03:04.784059Z",
     "shell.execute_reply": "2020-11-22T09:03:04.783238Z"
    },
    "papermill": {
     "duration": 0.207258,
     "end_time": "2020-11-22T09:03:04.784188",
     "exception": false,
     "start_time": "2020-11-22T09:03:04.576930",
     "status": "completed"
    },
    "tags": []
   },
   "outputs": [
    {
     "data": {
      "text/plain": [
       "(229106, 8)"
      ]
     },
     "execution_count": 13,
     "metadata": {},
     "output_type": "execute_result"
    }
   ],
   "source": [
    "df = df[df['dialogue'].notnull()]\n",
    "df.shape"
   ]
  },
  {
   "cell_type": "markdown",
   "metadata": {
    "papermill": {
     "duration": 0.058627,
     "end_time": "2020-11-22T09:03:04.902451",
     "exception": false,
     "start_time": "2020-11-22T09:03:04.843824",
     "status": "completed"
    },
    "tags": []
   },
   "source": [
    "Adding movie metadata like year of release to the dataset"
   ]
  },
  {
   "cell_type": "code",
   "execution_count": 14,
   "metadata": {
    "execution": {
     "iopub.execute_input": "2020-11-22T09:03:05.027461Z",
     "iopub.status.busy": "2020-11-22T09:03:05.026340Z",
     "iopub.status.idle": "2020-11-22T09:03:05.046717Z",
     "shell.execute_reply": "2020-11-22T09:03:05.045941Z"
    },
    "papermill": {
     "duration": 0.085776,
     "end_time": "2020-11-22T09:03:05.046875",
     "exception": false,
     "start_time": "2020-11-22T09:03:04.961099",
     "status": "completed"
    },
    "tags": []
   },
   "outputs": [
    {
     "data": {
      "text/html": [
       "<div>\n",
       "<style scoped>\n",
       "    .dataframe tbody tr th:only-of-type {\n",
       "        vertical-align: middle;\n",
       "    }\n",
       "\n",
       "    .dataframe tbody tr th {\n",
       "        vertical-align: top;\n",
       "    }\n",
       "\n",
       "    .dataframe thead th {\n",
       "        text-align: right;\n",
       "    }\n",
       "</style>\n",
       "<table border=\"1\" class=\"dataframe\">\n",
       "  <thead>\n",
       "    <tr style=\"text-align: right;\">\n",
       "      <th></th>\n",
       "      <th>mId</th>\n",
       "      <th>mName</th>\n",
       "      <th>releaseYear</th>\n",
       "      <th>rating</th>\n",
       "      <th>votes</th>\n",
       "      <th>genres</th>\n",
       "    </tr>\n",
       "  </thead>\n",
       "  <tbody>\n",
       "    <tr>\n",
       "      <th>0</th>\n",
       "      <td>m0</td>\n",
       "      <td>10 things i hate about you</td>\n",
       "      <td>1999</td>\n",
       "      <td>6.9</td>\n",
       "      <td>62847.0</td>\n",
       "      <td>['comedy' 'romance']</td>\n",
       "    </tr>\n",
       "    <tr>\n",
       "      <th>1</th>\n",
       "      <td>m1</td>\n",
       "      <td>1492: conquest of paradise</td>\n",
       "      <td>1992</td>\n",
       "      <td>6.2</td>\n",
       "      <td>10421.0</td>\n",
       "      <td>['adventure' 'biography' 'drama' 'history']</td>\n",
       "    </tr>\n",
       "    <tr>\n",
       "      <th>2</th>\n",
       "      <td>m2</td>\n",
       "      <td>15 minutes</td>\n",
       "      <td>2001</td>\n",
       "      <td>6.1</td>\n",
       "      <td>25854.0</td>\n",
       "      <td>['action' 'crime' 'drama' 'thriller']</td>\n",
       "    </tr>\n",
       "    <tr>\n",
       "      <th>3</th>\n",
       "      <td>m3</td>\n",
       "      <td>2001: a space odyssey</td>\n",
       "      <td>1968</td>\n",
       "      <td>8.4</td>\n",
       "      <td>163227.0</td>\n",
       "      <td>['adventure' 'mystery' 'sci-fi']</td>\n",
       "    </tr>\n",
       "    <tr>\n",
       "      <th>4</th>\n",
       "      <td>m4</td>\n",
       "      <td>48 hrs.</td>\n",
       "      <td>1982</td>\n",
       "      <td>6.9</td>\n",
       "      <td>22289.0</td>\n",
       "      <td>['action' 'comedy' 'crime' 'drama' 'thriller']</td>\n",
       "    </tr>\n",
       "  </tbody>\n",
       "</table>\n",
       "</div>"
      ],
      "text/plain": [
       "  mId                       mName releaseYear  rating     votes  \\\n",
       "0  m0  10 things i hate about you        1999     6.9   62847.0   \n",
       "1  m1  1492: conquest of paradise        1992     6.2   10421.0   \n",
       "2  m2                  15 minutes        2001     6.1   25854.0   \n",
       "3  m3       2001: a space odyssey        1968     8.4  163227.0   \n",
       "4  m4                     48 hrs.        1982     6.9   22289.0   \n",
       "\n",
       "                                           genres  \n",
       "0                            ['comedy' 'romance']  \n",
       "1     ['adventure' 'biography' 'drama' 'history']  \n",
       "2           ['action' 'crime' 'drama' 'thriller']  \n",
       "3                ['adventure' 'mystery' 'sci-fi']  \n",
       "4  ['action' 'comedy' 'crime' 'drama' 'thriller']  "
      ]
     },
     "execution_count": 14,
     "metadata": {},
     "output_type": "execute_result"
    }
   ],
   "source": [
    "movies = pd.read_csv(\"../input/movie_titles_metadata.tsv\", sep='\\t', error_bad_lines=False,\n",
    "                       warn_bad_lines=False, header=None)\n",
    "movies.columns = ['mId','mName','releaseYear','rating','votes','genres']\n",
    "\n",
    "movies.head()"
   ]
  },
  {
   "cell_type": "code",
   "execution_count": 15,
   "metadata": {
    "execution": {
     "iopub.execute_input": "2020-11-22T09:03:05.183418Z",
     "iopub.status.busy": "2020-11-22T09:03:05.177567Z",
     "iopub.status.idle": "2020-11-22T09:03:05.188483Z",
     "shell.execute_reply": "2020-11-22T09:03:05.187879Z"
    },
    "papermill": {
     "duration": 0.082417,
     "end_time": "2020-11-22T09:03:05.188611",
     "exception": false,
     "start_time": "2020-11-22T09:03:05.106194",
     "status": "completed"
    },
    "tags": []
   },
   "outputs": [
    {
     "data": {
      "text/plain": [
       "1999.0    42\n",
       "2000.0    41\n",
       "1997.0    38\n",
       "1998.0    37\n",
       "2001.0    30\n",
       "1996.0    24\n",
       "1995.0    22\n",
       "1992.0    19\n",
       "1989.0    19\n",
       "1994.0    19\n",
       "1993.0    18\n",
       "2002.0    18\n",
       "2003.0    16\n",
       "1987.0    15\n",
       "2004.0    14\n",
       "1991.0    14\n",
       "1982.0    14\n",
       "1988.0    13\n",
       "1985.0    11\n",
       "1986.0    11\n",
       "1990.0    11\n",
       "1984.0    11\n",
       "2005.0     9\n",
       "1975.0     9\n",
       "1979.0     8\n",
       "1971.0     7\n",
       "1980.0     6\n",
       "2006.0     6\n",
       "1983.0     5\n",
       "2007.0     5\n",
       "1978.0     5\n",
       "1974.0     5\n",
       "1977.0     4\n",
       "1973.0     4\n",
       "1932.0     4\n",
       "1976.0     4\n",
       "1964.0     3\n",
       "2009.0     3\n",
       "1953.0     3\n",
       "1972.0     3\n",
       "1939.0     3\n",
       "1954.0     3\n",
       "1934.0     3\n",
       "1943.0     3\n",
       "1981.0     3\n",
       "1949.0     3\n",
       "1968.0     3\n",
       "1955.0     3\n",
       "1960.0     3\n",
       "1959.0     3\n",
       "1945.0     2\n",
       "1940.0     2\n",
       "1931.0     2\n",
       "1927.0     2\n",
       "1961.0     2\n",
       "1966.0     2\n",
       "1963.0     2\n",
       "1933.0     2\n",
       "1970.0     2\n",
       "1950.0     2\n",
       "1967.0     2\n",
       "1941.0     2\n",
       "1936.0     1\n",
       "2010.0     1\n",
       "1944.0     1\n",
       "2008.0     1\n",
       "1942.0     1\n",
       "1937.0     1\n",
       "1946.0     1\n",
       "1965.0     1\n",
       "1957.0     1\n",
       "1958.0     1\n",
       "1956.0     1\n",
       "1969.0     1\n",
       "Name: releaseYear, dtype: int64"
      ]
     },
     "execution_count": 15,
     "metadata": {},
     "output_type": "execute_result"
    }
   ],
   "source": [
    "movie_yr = movies[['mId', 'releaseYear']]\n",
    "movie_yr.releaseYear = pd.to_numeric(movie_yr.releaseYear.apply(lambda y: str(y)[0:4]), errors='coerce')\n",
    "movie_yr = movie_yr.dropna()\n",
    "movie_yr.releaseYear.value_counts()"
   ]
  },
  {
   "cell_type": "code",
   "execution_count": 16,
   "metadata": {
    "execution": {
     "iopub.execute_input": "2020-11-22T09:03:05.338194Z",
     "iopub.status.busy": "2020-11-22T09:03:05.337384Z",
     "iopub.status.idle": "2020-11-22T09:03:05.480156Z",
     "shell.execute_reply": "2020-11-22T09:03:05.479413Z"
    },
    "papermill": {
     "duration": 0.231505,
     "end_time": "2020-11-22T09:03:05.480288",
     "exception": false,
     "start_time": "2020-11-22T09:03:05.248783",
     "status": "completed"
    },
    "tags": []
   },
   "outputs": [
    {
     "data": {
      "text/html": [
       "<div>\n",
       "<style scoped>\n",
       "    .dataframe tbody tr th:only-of-type {\n",
       "        vertical-align: middle;\n",
       "    }\n",
       "\n",
       "    .dataframe tbody tr th {\n",
       "        vertical-align: top;\n",
       "    }\n",
       "\n",
       "    .dataframe thead th {\n",
       "        text-align: right;\n",
       "    }\n",
       "</style>\n",
       "<table border=\"1\" class=\"dataframe\">\n",
       "  <thead>\n",
       "    <tr style=\"text-align: right;\">\n",
       "      <th></th>\n",
       "      <th>lineId</th>\n",
       "      <th>chId</th>\n",
       "      <th>mId</th>\n",
       "      <th>chName</th>\n",
       "      <th>dialogue</th>\n",
       "      <th>mName</th>\n",
       "      <th>gender</th>\n",
       "      <th>posCredits</th>\n",
       "      <th>releaseYear</th>\n",
       "    </tr>\n",
       "  </thead>\n",
       "  <tbody>\n",
       "    <tr>\n",
       "      <th>0</th>\n",
       "      <td>L1045</td>\n",
       "      <td>u0</td>\n",
       "      <td>m0</td>\n",
       "      <td>BIANCA</td>\n",
       "      <td>They do not!</td>\n",
       "      <td>10 things i hate about you</td>\n",
       "      <td>1</td>\n",
       "      <td>4</td>\n",
       "      <td>1999.0</td>\n",
       "    </tr>\n",
       "    <tr>\n",
       "      <th>1</th>\n",
       "      <td>L985</td>\n",
       "      <td>u0</td>\n",
       "      <td>m0</td>\n",
       "      <td>BIANCA</td>\n",
       "      <td>I hope so.</td>\n",
       "      <td>10 things i hate about you</td>\n",
       "      <td>1</td>\n",
       "      <td>4</td>\n",
       "      <td>1999.0</td>\n",
       "    </tr>\n",
       "    <tr>\n",
       "      <th>2</th>\n",
       "      <td>L925</td>\n",
       "      <td>u0</td>\n",
       "      <td>m0</td>\n",
       "      <td>BIANCA</td>\n",
       "      <td>Let's go.</td>\n",
       "      <td>10 things i hate about you</td>\n",
       "      <td>1</td>\n",
       "      <td>4</td>\n",
       "      <td>1999.0</td>\n",
       "    </tr>\n",
       "    <tr>\n",
       "      <th>3</th>\n",
       "      <td>L872</td>\n",
       "      <td>u0</td>\n",
       "      <td>m0</td>\n",
       "      <td>BIANCA</td>\n",
       "      <td>Okay -- you're gonna need to learn how to lie.</td>\n",
       "      <td>10 things i hate about you</td>\n",
       "      <td>1</td>\n",
       "      <td>4</td>\n",
       "      <td>1999.0</td>\n",
       "    </tr>\n",
       "    <tr>\n",
       "      <th>4</th>\n",
       "      <td>L869</td>\n",
       "      <td>u0</td>\n",
       "      <td>m0</td>\n",
       "      <td>BIANCA</td>\n",
       "      <td>Like my fear of wearing pastels?</td>\n",
       "      <td>10 things i hate about you</td>\n",
       "      <td>1</td>\n",
       "      <td>4</td>\n",
       "      <td>1999.0</td>\n",
       "    </tr>\n",
       "  </tbody>\n",
       "</table>\n",
       "</div>"
      ],
      "text/plain": [
       "  lineId chId mId  chName                                        dialogue  \\\n",
       "0  L1045   u0  m0  BIANCA                                    They do not!   \n",
       "1   L985   u0  m0  BIANCA                                      I hope so.   \n",
       "2   L925   u0  m0  BIANCA                                       Let's go.   \n",
       "3   L872   u0  m0  BIANCA  Okay -- you're gonna need to learn how to lie.   \n",
       "4   L869   u0  m0  BIANCA                Like my fear of wearing pastels?   \n",
       "\n",
       "                        mName  gender posCredits  releaseYear  \n",
       "0  10 things i hate about you       1          4       1999.0  \n",
       "1  10 things i hate about you       1          4       1999.0  \n",
       "2  10 things i hate about you       1          4       1999.0  \n",
       "3  10 things i hate about you       1          4       1999.0  \n",
       "4  10 things i hate about you       1          4       1999.0  "
      ]
     },
     "execution_count": 16,
     "metadata": {},
     "output_type": "execute_result"
    }
   ],
   "source": [
    "df = pd.merge(df, movie_yr, how='inner', on=['mId'],\n",
    "         left_index=False, right_index=False, sort=True,\n",
    "         copy=False, indicator=False)\n",
    "df.head()"
   ]
  },
  {
   "cell_type": "markdown",
   "metadata": {
    "papermill": {
     "duration": 0.061012,
     "end_time": "2020-11-22T09:03:05.601688",
     "exception": false,
     "start_time": "2020-11-22T09:03:05.540676",
     "status": "completed"
    },
    "tags": []
   },
   "source": [
    "## Feature Engineering\n",
    "- Length of lines\n",
    "- Count of lines\n",
    "- One hot encodings for tokens"
   ]
  },
  {
   "cell_type": "code",
   "execution_count": 17,
   "metadata": {
    "execution": {
     "iopub.execute_input": "2020-11-22T09:03:05.757925Z",
     "iopub.status.busy": "2020-11-22T09:03:05.757073Z",
     "iopub.status.idle": "2020-11-22T09:03:06.432115Z",
     "shell.execute_reply": "2020-11-22T09:03:06.431339Z"
    },
    "papermill": {
     "duration": 0.770025,
     "end_time": "2020-11-22T09:03:06.432241",
     "exception": false,
     "start_time": "2020-11-22T09:03:05.662216",
     "status": "completed"
    },
    "tags": []
   },
   "outputs": [
    {
     "data": {
      "text/html": [
       "<div>\n",
       "<style scoped>\n",
       "    .dataframe tbody tr th:only-of-type {\n",
       "        vertical-align: middle;\n",
       "    }\n",
       "\n",
       "    .dataframe tbody tr th {\n",
       "        vertical-align: top;\n",
       "    }\n",
       "\n",
       "    .dataframe thead th {\n",
       "        text-align: right;\n",
       "    }\n",
       "</style>\n",
       "<table border=\"1\" class=\"dataframe\">\n",
       "  <thead>\n",
       "    <tr style=\"text-align: right;\">\n",
       "      <th></th>\n",
       "      <th>lineId</th>\n",
       "      <th>chId</th>\n",
       "      <th>mId</th>\n",
       "      <th>chName</th>\n",
       "      <th>dialogue</th>\n",
       "      <th>mName</th>\n",
       "      <th>gender</th>\n",
       "      <th>posCredits</th>\n",
       "      <th>releaseYear</th>\n",
       "      <th>lineLength</th>\n",
       "      <th>wordCountLine</th>\n",
       "    </tr>\n",
       "  </thead>\n",
       "  <tbody>\n",
       "    <tr>\n",
       "      <th>0</th>\n",
       "      <td>L1045</td>\n",
       "      <td>u0</td>\n",
       "      <td>m0</td>\n",
       "      <td>BIANCA</td>\n",
       "      <td>They do not!</td>\n",
       "      <td>10 things i hate about you</td>\n",
       "      <td>1</td>\n",
       "      <td>4</td>\n",
       "      <td>1999.0</td>\n",
       "      <td>12</td>\n",
       "      <td>3</td>\n",
       "    </tr>\n",
       "    <tr>\n",
       "      <th>1</th>\n",
       "      <td>L985</td>\n",
       "      <td>u0</td>\n",
       "      <td>m0</td>\n",
       "      <td>BIANCA</td>\n",
       "      <td>I hope so.</td>\n",
       "      <td>10 things i hate about you</td>\n",
       "      <td>1</td>\n",
       "      <td>4</td>\n",
       "      <td>1999.0</td>\n",
       "      <td>10</td>\n",
       "      <td>3</td>\n",
       "    </tr>\n",
       "    <tr>\n",
       "      <th>2</th>\n",
       "      <td>L925</td>\n",
       "      <td>u0</td>\n",
       "      <td>m0</td>\n",
       "      <td>BIANCA</td>\n",
       "      <td>Let's go.</td>\n",
       "      <td>10 things i hate about you</td>\n",
       "      <td>1</td>\n",
       "      <td>4</td>\n",
       "      <td>1999.0</td>\n",
       "      <td>9</td>\n",
       "      <td>2</td>\n",
       "    </tr>\n",
       "    <tr>\n",
       "      <th>3</th>\n",
       "      <td>L872</td>\n",
       "      <td>u0</td>\n",
       "      <td>m0</td>\n",
       "      <td>BIANCA</td>\n",
       "      <td>Okay -- you're gonna need to learn how to lie.</td>\n",
       "      <td>10 things i hate about you</td>\n",
       "      <td>1</td>\n",
       "      <td>4</td>\n",
       "      <td>1999.0</td>\n",
       "      <td>46</td>\n",
       "      <td>10</td>\n",
       "    </tr>\n",
       "    <tr>\n",
       "      <th>4</th>\n",
       "      <td>L869</td>\n",
       "      <td>u0</td>\n",
       "      <td>m0</td>\n",
       "      <td>BIANCA</td>\n",
       "      <td>Like my fear of wearing pastels?</td>\n",
       "      <td>10 things i hate about you</td>\n",
       "      <td>1</td>\n",
       "      <td>4</td>\n",
       "      <td>1999.0</td>\n",
       "      <td>32</td>\n",
       "      <td>6</td>\n",
       "    </tr>\n",
       "  </tbody>\n",
       "</table>\n",
       "</div>"
      ],
      "text/plain": [
       "  lineId chId mId  chName                                        dialogue  \\\n",
       "0  L1045   u0  m0  BIANCA                                    They do not!   \n",
       "1   L985   u0  m0  BIANCA                                      I hope so.   \n",
       "2   L925   u0  m0  BIANCA                                       Let's go.   \n",
       "3   L872   u0  m0  BIANCA  Okay -- you're gonna need to learn how to lie.   \n",
       "4   L869   u0  m0  BIANCA                Like my fear of wearing pastels?   \n",
       "\n",
       "                        mName  gender posCredits  releaseYear  lineLength  \\\n",
       "0  10 things i hate about you       1          4       1999.0          12   \n",
       "1  10 things i hate about you       1          4       1999.0          10   \n",
       "2  10 things i hate about you       1          4       1999.0           9   \n",
       "3  10 things i hate about you       1          4       1999.0          46   \n",
       "4  10 things i hate about you       1          4       1999.0          32   \n",
       "\n",
       "   wordCountLine  \n",
       "0              3  \n",
       "1              3  \n",
       "2              2  \n",
       "3             10  \n",
       "4              6  "
      ]
     },
     "execution_count": 17,
     "metadata": {},
     "output_type": "execute_result"
    }
   ],
   "source": [
    "df['lineLength'] = df.dialogue.str.len()             ## Length of each line by characters\n",
    "df['wordCountLine'] = df.dialogue.str.count(' ') + 1 ## Length of each line by words\n",
    "df.head()"
   ]
  },
  {
   "cell_type": "markdown",
   "metadata": {
    "_cell_guid": "148e0738-b6b9-430a-9422-ae25fd333b08",
    "_execution_state": "idle",
    "_uuid": "d92104ea9b45d32e11e6a98ba54e0ce3435e0423",
    "papermill": {
     "duration": 0.061497,
     "end_time": "2020-11-22T09:03:06.555089",
     "exception": false,
     "start_time": "2020-11-22T09:03:06.493592",
     "status": "completed"
    },
    "tags": []
   },
   "source": [
    "Next, let's convert the dialogues into clean tokens \n",
    "<ol>\n",
    "<li>Remove Stopwords : because they occur very often, but serve no meaning. e.g. : is,am,are,the.</li>\n",
    "<li>Turn all word to smaller cases : I, i -> i</li>\n",
    "<li>walk,walks -> walk or geographical,geographic -> geographic</li>  #Lemmatization\n",
    "</ol>"
   ]
  },
  {
   "cell_type": "code",
   "execution_count": 18,
   "metadata": {
    "_cell_guid": "89aa9060-2445-4acc-bd60-62209f3665c8",
    "_execution_state": "idle",
    "_uuid": "00118e2a30edd69887dc071c4a01cdada680d594",
    "execution": {
     "iopub.execute_input": "2020-11-22T09:03:06.689740Z",
     "iopub.status.busy": "2020-11-22T09:03:06.688978Z",
     "iopub.status.idle": "2020-11-22T09:04:00.081673Z",
     "shell.execute_reply": "2020-11-22T09:04:00.082289Z"
    },
    "papermill": {
     "duration": 53.464961,
     "end_time": "2020-11-22T09:04:00.082461",
     "exception": false,
     "start_time": "2020-11-22T09:03:06.617500",
     "status": "completed"
    },
    "tags": []
   },
   "outputs": [
    {
     "data": {
      "text/html": [
       "<div>\n",
       "<style scoped>\n",
       "    .dataframe tbody tr th:only-of-type {\n",
       "        vertical-align: middle;\n",
       "    }\n",
       "\n",
       "    .dataframe tbody tr th {\n",
       "        vertical-align: top;\n",
       "    }\n",
       "\n",
       "    .dataframe thead th {\n",
       "        text-align: right;\n",
       "    }\n",
       "</style>\n",
       "<table border=\"1\" class=\"dataframe\">\n",
       "  <thead>\n",
       "    <tr style=\"text-align: right;\">\n",
       "      <th></th>\n",
       "      <th>cleaned_dialogue</th>\n",
       "      <th>dialogue</th>\n",
       "    </tr>\n",
       "  </thead>\n",
       "  <tbody>\n",
       "    <tr>\n",
       "      <th>0</th>\n",
       "      <td></td>\n",
       "      <td>They do not!</td>\n",
       "    </tr>\n",
       "    <tr>\n",
       "      <th>1</th>\n",
       "      <td>hope</td>\n",
       "      <td>I hope so.</td>\n",
       "    </tr>\n",
       "    <tr>\n",
       "      <th>2</th>\n",
       "      <td>let go</td>\n",
       "      <td>Let's go.</td>\n",
       "    </tr>\n",
       "    <tr>\n",
       "      <th>3</th>\n",
       "      <td>okay gonna need learn lie</td>\n",
       "      <td>Okay -- you're gonna need to learn how to lie.</td>\n",
       "    </tr>\n",
       "    <tr>\n",
       "      <th>4</th>\n",
       "      <td>like fear wearing pastel</td>\n",
       "      <td>Like my fear of wearing pastels?</td>\n",
       "    </tr>\n",
       "  </tbody>\n",
       "</table>\n",
       "</div>"
      ],
      "text/plain": [
       "            cleaned_dialogue                                        dialogue\n",
       "0                                                               They do not!\n",
       "1                       hope                                      I hope so.\n",
       "2                     let go                                       Let's go.\n",
       "3  okay gonna need learn lie  Okay -- you're gonna need to learn how to lie.\n",
       "4   like fear wearing pastel                Like my fear of wearing pastels?"
      ]
     },
     "execution_count": 18,
     "metadata": {},
     "output_type": "execute_result"
    }
   ],
   "source": [
    "wordnet_lemmatizer = WordNetLemmatizer()\n",
    "def clean_dialogue( dialogue ):\n",
    "    # Function to convert a raw review to a string of words\n",
    "    # The input is a single string (a raw movie review), and \n",
    "    # the output is a single string (a preprocessed movie review)\n",
    "    # Source : https://www.kaggle.com/akerlyn/wordcloud-based-on-character\n",
    "    #\n",
    "    # 1. Remove HTML\n",
    "    #\n",
    "    # 2. Remove non-letters        \n",
    "    letters_only = re.sub(\"[^a-zA-Z]\", \" \", dialogue) \n",
    "    #\n",
    "    # 3. Convert to lower case, split into individual words\n",
    "    words = letters_only.lower().split()                             \n",
    "    #\n",
    "    # 4. In Python, searching a set is much faster than searching\n",
    "    #   a list, so convert the stop words to a set\n",
    "    stops = set(stopwords.words(\"english\"))   \n",
    "    \n",
    "    # 5. Use lemmatization and remove stop words\n",
    "    meaningful_words = [wordnet_lemmatizer.lemmatize(w) for w in words if not w in stops]   \n",
    "    #\n",
    "    # 6. Join the words back into one string separated by space, \n",
    "    # and return the result.\n",
    "    return( \" \".join( meaningful_words ))\n",
    "\n",
    "df['cleaned_dialogue'] = df['dialogue'].apply(clean_dialogue)\n",
    "df[['cleaned_dialogue','dialogue']].head()"
   ]
  },
  {
   "cell_type": "markdown",
   "metadata": {
    "papermill": {
     "duration": 0.061601,
     "end_time": "2020-11-22T09:04:00.206614",
     "exception": false,
     "start_time": "2020-11-22T09:04:00.145013",
     "status": "completed"
    },
    "tags": []
   },
   "source": [
    "### Create training dataset\n",
    "Now, we can aggregate all data for a particular movie character into 1 record. We will combine their dialogue tokens from the entire movie, calculate their median dialogue length by characters & words, and count their total no of lines in the movie."
   ]
  },
  {
   "cell_type": "code",
   "execution_count": 19,
   "metadata": {
    "execution": {
     "iopub.execute_input": "2020-11-22T09:04:00.341291Z",
     "iopub.status.busy": "2020-11-22T09:04:00.340514Z",
     "iopub.status.idle": "2020-11-22T09:04:00.664218Z",
     "shell.execute_reply": "2020-11-22T09:04:00.663462Z"
    },
    "papermill": {
     "duration": 0.395413,
     "end_time": "2020-11-22T09:04:00.664349",
     "exception": false,
     "start_time": "2020-11-22T09:04:00.268936",
     "status": "completed"
    },
    "tags": []
   },
   "outputs": [
    {
     "data": {
      "text/html": [
       "<div>\n",
       "<style scoped>\n",
       "    .dataframe tbody tr th:only-of-type {\n",
       "        vertical-align: middle;\n",
       "    }\n",
       "\n",
       "    .dataframe tbody tr th {\n",
       "        vertical-align: top;\n",
       "    }\n",
       "\n",
       "    .dataframe thead th {\n",
       "        text-align: right;\n",
       "    }\n",
       "</style>\n",
       "<table border=\"1\" class=\"dataframe\">\n",
       "  <thead>\n",
       "    <tr style=\"text-align: right;\">\n",
       "      <th></th>\n",
       "      <th>chId</th>\n",
       "      <th>mId</th>\n",
       "      <th>chName</th>\n",
       "      <th>gender</th>\n",
       "      <th>posCredits</th>\n",
       "      <th>releaseYear</th>\n",
       "      <th>lineLength_median</th>\n",
       "      <th>wordCountLine_median</th>\n",
       "      <th>chId_count</th>\n",
       "      <th>cleaned_dialogue_&lt;lambda&gt;</th>\n",
       "    </tr>\n",
       "  </thead>\n",
       "  <tbody>\n",
       "    <tr>\n",
       "      <th>0</th>\n",
       "      <td>u0</td>\n",
       "      <td>m0</td>\n",
       "      <td>BIANCA</td>\n",
       "      <td>1</td>\n",
       "      <td>4</td>\n",
       "      <td>1999.0</td>\n",
       "      <td>34.0</td>\n",
       "      <td>7.0</td>\n",
       "      <td>94</td>\n",
       "      <td>hope let go okay gonna need learn lie like fe...</td>\n",
       "    </tr>\n",
       "    <tr>\n",
       "      <th>1</th>\n",
       "      <td>u100</td>\n",
       "      <td>m6</td>\n",
       "      <td>AMY</td>\n",
       "      <td>1</td>\n",
       "      <td>7</td>\n",
       "      <td>1999.0</td>\n",
       "      <td>23.0</td>\n",
       "      <td>4.0</td>\n",
       "      <td>31</td>\n",
       "      <td>died sleep three day ago paper tom dead  calli...</td>\n",
       "    </tr>\n",
       "    <tr>\n",
       "      <th>2</th>\n",
       "      <td>u1003</td>\n",
       "      <td>m65</td>\n",
       "      <td>RICHARD</td>\n",
       "      <td>0</td>\n",
       "      <td>3</td>\n",
       "      <td>1996.0</td>\n",
       "      <td>24.5</td>\n",
       "      <td>5.0</td>\n",
       "      <td>70</td>\n",
       "      <td>asked would said room room serious foolin arou...</td>\n",
       "    </tr>\n",
       "    <tr>\n",
       "      <th>3</th>\n",
       "      <td>u1005</td>\n",
       "      <td>m65</td>\n",
       "      <td>SETH</td>\n",
       "      <td>0</td>\n",
       "      <td>2</td>\n",
       "      <td>1996.0</td>\n",
       "      <td>37.0</td>\n",
       "      <td>8.0</td>\n",
       "      <td>163</td>\n",
       "      <td>let follow said new jesus christ carlos brothe...</td>\n",
       "    </tr>\n",
       "    <tr>\n",
       "      <th>4</th>\n",
       "      <td>u1008</td>\n",
       "      <td>m66</td>\n",
       "      <td>C.O.</td>\n",
       "      <td>0</td>\n",
       "      <td>10+</td>\n",
       "      <td>1997.0</td>\n",
       "      <td>48.0</td>\n",
       "      <td>9.0</td>\n",
       "      <td>33</td>\n",
       "      <td>course uh v p security arrangement generally t...</td>\n",
       "    </tr>\n",
       "    <tr>\n",
       "      <th>...</th>\n",
       "      <td>...</td>\n",
       "      <td>...</td>\n",
       "      <td>...</td>\n",
       "      <td>...</td>\n",
       "      <td>...</td>\n",
       "      <td>...</td>\n",
       "      <td>...</td>\n",
       "      <td>...</td>\n",
       "      <td>...</td>\n",
       "      <td>...</td>\n",
       "    </tr>\n",
       "    <tr>\n",
       "      <th>2946</th>\n",
       "      <td>u980</td>\n",
       "      <td>m63</td>\n",
       "      <td>VICTOR</td>\n",
       "      <td>0</td>\n",
       "      <td>3</td>\n",
       "      <td>1931.0</td>\n",
       "      <td>32.0</td>\n",
       "      <td>6.0</td>\n",
       "      <td>126</td>\n",
       "      <td>never said name remembers  kill draw line take...</td>\n",
       "    </tr>\n",
       "    <tr>\n",
       "      <th>2947</th>\n",
       "      <td>u983</td>\n",
       "      <td>m64</td>\n",
       "      <td>ALICE</td>\n",
       "      <td>1</td>\n",
       "      <td>10+</td>\n",
       "      <td>2009.0</td>\n",
       "      <td>30.0</td>\n",
       "      <td>6.0</td>\n",
       "      <td>51</td>\n",
       "      <td>maybe wait mr christy killer still bill bill b...</td>\n",
       "    </tr>\n",
       "    <tr>\n",
       "      <th>2948</th>\n",
       "      <td>u985</td>\n",
       "      <td>m64</td>\n",
       "      <td>BILL</td>\n",
       "      <td>0</td>\n",
       "      <td>10+</td>\n",
       "      <td>2009.0</td>\n",
       "      <td>20.0</td>\n",
       "      <td>4.0</td>\n",
       "      <td>39</td>\n",
       "      <td>twenty mile crossroad steve back hour thing st...</td>\n",
       "    </tr>\n",
       "    <tr>\n",
       "      <th>2949</th>\n",
       "      <td>u997</td>\n",
       "      <td>m65</td>\n",
       "      <td>JACOB</td>\n",
       "      <td>0</td>\n",
       "      <td>1</td>\n",
       "      <td>1996.0</td>\n",
       "      <td>36.0</td>\n",
       "      <td>6.0</td>\n",
       "      <td>90</td>\n",
       "      <td>meant son daughter oh daughter bathroom vacati...</td>\n",
       "    </tr>\n",
       "    <tr>\n",
       "      <th>2950</th>\n",
       "      <td>u998</td>\n",
       "      <td>m65</td>\n",
       "      <td>KATE</td>\n",
       "      <td>1</td>\n",
       "      <td>4</td>\n",
       "      <td>1996.0</td>\n",
       "      <td>20.0</td>\n",
       "      <td>4.5</td>\n",
       "      <td>44</td>\n",
       "      <td>everybody go home going em swear god father ch...</td>\n",
       "    </tr>\n",
       "  </tbody>\n",
       "</table>\n",
       "<p>2951 rows × 10 columns</p>\n",
       "</div>"
      ],
      "text/plain": [
       "       chId  mId   chName  gender posCredits  releaseYear  lineLength_median  \\\n",
       "0        u0   m0   BIANCA       1          4       1999.0               34.0   \n",
       "1      u100   m6      AMY       1          7       1999.0               23.0   \n",
       "2     u1003  m65  RICHARD       0          3       1996.0               24.5   \n",
       "3     u1005  m65     SETH       0          2       1996.0               37.0   \n",
       "4     u1008  m66     C.O.       0        10+       1997.0               48.0   \n",
       "...     ...  ...      ...     ...        ...          ...                ...   \n",
       "2946   u980  m63   VICTOR       0          3       1931.0               32.0   \n",
       "2947   u983  m64    ALICE       1        10+       2009.0               30.0   \n",
       "2948   u985  m64     BILL       0        10+       2009.0               20.0   \n",
       "2949   u997  m65    JACOB       0          1       1996.0               36.0   \n",
       "2950   u998  m65     KATE       1          4       1996.0               20.0   \n",
       "\n",
       "      wordCountLine_median  chId_count  \\\n",
       "0                      7.0          94   \n",
       "1                      4.0          31   \n",
       "2                      5.0          70   \n",
       "3                      8.0         163   \n",
       "4                      9.0          33   \n",
       "...                    ...         ...   \n",
       "2946                   6.0         126   \n",
       "2947                   6.0          51   \n",
       "2948                   4.0          39   \n",
       "2949                   6.0          90   \n",
       "2950                   4.5          44   \n",
       "\n",
       "                              cleaned_dialogue_<lambda>  \n",
       "0      hope let go okay gonna need learn lie like fe...  \n",
       "1     died sleep three day ago paper tom dead  calli...  \n",
       "2     asked would said room room serious foolin arou...  \n",
       "3     let follow said new jesus christ carlos brothe...  \n",
       "4     course uh v p security arrangement generally t...  \n",
       "...                                                 ...  \n",
       "2946  never said name remembers  kill draw line take...  \n",
       "2947  maybe wait mr christy killer still bill bill b...  \n",
       "2948  twenty mile crossroad steve back hour thing st...  \n",
       "2949  meant son daughter oh daughter bathroom vacati...  \n",
       "2950  everybody go home going em swear god father ch...  \n",
       "\n",
       "[2951 rows x 10 columns]"
      ]
     },
     "execution_count": 19,
     "metadata": {},
     "output_type": "execute_result"
    }
   ],
   "source": [
    "train = df.groupby(['chId', 'mId', 'chName', 'gender', 'posCredits','releaseYear']). \\\n",
    "            agg({'lineLength' : ['median'], \n",
    "                 'wordCountLine' : ['median'],\n",
    "                 'chId' : ['count'],\n",
    "                 'cleaned_dialogue' : [lambda x : ' '.join(x)]\n",
    "                })\n",
    "\n",
    "## Renaming columns by aggregate functions\n",
    "train.columns = [\"_\".join(x) for x in train.columns.ravel()]\n",
    "\n",
    "train.reset_index(inplace=True)\n",
    "train"
   ]
  },
  {
   "cell_type": "markdown",
   "metadata": {
    "papermill": {
     "duration": 0.062654,
     "end_time": "2020-11-22T09:04:00.790724",
     "exception": false,
     "start_time": "2020-11-22T09:04:00.728070",
     "status": "completed"
    },
    "tags": []
   },
   "source": [
    "### Let's check some feature distributions by gender"
   ]
  },
  {
   "cell_type": "code",
   "execution_count": 20,
   "metadata": {
    "execution": {
     "iopub.execute_input": "2020-11-22T09:04:00.975927Z",
     "iopub.status.busy": "2020-11-22T09:04:00.975149Z",
     "iopub.status.idle": "2020-11-22T09:04:01.204676Z",
     "shell.execute_reply": "2020-11-22T09:04:01.205315Z"
    },
    "papermill": {
     "duration": 0.30112,
     "end_time": "2020-11-22T09:04:01.205477",
     "exception": false,
     "start_time": "2020-11-22T09:04:00.904357",
     "status": "completed"
    },
    "tags": []
   },
   "outputs": [
    {
     "data": {
      "text/plain": [
       "<matplotlib.axes._subplots.AxesSubplot at 0x7fe92d3d57d0>"
      ]
     },
     "execution_count": 20,
     "metadata": {},
     "output_type": "execute_result"
    },
    {
     "data": {
      "image/png": "[encoded data removed]",
      "text/plain": [
       "<Figure size 432x288 with 1 Axes>"
      ]
     },
     "metadata": {
      "needs_background": "light"
     },
     "output_type": "display_data"
    }
   ],
   "source": [
    "sns.boxplot(data = train, x = 'gender', y = 'chId_count', hue = 'gender')"
   ]
  },
  {
   "cell_type": "code",
   "execution_count": 21,
   "metadata": {
    "execution": {
     "iopub.execute_input": "2020-11-22T09:04:01.343709Z",
     "iopub.status.busy": "2020-11-22T09:04:01.342916Z",
     "iopub.status.idle": "2020-11-22T09:04:01.523727Z",
     "shell.execute_reply": "2020-11-22T09:04:01.523091Z"
    },
    "papermill": {
     "duration": 0.252262,
     "end_time": "2020-11-22T09:04:01.523881",
     "exception": false,
     "start_time": "2020-11-22T09:04:01.271619",
     "status": "completed"
    },
    "tags": []
   },
   "outputs": [
    {
     "data": {
      "text/plain": [
       "<matplotlib.axes._subplots.AxesSubplot at 0x7fe92d108550>"
      ]
     },
     "execution_count": 21,
     "metadata": {},
     "output_type": "execute_result"
    },
    {
     "data": {
      "image/png": "[encoded data removed]",
      "text/plain": [
       "<Figure size 432x288 with 1 Axes>"
      ]
     },
     "metadata": {
      "needs_background": "light"
     },
     "output_type": "display_data"
    }
   ],
   "source": [
    "sns.boxplot(data = train, x = 'gender', y = 'wordCountLine_median', hue = 'gender')"
   ]
  },
  {
   "cell_type": "code",
   "execution_count": 22,
   "metadata": {
    "execution": {
     "iopub.execute_input": "2020-11-22T09:04:01.662875Z",
     "iopub.status.busy": "2020-11-22T09:04:01.662026Z",
     "iopub.status.idle": "2020-11-22T09:04:01.833345Z",
     "shell.execute_reply": "2020-11-22T09:04:01.832666Z"
    },
    "papermill": {
     "duration": 0.243649,
     "end_time": "2020-11-22T09:04:01.833496",
     "exception": false,
     "start_time": "2020-11-22T09:04:01.589847",
     "status": "completed"
    },
    "tags": []
   },
   "outputs": [
    {
     "data": {
      "text/plain": [
       "<matplotlib.axes._subplots.AxesSubplot at 0x7fe92d0a1dd0>"
      ]
     },
     "execution_count": 22,
     "metadata": {},
     "output_type": "execute_result"
    },
    {
     "data": {
      "image/png": "[encoded data removed]",
      "text/plain": [
       "<Figure size 432x288 with 1 Axes>"
      ]
     },
     "metadata": {
      "needs_background": "light"
     },
     "output_type": "display_data"
    }
   ],
   "source": [
    "sns.boxplot(data = train, x = 'gender', y = 'lineLength_median', hue = 'gender')"
   ]
  },
  {
   "cell_type": "code",
   "execution_count": 23,
   "metadata": {
    "execution": {
     "iopub.execute_input": "2020-11-22T09:04:01.998111Z",
     "iopub.status.busy": "2020-11-22T09:04:01.982755Z",
     "iopub.status.idle": "2020-11-22T09:04:02.308134Z",
     "shell.execute_reply": "2020-11-22T09:04:02.307467Z"
    },
    "papermill": {
     "duration": 0.405758,
     "end_time": "2020-11-22T09:04:02.308255",
     "exception": false,
     "start_time": "2020-11-22T09:04:01.902497",
     "status": "completed"
    },
    "tags": []
   },
   "outputs": [
    {
     "data": {
      "text/plain": [
       "<matplotlib.axes._subplots.AxesSubplot at 0x7fe93902b810>"
      ]
     },
     "execution_count": 23,
     "metadata": {},
     "output_type": "execute_result"
    },
    {
     "data": {
      "image/png": "[encoded data removed]",
      "text/plain": [
       "<Figure size 432x288 with 1 Axes>"
      ]
     },
     "metadata": {
      "needs_background": "light"
     },
     "output_type": "display_data"
    }
   ],
   "source": [
    "sns.scatterplot(data = train, x = 'wordCountLine_median', y = 'chId_count', hue = 'gender', alpha = 0.5) "
   ]
  },
  {
   "cell_type": "markdown",
   "metadata": {
    "papermill": {
     "duration": 0.069453,
     "end_time": "2020-11-22T09:04:02.447793",
     "exception": false,
     "start_time": "2020-11-22T09:04:02.378340",
     "status": "completed"
    },
    "tags": []
   },
   "source": [
    "### Train test split\n",
    "\n",
    "Now, we can split our data into a training set & a validation set."
   ]
  },
  {
   "cell_type": "code",
   "execution_count": 24,
   "metadata": {
    "execution": {
     "iopub.execute_input": "2020-11-22T09:04:02.596593Z",
     "iopub.status.busy": "2020-11-22T09:04:02.595297Z",
     "iopub.status.idle": "2020-11-22T09:04:02.617232Z",
     "shell.execute_reply": "2020-11-22T09:04:02.616566Z"
    },
    "papermill": {
     "duration": 0.099651,
     "end_time": "2020-11-22T09:04:02.617374",
     "exception": false,
     "start_time": "2020-11-22T09:04:02.517723",
     "status": "completed"
    },
    "tags": []
   },
   "outputs": [
    {
     "data": {
      "text/html": [
       "<div>\n",
       "<style scoped>\n",
       "    .dataframe tbody tr th:only-of-type {\n",
       "        vertical-align: middle;\n",
       "    }\n",
       "\n",
       "    .dataframe tbody tr th {\n",
       "        vertical-align: top;\n",
       "    }\n",
       "\n",
       "    .dataframe thead th {\n",
       "        text-align: right;\n",
       "    }\n",
       "</style>\n",
       "<table border=\"1\" class=\"dataframe\">\n",
       "  <thead>\n",
       "    <tr style=\"text-align: right;\">\n",
       "      <th></th>\n",
       "      <th>posCredits</th>\n",
       "      <th>releaseYear</th>\n",
       "      <th>lineLength_median</th>\n",
       "      <th>wordCountLine_median</th>\n",
       "      <th>chId_count</th>\n",
       "      <th>cleaned_dialogue_&lt;lambda&gt;</th>\n",
       "    </tr>\n",
       "  </thead>\n",
       "  <tbody>\n",
       "    <tr>\n",
       "      <th>0</th>\n",
       "      <td>4</td>\n",
       "      <td>1999.0</td>\n",
       "      <td>34.0</td>\n",
       "      <td>7.0</td>\n",
       "      <td>94</td>\n",
       "      <td>hope let go okay gonna need learn lie like fe...</td>\n",
       "    </tr>\n",
       "    <tr>\n",
       "      <th>1</th>\n",
       "      <td>7</td>\n",
       "      <td>1999.0</td>\n",
       "      <td>23.0</td>\n",
       "      <td>4.0</td>\n",
       "      <td>31</td>\n",
       "      <td>died sleep three day ago paper tom dead  calli...</td>\n",
       "    </tr>\n",
       "    <tr>\n",
       "      <th>2</th>\n",
       "      <td>3</td>\n",
       "      <td>1996.0</td>\n",
       "      <td>24.5</td>\n",
       "      <td>5.0</td>\n",
       "      <td>70</td>\n",
       "      <td>asked would said room room serious foolin arou...</td>\n",
       "    </tr>\n",
       "    <tr>\n",
       "      <th>3</th>\n",
       "      <td>2</td>\n",
       "      <td>1996.0</td>\n",
       "      <td>37.0</td>\n",
       "      <td>8.0</td>\n",
       "      <td>163</td>\n",
       "      <td>let follow said new jesus christ carlos brothe...</td>\n",
       "    </tr>\n",
       "    <tr>\n",
       "      <th>4</th>\n",
       "      <td>10+</td>\n",
       "      <td>1997.0</td>\n",
       "      <td>48.0</td>\n",
       "      <td>9.0</td>\n",
       "      <td>33</td>\n",
       "      <td>course uh v p security arrangement generally t...</td>\n",
       "    </tr>\n",
       "  </tbody>\n",
       "</table>\n",
       "</div>"
      ],
      "text/plain": [
       "  posCredits  releaseYear  lineLength_median  wordCountLine_median  \\\n",
       "0          4       1999.0               34.0                   7.0   \n",
       "1          7       1999.0               23.0                   4.0   \n",
       "2          3       1996.0               24.5                   5.0   \n",
       "3          2       1996.0               37.0                   8.0   \n",
       "4        10+       1997.0               48.0                   9.0   \n",
       "\n",
       "   chId_count                          cleaned_dialogue_<lambda>  \n",
       "0          94   hope let go okay gonna need learn lie like fe...  \n",
       "1          31  died sleep three day ago paper tom dead  calli...  \n",
       "2          70  asked would said room room serious foolin arou...  \n",
       "3         163  let follow said new jesus christ carlos brothe...  \n",
       "4          33  course uh v p security arrangement generally t...  "
      ]
     },
     "execution_count": 24,
     "metadata": {},
     "output_type": "execute_result"
    }
   ],
   "source": [
    "## Separating labels from features\n",
    "y = train['gender']\n",
    "X = train.copy()\n",
    "X.drop('gender', axis=1, inplace=True)\n",
    "\n",
    "## Removing unnecessary columns\n",
    "X.drop('chId', axis=1, inplace=True)\n",
    "X.drop('mId', axis=1, inplace=True)\n",
    "X.drop('chName', axis=1, inplace=True)\n",
    "X.head()"
   ]
  },
  {
   "cell_type": "markdown",
   "metadata": {
    "papermill": {
     "duration": 0.071535,
     "end_time": "2020-11-22T09:04:02.760923",
     "exception": false,
     "start_time": "2020-11-22T09:04:02.689388",
     "status": "completed"
    },
    "tags": []
   },
   "source": [
    "We will pick equal no of records for both male & female characters to avoid any kind of bias due to no of records."
   ]
  },
  {
   "cell_type": "code",
   "execution_count": 25,
   "metadata": {
    "execution": {
     "iopub.execute_input": "2020-11-22T09:04:02.913013Z",
     "iopub.status.busy": "2020-11-22T09:04:02.909816Z",
     "iopub.status.idle": "2020-11-22T09:04:02.926829Z",
     "shell.execute_reply": "2020-11-22T09:04:02.926210Z"
    },
    "papermill": {
     "duration": 0.094973,
     "end_time": "2020-11-22T09:04:02.926960",
     "exception": false,
     "start_time": "2020-11-22T09:04:02.831987",
     "status": "completed"
    },
    "tags": []
   },
   "outputs": [
    {
     "data": {
      "text/plain": [
       "1    948\n",
       "0    948\n",
       "Name: gender, dtype: int64"
      ]
     },
     "execution_count": 25,
     "metadata": {},
     "output_type": "execute_result"
    }
   ],
   "source": [
    "undersample = RandomUnderSampler(sampling_strategy='majority')\n",
    "X_under, y_under = undersample.fit_resample(X, y)\n",
    "y_under.value_counts()"
   ]
  },
  {
   "cell_type": "markdown",
   "metadata": {
    "papermill": {
     "duration": 0.072098,
     "end_time": "2020-11-22T09:04:03.071600",
     "exception": false,
     "start_time": "2020-11-22T09:04:02.999502",
     "status": "completed"
    },
    "tags": []
   },
   "source": [
    "We'll also try to keep equal no of male & female records in the train & validation datasets"
   ]
  },
  {
   "cell_type": "code",
   "execution_count": 26,
   "metadata": {
    "execution": {
     "iopub.execute_input": "2020-11-22T09:04:03.222882Z",
     "iopub.status.busy": "2020-11-22T09:04:03.221946Z",
     "iopub.status.idle": "2020-11-22T09:04:03.234612Z",
     "shell.execute_reply": "2020-11-22T09:04:03.233954Z"
    },
    "papermill": {
     "duration": 0.091337,
     "end_time": "2020-11-22T09:04:03.234756",
     "exception": false,
     "start_time": "2020-11-22T09:04:03.143419",
     "status": "completed"
    },
    "tags": []
   },
   "outputs": [
    {
     "data": {
      "text/plain": [
       "1    190\n",
       "0    190\n",
       "Name: gender, dtype: int64"
      ]
     },
     "execution_count": 26,
     "metadata": {},
     "output_type": "execute_result"
    }
   ],
   "source": [
    "X_train, X_val, y_train, y_val = train_test_split(X_under, y_under, test_size=0.2, random_state = 10, stratify=y_under)\n",
    "\n",
    "y_val.value_counts()"
   ]
  },
  {
   "cell_type": "code",
   "execution_count": 27,
   "metadata": {
    "execution": {
     "iopub.execute_input": "2020-11-22T09:04:03.394972Z",
     "iopub.status.busy": "2020-11-22T09:04:03.393750Z",
     "iopub.status.idle": "2020-11-22T09:04:03.398298Z",
     "shell.execute_reply": "2020-11-22T09:04:03.397559Z"
    },
    "papermill": {
     "duration": 0.091414,
     "end_time": "2020-11-22T09:04:03.398420",
     "exception": false,
     "start_time": "2020-11-22T09:04:03.307006",
     "status": "completed"
    },
    "tags": []
   },
   "outputs": [
    {
     "data": {
      "text/html": [
       "<div>\n",
       "<style scoped>\n",
       "    .dataframe tbody tr th:only-of-type {\n",
       "        vertical-align: middle;\n",
       "    }\n",
       "\n",
       "    .dataframe tbody tr th {\n",
       "        vertical-align: top;\n",
       "    }\n",
       "\n",
       "    .dataframe thead th {\n",
       "        text-align: right;\n",
       "    }\n",
       "</style>\n",
       "<table border=\"1\" class=\"dataframe\">\n",
       "  <thead>\n",
       "    <tr style=\"text-align: right;\">\n",
       "      <th></th>\n",
       "      <th>posCredits</th>\n",
       "      <th>releaseYear</th>\n",
       "      <th>lineLength_median</th>\n",
       "      <th>wordCountLine_median</th>\n",
       "      <th>chId_count</th>\n",
       "      <th>cleaned_dialogue_&lt;lambda&gt;</th>\n",
       "    </tr>\n",
       "  </thead>\n",
       "  <tbody>\n",
       "    <tr>\n",
       "      <th>1236</th>\n",
       "      <td>2</td>\n",
       "      <td>2001.0</td>\n",
       "      <td>33.0</td>\n",
       "      <td>6.0</td>\n",
       "      <td>60</td>\n",
       "      <td>latitude degree  maybe satellite said three ye...</td>\n",
       "    </tr>\n",
       "    <tr>\n",
       "      <th>924</th>\n",
       "      <td>10+</td>\n",
       "      <td>1974.0</td>\n",
       "      <td>23.0</td>\n",
       "      <td>5.0</td>\n",
       "      <td>23</td>\n",
       "      <td>sure okay okay got boat plus owe know oh gee m...</td>\n",
       "    </tr>\n",
       "    <tr>\n",
       "      <th>868</th>\n",
       "      <td>4</td>\n",
       "      <td>2001.0</td>\n",
       "      <td>34.0</td>\n",
       "      <td>6.0</td>\n",
       "      <td>34</td>\n",
       "      <td>going coast alan idea alive headed need stick...</td>\n",
       "    </tr>\n",
       "    <tr>\n",
       "      <th>363</th>\n",
       "      <td>1</td>\n",
       "      <td>1999.0</td>\n",
       "      <td>33.0</td>\n",
       "      <td>7.0</td>\n",
       "      <td>146</td>\n",
       "      <td>poor woman carole wound could hope pacify evas...</td>\n",
       "    </tr>\n",
       "    <tr>\n",
       "      <th>989</th>\n",
       "      <td>10+</td>\n",
       "      <td>2000.0</td>\n",
       "      <td>42.0</td>\n",
       "      <td>8.0</td>\n",
       "      <td>15</td>\n",
       "      <td>okay took trouble come got principle selling o...</td>\n",
       "    </tr>\n",
       "  </tbody>\n",
       "</table>\n",
       "</div>"
      ],
      "text/plain": [
       "     posCredits  releaseYear  lineLength_median  wordCountLine_median  \\\n",
       "1236          2       2001.0               33.0                   6.0   \n",
       "924         10+       1974.0               23.0                   5.0   \n",
       "868           4       2001.0               34.0                   6.0   \n",
       "363           1       1999.0               33.0                   7.0   \n",
       "989         10+       2000.0               42.0                   8.0   \n",
       "\n",
       "      chId_count                          cleaned_dialogue_<lambda>  \n",
       "1236          60  latitude degree  maybe satellite said three ye...  \n",
       "924           23  sure okay okay got boat plus owe know oh gee m...  \n",
       "868           34   going coast alan idea alive headed need stick...  \n",
       "363          146  poor woman carole wound could hope pacify evas...  \n",
       "989           15  okay took trouble come got principle selling o...  "
      ]
     },
     "execution_count": 27,
     "metadata": {},
     "output_type": "execute_result"
    }
   ],
   "source": [
    "X_val.head()"
   ]
  },
  {
   "cell_type": "markdown",
   "metadata": {
    "papermill": {
     "duration": 0.072954,
     "end_time": "2020-11-22T09:04:03.544381",
     "exception": false,
     "start_time": "2020-11-22T09:04:03.471427",
     "status": "completed"
    },
    "tags": []
   },
   "source": [
    "### Pipeline for classifiers\n",
    "\n",
    "Since our dataset includes both numerical features & NLP tokens, we'll use a special converter class in our pipeline."
   ]
  },
  {
   "cell_type": "code",
   "execution_count": 28,
   "metadata": {
    "execution": {
     "iopub.execute_input": "2020-11-22T09:04:03.699262Z",
     "iopub.status.busy": "2020-11-22T09:04:03.698326Z",
     "iopub.status.idle": "2020-11-22T09:04:03.701494Z",
     "shell.execute_reply": "2020-11-22T09:04:03.700918Z"
    },
    "papermill": {
     "duration": 0.082925,
     "end_time": "2020-11-22T09:04:03.701619",
     "exception": false,
     "start_time": "2020-11-22T09:04:03.618694",
     "status": "completed"
    },
    "tags": []
   },
   "outputs": [],
   "source": [
    "class Converter(BaseEstimator, TransformerMixin):\n",
    "    ## Source : https://www.kaggle.com/tylersullivan/classifying-phishing-urls-three-models\n",
    "    def fit(self, x, y=None):\n",
    "        return self\n",
    "\n",
    "    def transform(self, data_frame):\n",
    "        return data_frame.values.ravel()"
   ]
  },
  {
   "cell_type": "markdown",
   "metadata": {
    "papermill": {
     "duration": 0.073171,
     "end_time": "2020-11-22T09:04:03.848572",
     "exception": false,
     "start_time": "2020-11-22T09:04:03.775401",
     "status": "completed"
    },
    "tags": []
   },
   "source": [
    "Pipeline for numeric features"
   ]
  },
  {
   "cell_type": "code",
   "execution_count": 29,
   "metadata": {
    "execution": {
     "iopub.execute_input": "2020-11-22T09:04:04.001039Z",
     "iopub.status.busy": "2020-11-22T09:04:03.999946Z",
     "iopub.status.idle": "2020-11-22T09:04:04.003622Z",
     "shell.execute_reply": "2020-11-22T09:04:04.002950Z"
    },
    "papermill": {
     "duration": 0.082152,
     "end_time": "2020-11-22T09:04:04.003776",
     "exception": false,
     "start_time": "2020-11-22T09:04:03.921624",
     "status": "completed"
    },
    "tags": []
   },
   "outputs": [],
   "source": [
    "numeric_features = ['lineLength_median', 'wordCountLine_median', 'chId_count', 'releaseYear']\n",
    "\n",
    "numeric_transformer = Pipeline(steps=[('scaler', MinMaxScaler())])"
   ]
  },
  {
   "cell_type": "markdown",
   "metadata": {
    "papermill": {
     "duration": 0.073553,
     "end_time": "2020-11-22T09:04:04.151028",
     "exception": false,
     "start_time": "2020-11-22T09:04:04.077475",
     "status": "completed"
    },
    "tags": []
   },
   "source": [
    "Pipeline for tokens dereived from dialogues"
   ]
  },
  {
   "cell_type": "code",
   "execution_count": 30,
   "metadata": {
    "execution": {
     "iopub.execute_input": "2020-11-22T09:04:04.303589Z",
     "iopub.status.busy": "2020-11-22T09:04:04.302773Z",
     "iopub.status.idle": "2020-11-22T09:04:04.305367Z",
     "shell.execute_reply": "2020-11-22T09:04:04.305956Z"
    },
    "papermill": {
     "duration": 0.081849,
     "end_time": "2020-11-22T09:04:04.306121",
     "exception": false,
     "start_time": "2020-11-22T09:04:04.224272",
     "status": "completed"
    },
    "tags": []
   },
   "outputs": [],
   "source": [
    "categorical_features = ['posCredits']\n",
    "categorical_transformer = Pipeline(steps=[\n",
    "    ('onehot', OneHotEncoder(handle_unknown='ignore'))])"
   ]
  },
  {
   "cell_type": "code",
   "execution_count": 31,
   "metadata": {
    "execution": {
     "iopub.execute_input": "2020-11-22T09:04:04.459094Z",
     "iopub.status.busy": "2020-11-22T09:04:04.458266Z",
     "iopub.status.idle": "2020-11-22T09:04:04.462114Z",
     "shell.execute_reply": "2020-11-22T09:04:04.461349Z"
    },
    "papermill": {
     "duration": 0.082721,
     "end_time": "2020-11-22T09:04:04.462238",
     "exception": false,
     "start_time": "2020-11-22T09:04:04.379517",
     "status": "completed"
    },
    "tags": []
   },
   "outputs": [],
   "source": [
    "vectorizer_features = ['cleaned_dialogue_<lambda>']\n",
    "vectorizer_transformer = Pipeline(steps=[\n",
    "    ('con', Converter()),\n",
    "    ('tf', TfidfVectorizer())])"
   ]
  },
  {
   "cell_type": "markdown",
   "metadata": {
    "papermill": {
     "duration": 0.073492,
     "end_time": "2020-11-22T09:04:04.609271",
     "exception": false,
     "start_time": "2020-11-22T09:04:04.535779",
     "status": "completed"
    },
    "tags": []
   },
   "source": [
    "Now, we can combine preprocessing pipelines with the classifers. We will try 4 basic models:\n",
    "- Linear Support Vector Classifier\n",
    "- Logistic Regression Classifier\n",
    "- Naive Bayes Classifier\n",
    "- Random Forest Clasifier"
   ]
  },
  {
   "cell_type": "code",
   "execution_count": 32,
   "metadata": {
    "execution": {
     "iopub.execute_input": "2020-11-22T09:04:04.767601Z",
     "iopub.status.busy": "2020-11-22T09:04:04.766762Z",
     "iopub.status.idle": "2020-11-22T09:04:04.769385Z",
     "shell.execute_reply": "2020-11-22T09:04:04.769955Z"
    },
    "papermill": {
     "duration": 0.08759,
     "end_time": "2020-11-22T09:04:04.770119",
     "exception": false,
     "start_time": "2020-11-22T09:04:04.682529",
     "status": "completed"
    },
    "tags": []
   },
   "outputs": [],
   "source": [
    "preprocessor = ColumnTransformer(\n",
    "    transformers=[\n",
    "        ('num', numeric_transformer, numeric_features),\n",
    "        ('cat', categorical_transformer, categorical_features),\n",
    "        ('vec', vectorizer_transformer, vectorizer_features)\n",
    "    ])\n",
    "\n",
    "svc_clf = Pipeline(steps=[('preprocessor', preprocessor),\n",
    "                      ('classifier', CalibratedClassifierCV(LinearSVC()))])  ## LinearSVC has no predict_proba method\n",
    "\n",
    "log_clf = Pipeline(steps=[('preprocessor', preprocessor),\n",
    "                      ('classifier', LogisticRegression())])\n",
    "\n",
    "nb_clf = Pipeline(steps=[('preprocessor', preprocessor),\n",
    "                      ('classifier', MultinomialNB())])\n",
    "\n",
    "rf_clf = Pipeline(steps=[('preprocessor', preprocessor),\n",
    "                      ('classifier', RandomForestClassifier(n_estimators=120, min_samples_leaf=10, \n",
    "                                                            max_features=0.7, n_jobs=-1, oob_score=True))])"
   ]
  },
  {
   "cell_type": "markdown",
   "metadata": {
    "papermill": {
     "duration": 0.073775,
     "end_time": "2020-11-22T09:04:04.917317",
     "exception": false,
     "start_time": "2020-11-22T09:04:04.843542",
     "status": "completed"
    },
    "tags": []
   },
   "source": [
    "Fitting the preprocessing & classifier pipelines on training data"
   ]
  },
  {
   "cell_type": "code",
   "execution_count": 33,
   "metadata": {
    "execution": {
     "iopub.execute_input": "2020-11-22T09:04:05.083866Z",
     "iopub.status.busy": "2020-11-22T09:04:05.082644Z",
     "iopub.status.idle": "2020-11-22T09:04:20.873584Z",
     "shell.execute_reply": "2020-11-22T09:04:20.874132Z"
    },
    "papermill": {
     "duration": 15.88172,
     "end_time": "2020-11-22T09:04:20.874300",
     "exception": false,
     "start_time": "2020-11-22T09:04:04.992580",
     "status": "completed"
    },
    "tags": []
   },
   "outputs": [
    {
     "data": {
      "text/plain": [
       "Pipeline(steps=[('preprocessor',\n",
       "                 ColumnTransformer(transformers=[('num',\n",
       "                                                  Pipeline(steps=[('scaler',\n",
       "                                                                   MinMaxScaler())]),\n",
       "                                                  ['lineLength_median',\n",
       "                                                   'wordCountLine_median',\n",
       "                                                   'chId_count',\n",
       "                                                   'releaseYear']),\n",
       "                                                 ('cat',\n",
       "                                                  Pipeline(steps=[('onehot',\n",
       "                                                                   OneHotEncoder(handle_unknown='ignore'))]),\n",
       "                                                  ['posCredits']),\n",
       "                                                 ('vec',\n",
       "                                                  Pipeline(steps=[('con',\n",
       "                                                                   Converter()),\n",
       "                                                                  ('tf',\n",
       "                                                                   TfidfVectorizer())]),\n",
       "                                                  ['cleaned_dialogue_<lambda>'])])),\n",
       "                ('classifier',\n",
       "                 RandomForestClassifier(max_features=0.7, min_samples_leaf=10,\n",
       "                                        n_estimators=120, n_jobs=-1,\n",
       "                                        oob_score=True))])"
      ]
     },
     "execution_count": 33,
     "metadata": {},
     "output_type": "execute_result"
    }
   ],
   "source": [
    "svc_clf.fit(X_train, y_train)\n",
    "log_clf.fit(X_train, y_train)\n",
    "nb_clf.fit(X_train, y_train)\n",
    "rf_clf.fit(X_train, y_train)"
   ]
  },
  {
   "cell_type": "markdown",
   "metadata": {
    "papermill": {
     "duration": 0.075047,
     "end_time": "2020-11-22T09:04:21.024435",
     "exception": false,
     "start_time": "2020-11-22T09:04:20.949388",
     "status": "completed"
    },
    "tags": []
   },
   "source": [
    "### Check results on the validation set"
   ]
  },
  {
   "cell_type": "code",
   "execution_count": 34,
   "metadata": {
    "execution": {
     "iopub.execute_input": "2020-11-22T09:04:21.184393Z",
     "iopub.status.busy": "2020-11-22T09:04:21.183585Z",
     "iopub.status.idle": "2020-11-22T09:04:21.187544Z",
     "shell.execute_reply": "2020-11-22T09:04:21.186890Z"
    },
    "papermill": {
     "duration": 0.088969,
     "end_time": "2020-11-22T09:04:21.187668",
     "exception": false,
     "start_time": "2020-11-22T09:04:21.098699",
     "status": "completed"
    },
    "tags": []
   },
   "outputs": [],
   "source": [
    "def results(name: str, model: BaseEstimator) -> None:\n",
    "    '''\n",
    "    Custom function to check model performance on validation set\n",
    "    '''\n",
    "    preds = model.predict(X_val)\n",
    "\n",
    "    print(name + \" score: %.3f\" % model.score(X_val, y_val))\n",
    "    print(classification_report(y_val, preds))\n",
    "    labels = ['Male', 'Female']\n",
    "\n",
    "    conf_matrix = confusion_matrix(y_val, preds)\n",
    "    plt.figure(figsize= (10,6))\n",
    "    sns.heatmap(conf_matrix, xticklabels=labels, yticklabels=labels, annot=True, fmt=\"d\", cmap='Blues')\n",
    "    plt.title(\"Confusion Matrix for \" + name)\n",
    "    plt.ylabel('True Class')\n",
    "    plt.xlabel('Predicted Class')"
   ]
  },
  {
   "cell_type": "code",
   "execution_count": 35,
   "metadata": {
    "execution": {
     "iopub.execute_input": "2020-11-22T09:04:21.386135Z",
     "iopub.status.busy": "2020-11-22T09:04:21.360172Z",
     "iopub.status.idle": "2020-11-22T09:04:24.008740Z",
     "shell.execute_reply": "2020-11-22T09:04:24.009339Z"
    },
    "papermill": {
     "duration": 2.747165,
     "end_time": "2020-11-22T09:04:24.009519",
     "exception": false,
     "start_time": "2020-11-22T09:04:21.262354",
     "status": "completed"
    },
    "tags": []
   },
   "outputs": [
    {
     "name": "stdout",
     "output_type": "stream",
     "text": [
      "SVC score: 0.721\n",
      "              precision    recall  f1-score   support\n",
      "\n",
      "           0       0.74      0.69      0.71       190\n",
      "           1       0.71      0.75      0.73       190\n",
      "\n",
      "    accuracy                           0.72       380\n",
      "   macro avg       0.72      0.72      0.72       380\n",
      "weighted avg       0.72      0.72      0.72       380\n",
      "\n",
      "Logistic Regression score: 0.718\n",
      "              precision    recall  f1-score   support\n",
      "\n",
      "           0       0.74      0.68      0.71       190\n",
      "           1       0.70      0.76      0.73       190\n",
      "\n",
      "    accuracy                           0.72       380\n",
      "   macro avg       0.72      0.72      0.72       380\n",
      "weighted avg       0.72      0.72      0.72       380\n",
      "\n",
      "Naive Bayes score: 0.708\n",
      "              precision    recall  f1-score   support\n",
      "\n",
      "           0       0.70      0.73      0.71       190\n",
      "           1       0.72      0.68      0.70       190\n",
      "\n",
      "    accuracy                           0.71       380\n",
      "   macro avg       0.71      0.71      0.71       380\n",
      "weighted avg       0.71      0.71      0.71       380\n",
      "\n",
      "Random Forest score: 0.705\n",
      "              precision    recall  f1-score   support\n",
      "\n",
      "           0       0.71      0.69      0.70       190\n",
      "           1       0.70      0.72      0.71       190\n",
      "\n",
      "    accuracy                           0.71       380\n",
      "   macro avg       0.71      0.71      0.71       380\n",
      "weighted avg       0.71      0.71      0.71       380\n",
      "\n"
     ]
    },
    {
     "data": {
      "image/png": "[encoded data removed]",
      "text/plain": [
       "<Figure size 720x432 with 2 Axes>"
      ]
     },
     "metadata": {
      "needs_background": "light"
     },
     "output_type": "display_data"
    },
    {
     "data": {
      "image/png": "[encoded data removed]",
      "text/plain": [
       "<Figure size 720x432 with 2 Axes>"
      ]
     },
     "metadata": {
      "needs_background": "light"
     },
     "output_type": "display_data"
    },
    {
     "data": {
      "image/png": "[encoded data removed]",
      "text/plain": [
       "<Figure size 720x432 with 2 Axes>"
      ]
     },
     "metadata": {
      "needs_background": "light"
     },
     "output_type": "display_data"
    },
    {
     "data": {
      "image/png": "[encoded data removed]",
      "text/plain": [
       "<Figure size 720x432 with 2 Axes>"
      ]
     },
     "metadata": {
      "needs_background": "light"
     },
     "output_type": "display_data"
    }
   ],
   "source": [
    "results(\"SVC\" , svc_clf)\n",
    "results(\"Logistic Regression\" , log_clf)\n",
    "results(\"Naive Bayes\" , nb_clf)\n",
    "results(\"Random Forest\" , rf_clf)"
   ]
  },
  {
   "cell_type": "markdown",
   "metadata": {
    "papermill": {
     "duration": 0.0802,
     "end_time": "2020-11-22T09:04:24.170713",
     "exception": false,
     "start_time": "2020-11-22T09:04:24.090513",
     "status": "completed"
    },
    "tags": []
   },
   "source": [
    "We are getting accuracy in the range of 70-75% for most of the models, which is pretty good. \n",
    "Some possible ways to improve this performance could be:\n",
    "- using bi-grams or tri-grams for dialogue tokens\n",
    "- Trying out feed forward neural networks, LSTM or CNN\n",
    "- additional feature engineering related to context of dialogues in the movie\n",
    "\n",
    "Still, our current classifier performance is good enough to understand that there is indeed a gender bias in the characters of Hollywood movies which our models are capturing fairly well.\n",
    "\n",
    "Let's explore what features contribute the most to our classifiers through some model explainability techniques."
   ]
  },
  {
   "cell_type": "markdown",
   "metadata": {
    "papermill": {
     "duration": 0.079707,
     "end_time": "2020-11-22T09:04:24.330684",
     "exception": false,
     "start_time": "2020-11-22T09:04:24.250977",
     "status": "completed"
    },
    "tags": []
   },
   "source": [
    "## Feature importance"
   ]
  },
  {
   "cell_type": "markdown",
   "metadata": {
    "papermill": {
     "duration": 0.080551,
     "end_time": "2020-11-22T09:04:24.491435",
     "exception": false,
     "start_time": "2020-11-22T09:04:24.410884",
     "status": "completed"
    },
    "tags": []
   },
   "source": [
    "Creating a list of all features including numeric & vectorised features"
   ]
  },
  {
   "cell_type": "code",
   "execution_count": 36,
   "metadata": {
    "execution": {
     "iopub.execute_input": "2020-11-22T09:04:24.680975Z",
     "iopub.status.busy": "2020-11-22T09:04:24.673501Z",
     "iopub.status.idle": "2020-11-22T09:04:24.684545Z",
     "shell.execute_reply": "2020-11-22T09:04:24.683778Z"
    },
    "papermill": {
     "duration": 0.11285,
     "end_time": "2020-11-22T09:04:24.684669",
     "exception": false,
     "start_time": "2020-11-22T09:04:24.571819",
     "status": "completed"
    },
    "tags": []
   },
   "outputs": [],
   "source": [
    "vect_columns = list(svc_clf.named_steps['preprocessor'].named_transformers_['vec'].named_steps['tf'].get_feature_names())\n",
    "onehot_columns = list(svc_clf.named_steps['preprocessor'].named_transformers_['cat'].named_steps['onehot'].get_feature_names(input_features=categorical_features))\n",
    "numeric_features_list = list(numeric_features)\n",
    "numeric_features_list.extend(onehot_columns)\n",
    "numeric_features_list.extend(vect_columns)"
   ]
  },
  {
   "cell_type": "markdown",
   "metadata": {
    "papermill": {
     "duration": 0.080844,
     "end_time": "2020-11-22T09:04:24.847162",
     "exception": false,
     "start_time": "2020-11-22T09:04:24.766318",
     "status": "completed"
    },
    "tags": []
   },
   "source": [
    "#### Feature importance for Logistic Regression"
   ]
  },
  {
   "cell_type": "code",
   "execution_count": 37,
   "metadata": {
    "execution": {
     "iopub.execute_input": "2020-11-22T09:04:25.016605Z",
     "iopub.status.busy": "2020-11-22T09:04:25.015733Z",
     "iopub.status.idle": "2020-11-22T09:04:25.033068Z",
     "shell.execute_reply": "2020-11-22T09:04:25.032288Z"
    },
    "papermill": {
     "duration": 0.105181,
     "end_time": "2020-11-22T09:04:25.033194",
     "exception": false,
     "start_time": "2020-11-22T09:04:24.928013",
     "status": "completed"
    },
    "tags": []
   },
   "outputs": [
    {
     "data": {
      "text/html": [
       "<div>\n",
       "<style scoped>\n",
       "    .dataframe tbody tr th:only-of-type {\n",
       "        vertical-align: middle;\n",
       "    }\n",
       "\n",
       "    .dataframe tbody tr th {\n",
       "        vertical-align: top;\n",
       "    }\n",
       "\n",
       "    .dataframe thead th {\n",
       "        text-align: right;\n",
       "    }\n",
       "</style>\n",
       "<table border=\"1\" class=\"dataframe\">\n",
       "  <thead>\n",
       "    <tr style=\"text-align: right;\">\n",
       "      <th></th>\n",
       "      <th>target</th>\n",
       "      <th>feature</th>\n",
       "      <th>weight</th>\n",
       "    </tr>\n",
       "  </thead>\n",
       "  <tbody>\n",
       "    <tr>\n",
       "      <th>0</th>\n",
       "      <td>1</td>\n",
       "      <td>oh</td>\n",
       "      <td>2.914220</td>\n",
       "    </tr>\n",
       "    <tr>\n",
       "      <th>1</th>\n",
       "      <td>1</td>\n",
       "      <td>really</td>\n",
       "      <td>1.598428</td>\n",
       "    </tr>\n",
       "    <tr>\n",
       "      <th>2</th>\n",
       "      <td>1</td>\n",
       "      <td>love</td>\n",
       "      <td>1.582584</td>\n",
       "    </tr>\n",
       "    <tr>\n",
       "      <th>3</th>\n",
       "      <td>1</td>\n",
       "      <td>hi</td>\n",
       "      <td>1.173297</td>\n",
       "    </tr>\n",
       "    <tr>\n",
       "      <th>4</th>\n",
       "      <td>1</td>\n",
       "      <td>said</td>\n",
       "      <td>1.161967</td>\n",
       "    </tr>\n",
       "    <tr>\n",
       "      <th>5</th>\n",
       "      <td>1</td>\n",
       "      <td>want</td>\n",
       "      <td>1.053116</td>\n",
       "    </tr>\n",
       "    <tr>\n",
       "      <th>6</th>\n",
       "      <td>1</td>\n",
       "      <td>like</td>\n",
       "      <td>1.020965</td>\n",
       "    </tr>\n",
       "    <tr>\n",
       "      <th>7</th>\n",
       "      <td>1</td>\n",
       "      <td>darling</td>\n",
       "      <td>0.992410</td>\n",
       "    </tr>\n",
       "    <tr>\n",
       "      <th>8</th>\n",
       "      <td>1</td>\n",
       "      <td>never</td>\n",
       "      <td>0.987203</td>\n",
       "    </tr>\n",
       "    <tr>\n",
       "      <th>9</th>\n",
       "      <td>1</td>\n",
       "      <td>child</td>\n",
       "      <td>0.975300</td>\n",
       "    </tr>\n",
       "    <tr>\n",
       "      <th>10</th>\n",
       "      <td>1</td>\n",
       "      <td>please</td>\n",
       "      <td>0.970647</td>\n",
       "    </tr>\n",
       "    <tr>\n",
       "      <th>11</th>\n",
       "      <td>1</td>\n",
       "      <td>god</td>\n",
       "      <td>0.941234</td>\n",
       "    </tr>\n",
       "    <tr>\n",
       "      <th>12</th>\n",
       "      <td>1</td>\n",
       "      <td>know</td>\n",
       "      <td>0.913415</td>\n",
       "    </tr>\n",
       "    <tr>\n",
       "      <th>13</th>\n",
       "      <td>1</td>\n",
       "      <td>honey</td>\n",
       "      <td>0.903731</td>\n",
       "    </tr>\n",
       "    <tr>\n",
       "      <th>14</th>\n",
       "      <td>1</td>\n",
       "      <td>school</td>\n",
       "      <td>0.897518</td>\n",
       "    </tr>\n",
       "  </tbody>\n",
       "</table>\n",
       "</div>"
      ],
      "text/plain": [
       "    target  feature    weight\n",
       "0        1       oh  2.914220\n",
       "1        1   really  1.598428\n",
       "2        1     love  1.582584\n",
       "3        1       hi  1.173297\n",
       "4        1     said  1.161967\n",
       "5        1     want  1.053116\n",
       "6        1     like  1.020965\n",
       "7        1  darling  0.992410\n",
       "8        1    never  0.987203\n",
       "9        1    child  0.975300\n",
       "10       1   please  0.970647\n",
       "11       1      god  0.941234\n",
       "12       1     know  0.913415\n",
       "13       1    honey  0.903731\n",
       "14       1   school  0.897518"
      ]
     },
     "execution_count": 37,
     "metadata": {},
     "output_type": "execute_result"
    }
   ],
   "source": [
    "lr_weights = eli5.explain_weights_df(log_clf.named_steps['classifier'], top=30, feature_names=numeric_features_list)\n",
    "lr_weights.head(15)"
   ]
  },
  {
   "cell_type": "code",
   "execution_count": 38,
   "metadata": {
    "execution": {
     "iopub.execute_input": "2020-11-22T09:04:25.210615Z",
     "iopub.status.busy": "2020-11-22T09:04:25.209697Z",
     "iopub.status.idle": "2020-11-22T09:04:25.215497Z",
     "shell.execute_reply": "2020-11-22T09:04:25.214817Z"
    },
    "papermill": {
     "duration": 0.099653,
     "end_time": "2020-11-22T09:04:25.215629",
     "exception": false,
     "start_time": "2020-11-22T09:04:25.115976",
     "status": "completed"
    },
    "tags": []
   },
   "outputs": [
    {
     "data": {
      "text/html": [
       "<div>\n",
       "<style scoped>\n",
       "    .dataframe tbody tr th:only-of-type {\n",
       "        vertical-align: middle;\n",
       "    }\n",
       "\n",
       "    .dataframe tbody tr th {\n",
       "        vertical-align: top;\n",
       "    }\n",
       "\n",
       "    .dataframe thead th {\n",
       "        text-align: right;\n",
       "    }\n",
       "</style>\n",
       "<table border=\"1\" class=\"dataframe\">\n",
       "  <thead>\n",
       "    <tr style=\"text-align: right;\">\n",
       "      <th></th>\n",
       "      <th>target</th>\n",
       "      <th>feature</th>\n",
       "      <th>weight</th>\n",
       "    </tr>\n",
       "  </thead>\n",
       "  <tbody>\n",
       "    <tr>\n",
       "      <th>15</th>\n",
       "      <td>1</td>\n",
       "      <td>peter</td>\n",
       "      <td>0.878517</td>\n",
       "    </tr>\n",
       "    <tr>\n",
       "      <th>16</th>\n",
       "      <td>1</td>\n",
       "      <td>son</td>\n",
       "      <td>-0.876330</td>\n",
       "    </tr>\n",
       "    <tr>\n",
       "      <th>17</th>\n",
       "      <td>1</td>\n",
       "      <td>good</td>\n",
       "      <td>-0.897884</td>\n",
       "    </tr>\n",
       "    <tr>\n",
       "      <th>18</th>\n",
       "      <td>1</td>\n",
       "      <td>right</td>\n",
       "      <td>-0.899643</td>\n",
       "    </tr>\n",
       "    <tr>\n",
       "      <th>19</th>\n",
       "      <td>1</td>\n",
       "      <td>chId_count</td>\n",
       "      <td>-0.916359</td>\n",
       "    </tr>\n",
       "    <tr>\n",
       "      <th>20</th>\n",
       "      <td>1</td>\n",
       "      <td>fuck</td>\n",
       "      <td>-0.996575</td>\n",
       "    </tr>\n",
       "    <tr>\n",
       "      <th>21</th>\n",
       "      <td>1</td>\n",
       "      <td>fuckin</td>\n",
       "      <td>-1.049543</td>\n",
       "    </tr>\n",
       "    <tr>\n",
       "      <th>22</th>\n",
       "      <td>1</td>\n",
       "      <td>yeah</td>\n",
       "      <td>-1.091158</td>\n",
       "    </tr>\n",
       "    <tr>\n",
       "      <th>23</th>\n",
       "      <td>1</td>\n",
       "      <td>hell</td>\n",
       "      <td>-1.137874</td>\n",
       "    </tr>\n",
       "    <tr>\n",
       "      <th>24</th>\n",
       "      <td>1</td>\n",
       "      <td>got</td>\n",
       "      <td>-1.162604</td>\n",
       "    </tr>\n",
       "    <tr>\n",
       "      <th>25</th>\n",
       "      <td>1</td>\n",
       "      <td>shit</td>\n",
       "      <td>-1.162634</td>\n",
       "    </tr>\n",
       "    <tr>\n",
       "      <th>26</th>\n",
       "      <td>1</td>\n",
       "      <td>sir</td>\n",
       "      <td>-1.201654</td>\n",
       "    </tr>\n",
       "    <tr>\n",
       "      <th>27</th>\n",
       "      <td>1</td>\n",
       "      <td>gotta</td>\n",
       "      <td>-1.246364</td>\n",
       "    </tr>\n",
       "    <tr>\n",
       "      <th>28</th>\n",
       "      <td>1</td>\n",
       "      <td>hey</td>\n",
       "      <td>-1.549047</td>\n",
       "    </tr>\n",
       "    <tr>\n",
       "      <th>29</th>\n",
       "      <td>1</td>\n",
       "      <td>man</td>\n",
       "      <td>-2.188670</td>\n",
       "    </tr>\n",
       "  </tbody>\n",
       "</table>\n",
       "</div>"
      ],
      "text/plain": [
       "    target     feature    weight\n",
       "15       1       peter  0.878517\n",
       "16       1         son -0.876330\n",
       "17       1        good -0.897884\n",
       "18       1       right -0.899643\n",
       "19       1  chId_count -0.916359\n",
       "20       1        fuck -0.996575\n",
       "21       1      fuckin -1.049543\n",
       "22       1        yeah -1.091158\n",
       "23       1        hell -1.137874\n",
       "24       1         got -1.162604\n",
       "25       1        shit -1.162634\n",
       "26       1         sir -1.201654\n",
       "27       1       gotta -1.246364\n",
       "28       1         hey -1.549047\n",
       "29       1         man -2.188670"
      ]
     },
     "execution_count": 38,
     "metadata": {},
     "output_type": "execute_result"
    }
   ],
   "source": [
    "lr_weights.tail(15)"
   ]
  },
  {
   "cell_type": "markdown",
   "metadata": {
    "papermill": {
     "duration": 0.081495,
     "end_time": "2020-11-22T09:04:25.387893",
     "exception": false,
     "start_time": "2020-11-22T09:04:25.306398",
     "status": "completed"
    },
    "tags": []
   },
   "source": [
    "We see that dialogue keywords like \"oh\", \"love\", \"like\", \"darling\", \"want\", \"honey\" are strong indicators that the character is a female, while keywords like \"sir\", \"man\", \"hell\", \"fuckin\", \"gotta\" & \"yeah\" are usually found in the dialogues of male characters!"
   ]
  },
  {
   "cell_type": "markdown",
   "metadata": {
    "papermill": {
     "duration": 0.08239,
     "end_time": "2020-11-22T09:04:25.552361",
     "exception": false,
     "start_time": "2020-11-22T09:04:25.469971",
     "status": "completed"
    },
    "tags": []
   },
   "source": [
    "#### Let's also try to visualize a single decision tree\n",
    "\n",
    "We can training a single decision tree using the Random Forest Classifier."
   ]
  },
  {
   "cell_type": "code",
   "execution_count": 39,
   "metadata": {
    "execution": {
     "iopub.execute_input": "2020-11-22T09:04:25.736720Z",
     "iopub.status.busy": "2020-11-22T09:04:25.735155Z",
     "iopub.status.idle": "2020-11-22T09:04:27.210756Z",
     "shell.execute_reply": "2020-11-22T09:04:27.210051Z"
    },
    "papermill": {
     "duration": 1.574735,
     "end_time": "2020-11-22T09:04:27.210915",
     "exception": false,
     "start_time": "2020-11-22T09:04:25.636180",
     "status": "completed"
    },
    "tags": []
   },
   "outputs": [
    {
     "name": "stdout",
     "output_type": "stream",
     "text": [
      "Decision Tree Classifier score: 0.526\n",
      "              precision    recall  f1-score   support\n",
      "\n",
      "           0       0.54      0.37      0.44       190\n",
      "           1       0.52      0.68      0.59       190\n",
      "\n",
      "    accuracy                           0.53       380\n",
      "   macro avg       0.53      0.53      0.51       380\n",
      "weighted avg       0.53      0.53      0.51       380\n",
      "\n"
     ]
    },
    {
     "data": {
      "image/png": "[encoded data removed]",
      "text/plain": [
       "<Figure size 720x432 with 2 Axes>"
      ]
     },
     "metadata": {
      "needs_background": "light"
     },
     "output_type": "display_data"
    }
   ],
   "source": [
    "m = RandomForestClassifier(n_estimators=1, min_samples_leaf=5, max_depth = 3, \n",
    "                           oob_score=True, random_state = np.random.seed(123))\n",
    "dt_clf = Pipeline(steps=[('preprocessor', preprocessor),\n",
    "                         ('classifier', m)])\n",
    "\n",
    "dt_clf.fit(X_train, y_train)\n",
    "results(\"Decision Tree Classifier\", dt_clf)"
   ]
  },
  {
   "cell_type": "markdown",
   "metadata": {
    "papermill": {
     "duration": 0.083063,
     "end_time": "2020-11-22T09:04:27.377656",
     "exception": false,
     "start_time": "2020-11-22T09:04:27.294593",
     "status": "completed"
    },
    "tags": []
   },
   "source": [
    "While a single decision is a poor classifier with accuracy barely more than 50%, we see that bagging enough of such weak classifiers to form a Random Forest model helps us improve the model performance drastically! Let's look at how the splits are made for a single decision tree."
   ]
  },
  {
   "cell_type": "code",
   "execution_count": 40,
   "metadata": {
    "execution": {
     "iopub.execute_input": "2020-11-22T09:04:27.559397Z",
     "iopub.status.busy": "2020-11-22T09:04:27.554899Z",
     "iopub.status.idle": "2020-11-22T09:04:28.055199Z",
     "shell.execute_reply": "2020-11-22T09:04:28.054357Z"
    },
    "papermill": {
     "duration": 0.594003,
     "end_time": "2020-11-22T09:04:28.055342",
     "exception": false,
     "start_time": "2020-11-22T09:04:27.461339",
     "status": "completed"
    },
    "tags": []
   },
   "outputs": [
    {
     "data": {
      "image/svg+xml": [
       "<?xml version=\"1.0\" encoding=\"UTF-8\" standalone=\"no\"?>\n",
       "<!DOCTYPE svg PUBLIC \"-//W3C//DTD SVG 1.1//EN\"\n",
       " \"http://www.w3.org/Graphics/SVG/1.1/DTD/svg11.dtd\">\n",
       "<!-- Generated by graphviz version 2.42.3 (20191010.1750)\n",
       " -->\n",
       "<!-- Title: Tree Pages: 1 -->\n",
       "<svg width=\"720pt\" height=\"434pt\"\n",
       " viewBox=\"0.00 0.00 720.00 434.49\" xmlns=\"http://www.w3.org/2000/svg\" xmlns:xlink=\"http://www.w3.org/1999/xlink\">\n",
       "<g id=\"graph0\" class=\"graph\" transform=\"scale(1.28 1.28) rotate(0) translate(4 554)\">\n",
       "<title>Tree</title>\n",
       "<polygon fill=\"white\" stroke=\"transparent\" points=\"-4,4 -4,-554 920.67,-554 920.67,4 -4,4\"/>\n",
       "<!-- 0 -->\n",
       "<g id=\"node1\" class=\"node\">\n",
       "<title>0</title>\n",
       "<polygon fill=\"#fffdfc\" stroke=\"black\" points=\"149.17,-336.5 30.17,-336.5 30.17,-268.5 149.17,-268.5 149.17,-336.5\"/>\n",
       "<text text-anchor=\"start\" x=\"59.67\" y=\"-321.3\" font-family=\"Times,serif\" font-size=\"14.00\">call ≤ 0.02</text>\n",
       "<text text-anchor=\"start\" x=\"38.17\" y=\"-306.3\" font-family=\"Times,serif\" font-size=\"14.00\">samples = 100.0%</text>\n",
       "<text text-anchor=\"start\" x=\"41.17\" y=\"-291.3\" font-family=\"Times,serif\" font-size=\"14.00\">value = [0.5, 0.5]</text>\n",
       "<text text-anchor=\"start\" x=\"54.67\" y=\"-276.3\" font-family=\"Times,serif\" font-size=\"14.00\">class = male</text>\n",
       "</g>\n",
       "<!-- 1 -->\n",
       "<g id=\"node2\" class=\"node\">\n",
       "<title>1</title>\n",
       "<polygon fill=\"#e1f0fb\" stroke=\"black\" points=\"393.67,-372.5 267.67,-372.5 267.67,-304.5 393.67,-304.5 393.67,-372.5\"/>\n",
       "<text text-anchor=\"start\" x=\"286.67\" y=\"-357.3\" font-family=\"Times,serif\" font-size=\"14.00\">anything ≤ 0.02</text>\n",
       "<text text-anchor=\"start\" x=\"282.17\" y=\"-342.3\" font-family=\"Times,serif\" font-size=\"14.00\">samples = 68.6%</text>\n",
       "<text text-anchor=\"start\" x=\"275.67\" y=\"-327.3\" font-family=\"Times,serif\" font-size=\"14.00\">value = [0.46, 0.54]</text>\n",
       "<text text-anchor=\"start\" x=\"290.67\" y=\"-312.3\" font-family=\"Times,serif\" font-size=\"14.00\">class = female</text>\n",
       "</g>\n",
       "<!-- 0&#45;&gt;1 -->\n",
       "<g id=\"edge1\" class=\"edge\">\n",
       "<title>0&#45;&gt;1</title>\n",
       "<path fill=\"none\" stroke=\"black\" d=\"M149.44,-311.35C182.02,-316.26 222.8,-322.4 257.33,-327.6\"/>\n",
       "<polygon fill=\"black\" stroke=\"black\" points=\"256.95,-331.09 267.36,-329.11 257.99,-324.16 256.95,-331.09\"/>\n",
       "<text text-anchor=\"middle\" x=\"247.25\" y=\"-340.26\" font-family=\"Times,serif\" font-size=\"14.00\">True</text>\n",
       "</g>\n",
       "<!-- 8 -->\n",
       "<g id=\"node9\" class=\"node\">\n",
       "<title>8</title>\n",
       "<polygon fill=\"#f6d5be\" stroke=\"black\" points=\"387.17,-245.5 274.17,-245.5 274.17,-177.5 387.17,-177.5 387.17,-245.5\"/>\n",
       "<text text-anchor=\"start\" x=\"297.17\" y=\"-230.3\" font-family=\"Times,serif\" font-size=\"14.00\">hello ≤ 0.04</text>\n",
       "<text text-anchor=\"start\" x=\"282.17\" y=\"-215.3\" font-family=\"Times,serif\" font-size=\"14.00\">samples = 31.4%</text>\n",
       "<text text-anchor=\"start\" x=\"282.17\" y=\"-200.3\" font-family=\"Times,serif\" font-size=\"14.00\">value = [0.6, 0.4]</text>\n",
       "<text text-anchor=\"start\" x=\"295.67\" y=\"-185.3\" font-family=\"Times,serif\" font-size=\"14.00\">class = male</text>\n",
       "</g>\n",
       "<!-- 0&#45;&gt;8 -->\n",
       "<g id=\"edge8\" class=\"edge\">\n",
       "<title>0&#45;&gt;8</title>\n",
       "<path fill=\"none\" stroke=\"black\" d=\"M149.44,-280.12C184.33,-266.84 228.63,-249.97 264.57,-236.28\"/>\n",
       "<polygon fill=\"black\" stroke=\"black\" points=\"265.9,-239.53 274,-232.7 263.41,-232.98 265.9,-239.53\"/>\n",
       "<text text-anchor=\"middle\" x=\"251.19\" y=\"-218.77\" font-family=\"Times,serif\" font-size=\"14.00\">False</text>\n",
       "</g>\n",
       "<!-- 2 -->\n",
       "<g id=\"node3\" class=\"node\">\n",
       "<title>2</title>\n",
       "<polygon fill=\"#fafdfe\" stroke=\"black\" points=\"638.67,-486.5 512.67,-486.5 512.67,-418.5 638.67,-418.5 638.67,-486.5\"/>\n",
       "<text text-anchor=\"start\" x=\"533.17\" y=\"-471.3\" font-family=\"Times,serif\" font-size=\"14.00\">possible ≤ 0.01</text>\n",
       "<text text-anchor=\"start\" x=\"527.17\" y=\"-456.3\" font-family=\"Times,serif\" font-size=\"14.00\">samples = 45.5%</text>\n",
       "<text text-anchor=\"start\" x=\"520.67\" y=\"-441.3\" font-family=\"Times,serif\" font-size=\"14.00\">value = [0.49, 0.51]</text>\n",
       "<text text-anchor=\"start\" x=\"535.67\" y=\"-426.3\" font-family=\"Times,serif\" font-size=\"14.00\">class = female</text>\n",
       "</g>\n",
       "<!-- 1&#45;&gt;2 -->\n",
       "<g id=\"edge2\" class=\"edge\">\n",
       "<title>1&#45;&gt;2</title>\n",
       "<path fill=\"none\" stroke=\"black\" d=\"M393.93,-367.71C427.36,-383.39 468.72,-402.8 503.43,-419.08\"/>\n",
       "<polygon fill=\"black\" stroke=\"black\" points=\"502.03,-422.29 512.57,-423.37 505,-415.95 502.03,-422.29\"/>\n",
       "</g>\n",
       "<!-- 5 -->\n",
       "<g id=\"node6\" class=\"node\">\n",
       "<title>5</title>\n",
       "<polygon fill=\"#b6dbf5\" stroke=\"black\" points=\"638.67,-372.5 512.67,-372.5 512.67,-304.5 638.67,-304.5 638.67,-372.5\"/>\n",
       "<text text-anchor=\"start\" x=\"541.67\" y=\"-357.3\" font-family=\"Times,serif\" font-size=\"14.00\">cross ≤ 0.05</text>\n",
       "<text text-anchor=\"start\" x=\"527.17\" y=\"-342.3\" font-family=\"Times,serif\" font-size=\"14.00\">samples = 23.1%</text>\n",
       "<text text-anchor=\"start\" x=\"520.67\" y=\"-327.3\" font-family=\"Times,serif\" font-size=\"14.00\">value = [0.39, 0.61]</text>\n",
       "<text text-anchor=\"start\" x=\"535.67\" y=\"-312.3\" font-family=\"Times,serif\" font-size=\"14.00\">class = female</text>\n",
       "</g>\n",
       "<!-- 1&#45;&gt;5 -->\n",
       "<g id=\"edge5\" class=\"edge\">\n",
       "<title>1&#45;&gt;5</title>\n",
       "<path fill=\"none\" stroke=\"black\" d=\"M393.93,-338.5C427.08,-338.5 468.02,-338.5 502.54,-338.5\"/>\n",
       "<polygon fill=\"black\" stroke=\"black\" points=\"502.57,-342 512.57,-338.5 502.57,-335 502.57,-342\"/>\n",
       "</g>\n",
       "<!-- 3 -->\n",
       "<g id=\"node4\" class=\"node\">\n",
       "<title>3</title>\n",
       "<polygon fill=\"#ecf6fd\" stroke=\"black\" points=\"884.67,-550 758.67,-550 758.67,-497 884.67,-497 884.67,-550\"/>\n",
       "<text text-anchor=\"start\" x=\"773.17\" y=\"-534.8\" font-family=\"Times,serif\" font-size=\"14.00\">samples = 42.0%</text>\n",
       "<text text-anchor=\"start\" x=\"766.67\" y=\"-519.8\" font-family=\"Times,serif\" font-size=\"14.00\">value = [0.47, 0.53]</text>\n",
       "<text text-anchor=\"start\" x=\"781.67\" y=\"-504.8\" font-family=\"Times,serif\" font-size=\"14.00\">class = female</text>\n",
       "</g>\n",
       "<!-- 2&#45;&gt;3 -->\n",
       "<g id=\"edge3\" class=\"edge\">\n",
       "<title>2&#45;&gt;3</title>\n",
       "<path fill=\"none\" stroke=\"black\" d=\"M638.87,-470.6C672.43,-480.36 714,-492.46 748.92,-502.62\"/>\n",
       "<polygon fill=\"black\" stroke=\"black\" points=\"748,-506 758.58,-505.43 749.95,-499.28 748,-506\"/>\n",
       "</g>\n",
       "<!-- 4 -->\n",
       "<g id=\"node5\" class=\"node\">\n",
       "<title>4</title>\n",
       "<polygon fill=\"#efb185\" stroke=\"black\" points=\"884.67,-479 758.67,-479 758.67,-426 884.67,-426 884.67,-479\"/>\n",
       "<text text-anchor=\"start\" x=\"776.67\" y=\"-463.8\" font-family=\"Times,serif\" font-size=\"14.00\">samples = 3.5%</text>\n",
       "<text text-anchor=\"start\" x=\"766.67\" y=\"-448.8\" font-family=\"Times,serif\" font-size=\"14.00\">value = [0.72, 0.28]</text>\n",
       "<text text-anchor=\"start\" x=\"786.67\" y=\"-433.8\" font-family=\"Times,serif\" font-size=\"14.00\">class = male</text>\n",
       "</g>\n",
       "<!-- 2&#45;&gt;4 -->\n",
       "<g id=\"edge4\" class=\"edge\">\n",
       "<title>2&#45;&gt;4</title>\n",
       "<path fill=\"none\" stroke=\"black\" d=\"M638.87,-452.5C672.28,-452.5 713.64,-452.5 748.47,-452.5\"/>\n",
       "<polygon fill=\"black\" stroke=\"black\" points=\"748.58,-456 758.58,-452.5 748.58,-449 748.58,-456\"/>\n",
       "</g>\n",
       "<!-- 6 -->\n",
       "<g id=\"node7\" class=\"node\">\n",
       "<title>6</title>\n",
       "<polygon fill=\"#acd6f4\" stroke=\"black\" points=\"884.67,-408 758.67,-408 758.67,-355 884.67,-355 884.67,-408\"/>\n",
       "<text text-anchor=\"start\" x=\"773.17\" y=\"-392.8\" font-family=\"Times,serif\" font-size=\"14.00\">samples = 22.5%</text>\n",
       "<text text-anchor=\"start\" x=\"766.67\" y=\"-377.8\" font-family=\"Times,serif\" font-size=\"14.00\">value = [0.37, 0.63]</text>\n",
       "<text text-anchor=\"start\" x=\"781.67\" y=\"-362.8\" font-family=\"Times,serif\" font-size=\"14.00\">class = female</text>\n",
       "</g>\n",
       "<!-- 5&#45;&gt;6 -->\n",
       "<g id=\"edge6\" class=\"edge\">\n",
       "<title>5&#45;&gt;6</title>\n",
       "<path fill=\"none\" stroke=\"black\" d=\"M638.87,-349.46C672.28,-355.35 713.64,-362.64 748.47,-368.78\"/>\n",
       "<polygon fill=\"black\" stroke=\"black\" points=\"748.12,-372.27 758.58,-370.56 749.34,-365.38 748.12,-372.27\"/>\n",
       "</g>\n",
       "<!-- 7 -->\n",
       "<g id=\"node8\" class=\"node\">\n",
       "<title>7</title>\n",
       "<polygon fill=\"#e78c4b\" stroke=\"black\" points=\"884.67,-337 758.67,-337 758.67,-284 884.67,-284 884.67,-337\"/>\n",
       "<text text-anchor=\"start\" x=\"776.67\" y=\"-321.8\" font-family=\"Times,serif\" font-size=\"14.00\">samples = 0.6%</text>\n",
       "<text text-anchor=\"start\" x=\"766.67\" y=\"-306.8\" font-family=\"Times,serif\" font-size=\"14.00\">value = [0.92, 0.08]</text>\n",
       "<text text-anchor=\"start\" x=\"786.67\" y=\"-291.8\" font-family=\"Times,serif\" font-size=\"14.00\">class = male</text>\n",
       "</g>\n",
       "<!-- 5&#45;&gt;7 -->\n",
       "<g id=\"edge7\" class=\"edge\">\n",
       "<title>5&#45;&gt;7</title>\n",
       "<path fill=\"none\" stroke=\"black\" d=\"M638.87,-331.36C672.28,-327.53 713.64,-322.78 748.47,-318.78\"/>\n",
       "<polygon fill=\"black\" stroke=\"black\" points=\"749.04,-322.24 758.58,-317.62 748.24,-315.29 749.04,-322.24\"/>\n",
       "</g>\n",
       "<!-- 9 -->\n",
       "<g id=\"node10\" class=\"node\">\n",
       "<title>9</title>\n",
       "<polygon fill=\"#f5d0b5\" stroke=\"black\" points=\"638.67,-245.5 512.67,-245.5 512.67,-177.5 638.67,-177.5 638.67,-245.5\"/>\n",
       "<text text-anchor=\"start\" x=\"544.67\" y=\"-230.3\" font-family=\"Times,serif\" font-size=\"14.00\">best ≤ 0.02</text>\n",
       "<text text-anchor=\"start\" x=\"527.17\" y=\"-215.3\" font-family=\"Times,serif\" font-size=\"14.00\">samples = 29.9%</text>\n",
       "<text text-anchor=\"start\" x=\"520.67\" y=\"-200.3\" font-family=\"Times,serif\" font-size=\"14.00\">value = [0.62, 0.38]</text>\n",
       "<text text-anchor=\"start\" x=\"540.67\" y=\"-185.3\" font-family=\"Times,serif\" font-size=\"14.00\">class = male</text>\n",
       "</g>\n",
       "<!-- 8&#45;&gt;9 -->\n",
       "<g id=\"edge9\" class=\"edge\">\n",
       "<title>8&#45;&gt;9</title>\n",
       "<path fill=\"none\" stroke=\"black\" d=\"M387.42,-211.5C421.48,-211.5 465.42,-211.5 502.18,-211.5\"/>\n",
       "<polygon fill=\"black\" stroke=\"black\" points=\"502.34,-215 512.34,-211.5 502.34,-208 502.34,-215\"/>\n",
       "</g>\n",
       "<!-- 12 -->\n",
       "<g id=\"node13\" class=\"node\">\n",
       "<title>12</title>\n",
       "<polygon fill=\"#77bced\" stroke=\"black\" points=\"638.67,-131.5 512.67,-131.5 512.67,-63.5 638.67,-63.5 638.67,-131.5\"/>\n",
       "<text text-anchor=\"start\" x=\"540.67\" y=\"-116.3\" font-family=\"Times,serif\" font-size=\"14.00\">heard ≤ 0.01</text>\n",
       "<text text-anchor=\"start\" x=\"530.67\" y=\"-101.3\" font-family=\"Times,serif\" font-size=\"14.00\">samples = 1.5%</text>\n",
       "<text text-anchor=\"start\" x=\"520.67\" y=\"-86.3\" font-family=\"Times,serif\" font-size=\"14.00\">value = [0.24, 0.76]</text>\n",
       "<text text-anchor=\"start\" x=\"535.67\" y=\"-71.3\" font-family=\"Times,serif\" font-size=\"14.00\">class = female</text>\n",
       "</g>\n",
       "<!-- 8&#45;&gt;12 -->\n",
       "<g id=\"edge12\" class=\"edge\">\n",
       "<title>8&#45;&gt;12</title>\n",
       "<path fill=\"none\" stroke=\"black\" d=\"M387.42,-185.35C421.78,-169.23 466.18,-148.4 503.12,-131.07\"/>\n",
       "<polygon fill=\"black\" stroke=\"black\" points=\"504.77,-134.16 512.34,-126.74 501.8,-127.82 504.77,-134.16\"/>\n",
       "</g>\n",
       "<!-- 10 -->\n",
       "<g id=\"node11\" class=\"node\">\n",
       "<title>10</title>\n",
       "<polygon fill=\"#fae6d8\" stroke=\"black\" points=\"884.67,-266 758.67,-266 758.67,-213 884.67,-213 884.67,-266\"/>\n",
       "<text text-anchor=\"start\" x=\"773.17\" y=\"-250.8\" font-family=\"Times,serif\" font-size=\"14.00\">samples = 23.9%</text>\n",
       "<text text-anchor=\"start\" x=\"766.67\" y=\"-235.8\" font-family=\"Times,serif\" font-size=\"14.00\">value = [0.55, 0.45]</text>\n",
       "<text text-anchor=\"start\" x=\"786.67\" y=\"-220.8\" font-family=\"Times,serif\" font-size=\"14.00\">class = male</text>\n",
       "</g>\n",
       "<!-- 9&#45;&gt;10 -->\n",
       "<g id=\"edge10\" class=\"edge\">\n",
       "<title>9&#45;&gt;10</title>\n",
       "<path fill=\"none\" stroke=\"black\" d=\"M638.87,-218.64C672.28,-222.47 713.64,-227.22 748.47,-231.22\"/>\n",
       "<polygon fill=\"black\" stroke=\"black\" points=\"748.24,-234.71 758.58,-232.38 749.04,-227.76 748.24,-234.71\"/>\n",
       "</g>\n",
       "<!-- 11 -->\n",
       "<g id=\"node12\" class=\"node\">\n",
       "<title>11</title>\n",
       "<polygon fill=\"#ea995f\" stroke=\"black\" points=\"884.67,-195 758.67,-195 758.67,-142 884.67,-142 884.67,-195\"/>\n",
       "<text text-anchor=\"start\" x=\"776.67\" y=\"-179.8\" font-family=\"Times,serif\" font-size=\"14.00\">samples = 6.0%</text>\n",
       "<text text-anchor=\"start\" x=\"766.67\" y=\"-164.8\" font-family=\"Times,serif\" font-size=\"14.00\">value = [0.84, 0.16]</text>\n",
       "<text text-anchor=\"start\" x=\"786.67\" y=\"-149.8\" font-family=\"Times,serif\" font-size=\"14.00\">class = male</text>\n",
       "</g>\n",
       "<!-- 9&#45;&gt;11 -->\n",
       "<g id=\"edge11\" class=\"edge\">\n",
       "<title>9&#45;&gt;11</title>\n",
       "<path fill=\"none\" stroke=\"black\" d=\"M638.87,-200.54C672.28,-194.65 713.64,-187.36 748.47,-181.22\"/>\n",
       "<polygon fill=\"black\" stroke=\"black\" points=\"749.34,-184.62 758.58,-179.44 748.12,-177.73 749.34,-184.62\"/>\n",
       "</g>\n",
       "<!-- 13 -->\n",
       "<g id=\"node14\" class=\"node\">\n",
       "<title>13</title>\n",
       "<polygon fill=\"#57ace9\" stroke=\"black\" points=\"884.67,-124 758.67,-124 758.67,-71 884.67,-71 884.67,-124\"/>\n",
       "<text text-anchor=\"start\" x=\"776.67\" y=\"-108.8\" font-family=\"Times,serif\" font-size=\"14.00\">samples = 1.0%</text>\n",
       "<text text-anchor=\"start\" x=\"766.67\" y=\"-93.8\" font-family=\"Times,serif\" font-size=\"14.00\">value = [0.13, 0.87]</text>\n",
       "<text text-anchor=\"start\" x=\"781.67\" y=\"-78.8\" font-family=\"Times,serif\" font-size=\"14.00\">class = female</text>\n",
       "</g>\n",
       "<!-- 12&#45;&gt;13 -->\n",
       "<g id=\"edge13\" class=\"edge\">\n",
       "<title>12&#45;&gt;13</title>\n",
       "<path fill=\"none\" stroke=\"black\" d=\"M638.87,-97.5C672.28,-97.5 713.64,-97.5 748.47,-97.5\"/>\n",
       "<polygon fill=\"black\" stroke=\"black\" points=\"748.58,-101 758.58,-97.5 748.58,-94 748.58,-101\"/>\n",
       "</g>\n",
       "<!-- 14 -->\n",
       "<g id=\"node15\" class=\"node\">\n",
       "<title>14</title>\n",
       "<polygon fill=\"#ffffff\" stroke=\"black\" points=\"878.17,-53 765.17,-53 765.17,0 878.17,0 878.17,-53\"/>\n",
       "<text text-anchor=\"start\" x=\"776.67\" y=\"-37.8\" font-family=\"Times,serif\" font-size=\"14.00\">samples = 0.5%</text>\n",
       "<text text-anchor=\"start\" x=\"773.17\" y=\"-22.8\" font-family=\"Times,serif\" font-size=\"14.00\">value = [0.5, 0.5]</text>\n",
       "<text text-anchor=\"start\" x=\"786.67\" y=\"-7.8\" font-family=\"Times,serif\" font-size=\"14.00\">class = male</text>\n",
       "</g>\n",
       "<!-- 12&#45;&gt;14 -->\n",
       "<g id=\"edge14\" class=\"edge\">\n",
       "<title>12&#45;&gt;14</title>\n",
       "<path fill=\"none\" stroke=\"black\" d=\"M638.87,-79.4C674.36,-69.07 718.82,-56.14 754.89,-45.64\"/>\n",
       "<polygon fill=\"black\" stroke=\"black\" points=\"756.2,-48.9 764.83,-42.75 754.25,-42.18 756.2,-48.9\"/>\n",
       "</g>\n",
       "</g>\n",
       "</svg>\n"
      ],
      "text/plain": [
       "<graphviz.files.Source at 0x7fe92cd6f050>"
      ]
     },
     "metadata": {},
     "output_type": "display_data"
    }
   ],
   "source": [
    "def draw_tree(t, df, size=10, ratio=0.6, precision=0):\n",
    "    \"\"\" \n",
    "    Draws a representation of a decition tree in IPython from fastai v0.7\n",
    "    \"\"\"\n",
    "    s=export_graphviz(t, out_file=None, feature_names=numeric_features_list, filled=True,\n",
    "                      special_characters=True, rotate=True, precision=precision, \n",
    "                      proportion=True, class_names = [\"male\", \"female\"], impurity = False)\n",
    "    IPython.display.display(graphviz.Source(re.sub('Tree {',\n",
    "       f'Tree {{ size={size}; ratio={ratio}', s)))\n",
    "\n",
    "draw_tree(m.estimators_[0], X_train, precision=2)"
   ]
  },
  {
   "cell_type": "markdown",
   "metadata": {
    "papermill": {
     "duration": 0.085092,
     "end_time": "2020-11-22T09:04:28.226398",
     "exception": false,
     "start_time": "2020-11-22T09:04:28.141306",
     "status": "completed"
    },
    "tags": []
   },
   "source": [
    "Here the blue colored nodes indicate their majority class is \"female\" while the orange colored nodes have a majority of \"male\" labels. The decision tree starts with a mixed sample, but the leaves of the tree are biased towards one class or the other. Most splits seem to be happening using dialogue tokens."
   ]
  },
  {
   "cell_type": "markdown",
   "metadata": {
    "papermill": {
     "duration": 0.084899,
     "end_time": "2020-11-22T09:04:28.396630",
     "exception": false,
     "start_time": "2020-11-22T09:04:28.311731",
     "status": "completed"
    },
    "tags": []
   },
   "source": [
    "#### Feature importance for the Random Forest model"
   ]
  },
  {
   "cell_type": "code",
   "execution_count": 41,
   "metadata": {
    "execution": {
     "iopub.execute_input": "2020-11-22T09:04:28.574953Z",
     "iopub.status.busy": "2020-11-22T09:04:28.573897Z",
     "iopub.status.idle": "2020-11-22T09:04:28.997603Z",
     "shell.execute_reply": "2020-11-22T09:04:28.996766Z"
    },
    "papermill": {
     "duration": 0.516043,
     "end_time": "2020-11-22T09:04:28.997748",
     "exception": false,
     "start_time": "2020-11-22T09:04:28.481705",
     "status": "completed"
    },
    "tags": []
   },
   "outputs": [
    {
     "data": {
      "text/html": [
       "<div>\n",
       "<style scoped>\n",
       "    .dataframe tbody tr th:only-of-type {\n",
       "        vertical-align: middle;\n",
       "    }\n",
       "\n",
       "    .dataframe tbody tr th {\n",
       "        vertical-align: top;\n",
       "    }\n",
       "\n",
       "    .dataframe thead th {\n",
       "        text-align: right;\n",
       "    }\n",
       "</style>\n",
       "<table border=\"1\" class=\"dataframe\">\n",
       "  <thead>\n",
       "    <tr style=\"text-align: right;\">\n",
       "      <th></th>\n",
       "      <th>feature</th>\n",
       "      <th>weight</th>\n",
       "      <th>std</th>\n",
       "    </tr>\n",
       "  </thead>\n",
       "  <tbody>\n",
       "    <tr>\n",
       "      <th>0</th>\n",
       "      <td>oh</td>\n",
       "      <td>0.077328</td>\n",
       "      <td>0.027570</td>\n",
       "    </tr>\n",
       "    <tr>\n",
       "      <th>1</th>\n",
       "      <td>man</td>\n",
       "      <td>0.040615</td>\n",
       "      <td>0.030255</td>\n",
       "    </tr>\n",
       "    <tr>\n",
       "      <th>2</th>\n",
       "      <td>love</td>\n",
       "      <td>0.022664</td>\n",
       "      <td>0.026011</td>\n",
       "    </tr>\n",
       "    <tr>\n",
       "      <th>3</th>\n",
       "      <td>shit</td>\n",
       "      <td>0.019557</td>\n",
       "      <td>0.027031</td>\n",
       "    </tr>\n",
       "    <tr>\n",
       "      <th>4</th>\n",
       "      <td>said</td>\n",
       "      <td>0.017135</td>\n",
       "      <td>0.018359</td>\n",
       "    </tr>\n",
       "    <tr>\n",
       "      <th>5</th>\n",
       "      <td>lineLength_median</td>\n",
       "      <td>0.015757</td>\n",
       "      <td>0.017705</td>\n",
       "    </tr>\n",
       "    <tr>\n",
       "      <th>6</th>\n",
       "      <td>got</td>\n",
       "      <td>0.013712</td>\n",
       "      <td>0.018381</td>\n",
       "    </tr>\n",
       "    <tr>\n",
       "      <th>7</th>\n",
       "      <td>really</td>\n",
       "      <td>0.013227</td>\n",
       "      <td>0.018366</td>\n",
       "    </tr>\n",
       "    <tr>\n",
       "      <th>8</th>\n",
       "      <td>hey</td>\n",
       "      <td>0.012435</td>\n",
       "      <td>0.019035</td>\n",
       "    </tr>\n",
       "    <tr>\n",
       "      <th>9</th>\n",
       "      <td>good</td>\n",
       "      <td>0.012253</td>\n",
       "      <td>0.017000</td>\n",
       "    </tr>\n",
       "    <tr>\n",
       "      <th>10</th>\n",
       "      <td>look</td>\n",
       "      <td>0.011174</td>\n",
       "      <td>0.016425</td>\n",
       "    </tr>\n",
       "    <tr>\n",
       "      <th>11</th>\n",
       "      <td>right</td>\n",
       "      <td>0.009775</td>\n",
       "      <td>0.012608</td>\n",
       "    </tr>\n",
       "    <tr>\n",
       "      <th>12</th>\n",
       "      <td>sir</td>\n",
       "      <td>0.009673</td>\n",
       "      <td>0.018090</td>\n",
       "    </tr>\n",
       "    <tr>\n",
       "      <th>13</th>\n",
       "      <td>think</td>\n",
       "      <td>0.009661</td>\n",
       "      <td>0.014078</td>\n",
       "    </tr>\n",
       "    <tr>\n",
       "      <th>14</th>\n",
       "      <td>know</td>\n",
       "      <td>0.009660</td>\n",
       "      <td>0.012629</td>\n",
       "    </tr>\n",
       "    <tr>\n",
       "      <th>15</th>\n",
       "      <td>em</td>\n",
       "      <td>0.008794</td>\n",
       "      <td>0.019125</td>\n",
       "    </tr>\n",
       "    <tr>\n",
       "      <th>16</th>\n",
       "      <td>like</td>\n",
       "      <td>0.008730</td>\n",
       "      <td>0.011206</td>\n",
       "    </tr>\n",
       "    <tr>\n",
       "      <th>17</th>\n",
       "      <td>understand</td>\n",
       "      <td>0.008263</td>\n",
       "      <td>0.013995</td>\n",
       "    </tr>\n",
       "    <tr>\n",
       "      <th>18</th>\n",
       "      <td>want</td>\n",
       "      <td>0.008112</td>\n",
       "      <td>0.012310</td>\n",
       "    </tr>\n",
       "    <tr>\n",
       "      <th>19</th>\n",
       "      <td>yeah</td>\n",
       "      <td>0.007471</td>\n",
       "      <td>0.014095</td>\n",
       "    </tr>\n",
       "    <tr>\n",
       "      <th>20</th>\n",
       "      <td>get</td>\n",
       "      <td>0.007464</td>\n",
       "      <td>0.010990</td>\n",
       "    </tr>\n",
       "    <tr>\n",
       "      <th>21</th>\n",
       "      <td>would</td>\n",
       "      <td>0.007399</td>\n",
       "      <td>0.010665</td>\n",
       "    </tr>\n",
       "    <tr>\n",
       "      <th>22</th>\n",
       "      <td>chId_count</td>\n",
       "      <td>0.007074</td>\n",
       "      <td>0.010570</td>\n",
       "    </tr>\n",
       "    <tr>\n",
       "      <th>23</th>\n",
       "      <td>come</td>\n",
       "      <td>0.006845</td>\n",
       "      <td>0.010507</td>\n",
       "    </tr>\n",
       "    <tr>\n",
       "      <th>24</th>\n",
       "      <td>god</td>\n",
       "      <td>0.006782</td>\n",
       "      <td>0.011838</td>\n",
       "    </tr>\n",
       "    <tr>\n",
       "      <th>25</th>\n",
       "      <td>releaseYear</td>\n",
       "      <td>0.006504</td>\n",
       "      <td>0.009230</td>\n",
       "    </tr>\n",
       "    <tr>\n",
       "      <th>26</th>\n",
       "      <td>hi</td>\n",
       "      <td>0.006305</td>\n",
       "      <td>0.016955</td>\n",
       "    </tr>\n",
       "    <tr>\n",
       "      <th>27</th>\n",
       "      <td>one</td>\n",
       "      <td>0.006265</td>\n",
       "      <td>0.009646</td>\n",
       "    </tr>\n",
       "    <tr>\n",
       "      <th>28</th>\n",
       "      <td>gotta</td>\n",
       "      <td>0.006075</td>\n",
       "      <td>0.014320</td>\n",
       "    </tr>\n",
       "    <tr>\n",
       "      <th>29</th>\n",
       "      <td>child</td>\n",
       "      <td>0.005858</td>\n",
       "      <td>0.013265</td>\n",
       "    </tr>\n",
       "  </tbody>\n",
       "</table>\n",
       "</div>"
      ],
      "text/plain": [
       "              feature    weight       std\n",
       "0                  oh  0.077328  0.027570\n",
       "1                 man  0.040615  0.030255\n",
       "2                love  0.022664  0.026011\n",
       "3                shit  0.019557  0.027031\n",
       "4                said  0.017135  0.018359\n",
       "5   lineLength_median  0.015757  0.017705\n",
       "6                 got  0.013712  0.018381\n",
       "7              really  0.013227  0.018366\n",
       "8                 hey  0.012435  0.019035\n",
       "9                good  0.012253  0.017000\n",
       "10               look  0.011174  0.016425\n",
       "11              right  0.009775  0.012608\n",
       "12                sir  0.009673  0.018090\n",
       "13              think  0.009661  0.014078\n",
       "14               know  0.009660  0.012629\n",
       "15                 em  0.008794  0.019125\n",
       "16               like  0.008730  0.011206\n",
       "17         understand  0.008263  0.013995\n",
       "18               want  0.008112  0.012310\n",
       "19               yeah  0.007471  0.014095\n",
       "20                get  0.007464  0.010990\n",
       "21              would  0.007399  0.010665\n",
       "22         chId_count  0.007074  0.010570\n",
       "23               come  0.006845  0.010507\n",
       "24                god  0.006782  0.011838\n",
       "25        releaseYear  0.006504  0.009230\n",
       "26                 hi  0.006305  0.016955\n",
       "27                one  0.006265  0.009646\n",
       "28              gotta  0.006075  0.014320\n",
       "29              child  0.005858  0.013265"
      ]
     },
     "execution_count": 41,
     "metadata": {},
     "output_type": "execute_result"
    }
   ],
   "source": [
    "eli5.explain_weights_df(rf_clf.named_steps['classifier'], top=30, feature_names=numeric_features_list)"
   ]
  },
  {
   "cell_type": "markdown",
   "metadata": {
    "papermill": {
     "duration": 0.085173,
     "end_time": "2020-11-22T09:04:29.169905",
     "exception": false,
     "start_time": "2020-11-22T09:04:29.084732",
     "status": "completed"
    },
    "tags": []
   },
   "source": [
    "We see that the median length of a dialogue, total no of lines (`chId_count`) & position in the post credits in a movie are important features along with the tokens extracted from the character's dialogues for the Random Forest model!"
   ]
  }
 ],
 "metadata": {
  "kernelspec": {
   "display_name": "Python 3",
   "language": "python",
   "name": "python3"
  },
  "language_info": {
   "codemirror_mode": {
    "name": "ipython",
    "version": 3
   },
   "file_extension": ".py",
   "mimetype": "text/x-python",
   "name": "python",
   "nbconvert_exporter": "python",
   "pygments_lexer": "ipython3",
   "version": "3.7.6"
  },
  "papermill": {
   "duration": 105.067702,
   "end_time": "2020-11-22T09:04:29.364639",
   "environment_variables": {},
   "exception": null,
   "input_path": "__notebook__.ipynb",
   "output_path": "__notebook__.ipynb",
   "parameters": {},
   "start_time": "2020-11-22T09:02:44.296937",
   "version": "2.1.0"
  }
 },
 "nbformat": 4,
 "nbformat_minor": 4
}
