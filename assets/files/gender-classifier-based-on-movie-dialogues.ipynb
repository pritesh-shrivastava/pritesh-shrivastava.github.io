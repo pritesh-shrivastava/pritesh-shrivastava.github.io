{
 "cells": [
  {
   "cell_type": "markdown",
   "metadata": {
    "papermill": {
     "duration": 0.047637,
     "end_time": "2020-11-17T18:42:50.965650",
     "exception": false,
     "start_time": "2020-11-17T18:42:50.918013",
     "status": "completed"
    },
    "tags": []
   },
   "source": [
    "In this notebook, we will try to predict the gender of a Hollywood movie character based in his / her dialogues in the movie. The [dataset](https://www.kaggle.com/Cornell-University/movie-dialog-corpus) was released by [Cornell University](http://www.cs.cornell.edu/~cristian/Cornell_Movie-Dialogs_Corpus.html). This classifier will help us understand if there is some kind of gender bias between male and female characters in Hollywood movies."
   ]
  },
  {
   "cell_type": "markdown",
   "metadata": {
    "papermill": {
     "duration": 0.045585,
     "end_time": "2020-11-17T18:42:51.057381",
     "exception": false,
     "start_time": "2020-11-17T18:42:51.011796",
     "status": "completed"
    },
    "tags": []
   },
   "source": [
    "### Import necessary libraries"
   ]
  },
  {
   "cell_type": "code",
   "execution_count": 1,
   "metadata": {
    "_cell_guid": "3ba0a9bd-82cd-4c7f-9df1-d855df169cf9",
    "_execution_state": "idle",
    "_uuid": "b6c533290632400d56c4f3c01cfc9d8e1d37e85b",
    "execution": {
     "iopub.execute_input": "2020-11-17T18:42:51.164307Z",
     "iopub.status.busy": "2020-11-17T18:42:51.163496Z",
     "iopub.status.idle": "2020-11-17T18:43:01.602552Z",
     "shell.execute_reply": "2020-11-17T18:43:01.601563Z"
    },
    "papermill": {
     "duration": 10.49849,
     "end_time": "2020-11-17T18:43:01.602784",
     "exception": false,
     "start_time": "2020-11-17T18:42:51.104294",
     "status": "completed"
    },
    "tags": []
   },
   "outputs": [
    {
     "name": "stderr",
     "output_type": "stream",
     "text": [
      "/opt/conda/lib/python3.7/site-packages/sklearn/utils/deprecation.py:143: FutureWarning: The sklearn.metrics.scorer module is  deprecated in version 0.22 and will be removed in version 0.24. The corresponding classes / functions should instead be imported from sklearn.metrics. Anything that cannot be imported from sklearn.metrics is now part of the private API.\n",
      "  warnings.warn(message, FutureWarning)\n",
      "/opt/conda/lib/python3.7/site-packages/sklearn/utils/deprecation.py:143: FutureWarning: The sklearn.feature_selection.base module is  deprecated in version 0.22 and will be removed in version 0.24. The corresponding classes / functions should instead be imported from sklearn.feature_selection. Anything that cannot be imported from sklearn.feature_selection is now part of the private API.\n",
      "  warnings.warn(message, FutureWarning)\n"
     ]
    }
   ],
   "source": [
    "import pandas as pd\n",
    "import numpy as np\n",
    "import re\n",
    "from nltk.corpus import stopwords\n",
    "from nltk.stem import WordNetLemmatizer\n",
    "from wordcloud import WordCloud\n",
    "import matplotlib.pyplot as plt\n",
    "import seaborn as sns\n",
    "import warnings\n",
    "\n",
    "from sklearn.preprocessing import OneHotEncoder, StandardScaler, MinMaxScaler\n",
    "from sklearn.compose import ColumnTransformer\n",
    "from sklearn.feature_extraction.text import TfidfTransformer, CountVectorizer, TfidfVectorizer\n",
    "from sklearn.preprocessing import FunctionTransformer\n",
    "from sklearn.linear_model import LogisticRegression\n",
    "from sklearn.naive_bayes import MultinomialNB\n",
    "from sklearn.ensemble import RandomForestClassifier,BaggingClassifier\n",
    "from sklearn.svm import SVC\n",
    "from sklearn.calibration import CalibratedClassifierCV\n",
    "from sklearn.metrics import classification_report, confusion_matrix\n",
    "from sklearn.pipeline import FeatureUnion, Pipeline\n",
    "from sklearn.model_selection import train_test_split\n",
    "from sklearn.base import BaseEstimator, TransformerMixin\n",
    "from sklearn import svm\n",
    "from sklearn.multiclass import OneVsRestClassifier\n",
    "from sklearn.svm import LinearSVC\n",
    "\n",
    "from imblearn.under_sampling import RandomUnderSampler\n",
    "import eli5\n",
    "\n",
    "import IPython\n",
    "from IPython.display import display\n",
    "import graphviz\n",
    "from sklearn.tree import export_graphviz\n",
    "import re\n",
    "\n",
    "\n",
    "warnings.filterwarnings('ignore')\n",
    "pd.set_option('display.max_rows', 100)"
   ]
  },
  {
   "cell_type": "markdown",
   "metadata": {
    "_execution_state": "idle",
    "_uuid": "e067108cbb3bbf8465528c150e9108d689a5cb46",
    "papermill": {
     "duration": 0.059008,
     "end_time": "2020-11-17T18:43:01.723781",
     "exception": false,
     "start_time": "2020-11-17T18:43:01.664773",
     "status": "completed"
    },
    "tags": []
   },
   "source": [
    "### Reading the dataset"
   ]
  },
  {
   "cell_type": "code",
   "execution_count": 2,
   "metadata": {
    "_cell_guid": "38545e4b-d3a3-4238-ae57-8383ef5c2ba3",
    "_execution_state": "idle",
    "_uuid": "7244a575de5697a41d944e33c005b7b11eb09e26",
    "execution": {
     "iopub.execute_input": "2020-11-17T18:43:01.856813Z",
     "iopub.status.busy": "2020-11-17T18:43:01.856023Z",
     "iopub.status.idle": "2020-11-17T18:43:02.794240Z",
     "shell.execute_reply": "2020-11-17T18:43:02.793502Z"
    },
    "papermill": {
     "duration": 1.009243,
     "end_time": "2020-11-17T18:43:02.794374",
     "exception": false,
     "start_time": "2020-11-17T18:43:01.785131",
     "status": "completed"
    },
    "tags": []
   },
   "outputs": [
    {
     "data": {
      "text/html": [
       "<div>\n",
       "<style scoped>\n",
       "    .dataframe tbody tr th:only-of-type {\n",
       "        vertical-align: middle;\n",
       "    }\n",
       "\n",
       "    .dataframe tbody tr th {\n",
       "        vertical-align: top;\n",
       "    }\n",
       "\n",
       "    .dataframe thead th {\n",
       "        text-align: right;\n",
       "    }\n",
       "</style>\n",
       "<table border=\"1\" class=\"dataframe\">\n",
       "  <thead>\n",
       "    <tr style=\"text-align: right;\">\n",
       "      <th></th>\n",
       "      <th>0</th>\n",
       "      <th>1</th>\n",
       "      <th>2</th>\n",
       "      <th>3</th>\n",
       "      <th>4</th>\n",
       "      <th>5</th>\n",
       "    </tr>\n",
       "  </thead>\n",
       "  <tbody>\n",
       "    <tr>\n",
       "      <th>0</th>\n",
       "      <td>u0</td>\n",
       "      <td>BIANCA</td>\n",
       "      <td>m0</td>\n",
       "      <td>10 things i hate about you</td>\n",
       "      <td>f</td>\n",
       "      <td>4</td>\n",
       "    </tr>\n",
       "    <tr>\n",
       "      <th>1</th>\n",
       "      <td>u1</td>\n",
       "      <td>BRUCE</td>\n",
       "      <td>m0</td>\n",
       "      <td>10 things i hate about you</td>\n",
       "      <td>?</td>\n",
       "      <td>?</td>\n",
       "    </tr>\n",
       "    <tr>\n",
       "      <th>2</th>\n",
       "      <td>u2</td>\n",
       "      <td>CAMERON</td>\n",
       "      <td>m0</td>\n",
       "      <td>10 things i hate about you</td>\n",
       "      <td>m</td>\n",
       "      <td>3</td>\n",
       "    </tr>\n",
       "    <tr>\n",
       "      <th>3</th>\n",
       "      <td>u3</td>\n",
       "      <td>CHASTITY</td>\n",
       "      <td>m0</td>\n",
       "      <td>10 things i hate about you</td>\n",
       "      <td>?</td>\n",
       "      <td>?</td>\n",
       "    </tr>\n",
       "    <tr>\n",
       "      <th>4</th>\n",
       "      <td>u4</td>\n",
       "      <td>JOEY</td>\n",
       "      <td>m0</td>\n",
       "      <td>10 things i hate about you</td>\n",
       "      <td>m</td>\n",
       "      <td>6</td>\n",
       "    </tr>\n",
       "  </tbody>\n",
       "</table>\n",
       "</div>"
      ],
      "text/plain": [
       "    0         1   2                           3  4  5\n",
       "0  u0    BIANCA  m0  10 things i hate about you  f  4\n",
       "1  u1     BRUCE  m0  10 things i hate about you  ?  ?\n",
       "2  u2   CAMERON  m0  10 things i hate about you  m  3\n",
       "3  u3  CHASTITY  m0  10 things i hate about you  ?  ?\n",
       "4  u4      JOEY  m0  10 things i hate about you  m  6"
      ]
     },
     "execution_count": 2,
     "metadata": {},
     "output_type": "execute_result"
    }
   ],
   "source": [
    "lines_df = pd.read_csv('../input/movie_lines.tsv', sep='\\t', error_bad_lines=False,\n",
    "                       warn_bad_lines=False, header=None)\n",
    "characters_df = pd.read_csv('../input/movie_characters_metadata.tsv', sep='\\t', warn_bad_lines=False,\n",
    "                            error_bad_lines=False, header=None)\n",
    "\n",
    "characters_df.head()"
   ]
  },
  {
   "cell_type": "markdown",
   "metadata": {
    "_cell_guid": "951431ca-b029-493a-b5e9-60eb276335f6",
    "_execution_state": "idle",
    "_uuid": "c1b241261fd00b10b050cbfea8b50c7e5933b4f8",
    "papermill": {
     "duration": 0.04605,
     "end_time": "2020-11-17T18:43:02.888130",
     "exception": false,
     "start_time": "2020-11-17T18:43:02.842080",
     "status": "completed"
    },
    "tags": []
   },
   "source": [
    "Adding column names to characters dataframe"
   ]
  },
  {
   "cell_type": "code",
   "execution_count": 3,
   "metadata": {
    "_cell_guid": "95dfc0ac-4bea-405c-8612-25fa1575a611",
    "_execution_state": "idle",
    "_uuid": "b35629052ef7c6cbc0517a61f35cc3831fac57b5",
    "execution": {
     "iopub.execute_input": "2020-11-17T18:43:02.999351Z",
     "iopub.status.busy": "2020-11-17T18:43:02.998413Z",
     "iopub.status.idle": "2020-11-17T18:43:03.003217Z",
     "shell.execute_reply": "2020-11-17T18:43:03.002491Z"
    },
    "papermill": {
     "duration": 0.068551,
     "end_time": "2020-11-17T18:43:03.003340",
     "exception": false,
     "start_time": "2020-11-17T18:43:02.934789",
     "status": "completed"
    },
    "tags": []
   },
   "outputs": [
    {
     "data": {
      "text/html": [
       "<div>\n",
       "<style scoped>\n",
       "    .dataframe tbody tr th:only-of-type {\n",
       "        vertical-align: middle;\n",
       "    }\n",
       "\n",
       "    .dataframe tbody tr th {\n",
       "        vertical-align: top;\n",
       "    }\n",
       "\n",
       "    .dataframe thead th {\n",
       "        text-align: right;\n",
       "    }\n",
       "</style>\n",
       "<table border=\"1\" class=\"dataframe\">\n",
       "  <thead>\n",
       "    <tr style=\"text-align: right;\">\n",
       "      <th></th>\n",
       "      <th>chId</th>\n",
       "      <th>chName</th>\n",
       "      <th>mId</th>\n",
       "      <th>mName</th>\n",
       "      <th>gender</th>\n",
       "      <th>posCredits</th>\n",
       "    </tr>\n",
       "  </thead>\n",
       "  <tbody>\n",
       "    <tr>\n",
       "      <th>0</th>\n",
       "      <td>u0</td>\n",
       "      <td>BIANCA</td>\n",
       "      <td>m0</td>\n",
       "      <td>10 things i hate about you</td>\n",
       "      <td>f</td>\n",
       "      <td>4</td>\n",
       "    </tr>\n",
       "    <tr>\n",
       "      <th>1</th>\n",
       "      <td>u1</td>\n",
       "      <td>BRUCE</td>\n",
       "      <td>m0</td>\n",
       "      <td>10 things i hate about you</td>\n",
       "      <td>?</td>\n",
       "      <td>?</td>\n",
       "    </tr>\n",
       "    <tr>\n",
       "      <th>2</th>\n",
       "      <td>u2</td>\n",
       "      <td>CAMERON</td>\n",
       "      <td>m0</td>\n",
       "      <td>10 things i hate about you</td>\n",
       "      <td>m</td>\n",
       "      <td>3</td>\n",
       "    </tr>\n",
       "    <tr>\n",
       "      <th>3</th>\n",
       "      <td>u3</td>\n",
       "      <td>CHASTITY</td>\n",
       "      <td>m0</td>\n",
       "      <td>10 things i hate about you</td>\n",
       "      <td>?</td>\n",
       "      <td>?</td>\n",
       "    </tr>\n",
       "    <tr>\n",
       "      <th>4</th>\n",
       "      <td>u4</td>\n",
       "      <td>JOEY</td>\n",
       "      <td>m0</td>\n",
       "      <td>10 things i hate about you</td>\n",
       "      <td>m</td>\n",
       "      <td>6</td>\n",
       "    </tr>\n",
       "  </tbody>\n",
       "</table>\n",
       "</div>"
      ],
      "text/plain": [
       "  chId    chName mId                       mName gender posCredits\n",
       "0   u0    BIANCA  m0  10 things i hate about you      f          4\n",
       "1   u1     BRUCE  m0  10 things i hate about you      ?          ?\n",
       "2   u2   CAMERON  m0  10 things i hate about you      m          3\n",
       "3   u3  CHASTITY  m0  10 things i hate about you      ?          ?\n",
       "4   u4      JOEY  m0  10 things i hate about you      m          6"
      ]
     },
     "execution_count": 3,
     "metadata": {},
     "output_type": "execute_result"
    }
   ],
   "source": [
    "characters_df.columns=['chId','chName','mId','mName','gender','posCredits']\n",
    "characters_df.head()"
   ]
  },
  {
   "cell_type": "code",
   "execution_count": 4,
   "metadata": {
    "execution": {
     "iopub.execute_input": "2020-11-17T18:43:03.108077Z",
     "iopub.status.busy": "2020-11-17T18:43:03.107206Z",
     "iopub.status.idle": "2020-11-17T18:43:03.111637Z",
     "shell.execute_reply": "2020-11-17T18:43:03.111065Z"
    },
    "papermill": {
     "duration": 0.060656,
     "end_time": "2020-11-17T18:43:03.111773",
     "exception": false,
     "start_time": "2020-11-17T18:43:03.051117",
     "status": "completed"
    },
    "tags": []
   },
   "outputs": [
    {
     "data": {
      "text/plain": [
       "(9034, 6)"
      ]
     },
     "execution_count": 4,
     "metadata": {},
     "output_type": "execute_result"
    }
   ],
   "source": [
    "characters_df.shape"
   ]
  },
  {
   "cell_type": "markdown",
   "metadata": {
    "papermill": {
     "duration": 0.047807,
     "end_time": "2020-11-17T18:43:03.207702",
     "exception": false,
     "start_time": "2020-11-17T18:43:03.159895",
     "status": "completed"
    },
    "tags": []
   },
   "source": [
    "Checking the distribution of gender in the characters dataset"
   ]
  },
  {
   "cell_type": "code",
   "execution_count": 5,
   "metadata": {
    "execution": {
     "iopub.execute_input": "2020-11-17T18:43:03.317016Z",
     "iopub.status.busy": "2020-11-17T18:43:03.315884Z",
     "iopub.status.idle": "2020-11-17T18:43:03.320867Z",
     "shell.execute_reply": "2020-11-17T18:43:03.320106Z"
    },
    "papermill": {
     "duration": 0.064219,
     "end_time": "2020-11-17T18:43:03.321004",
     "exception": false,
     "start_time": "2020-11-17T18:43:03.256785",
     "status": "completed"
    },
    "tags": []
   },
   "outputs": [
    {
     "data": {
      "text/plain": [
       "?    6008\n",
       "m    1899\n",
       "f     921\n",
       "M     145\n",
       "F      44\n",
       "Name: gender, dtype: int64"
      ]
     },
     "execution_count": 5,
     "metadata": {},
     "output_type": "execute_result"
    }
   ],
   "source": [
    "characters_df.gender.value_counts()"
   ]
  },
  {
   "cell_type": "markdown",
   "metadata": {
    "papermill": {
     "duration": 0.052212,
     "end_time": "2020-11-17T18:43:03.422113",
     "exception": false,
     "start_time": "2020-11-17T18:43:03.369901",
     "status": "completed"
    },
    "tags": []
   },
   "source": [
    "We need to clean this column. Let's also remove the characters were gender information is not available.\n",
    "We'll assign a label of 0 to male characters & 1 to female characters."
   ]
  },
  {
   "cell_type": "code",
   "execution_count": 6,
   "metadata": {
    "execution": {
     "iopub.execute_input": "2020-11-17T18:43:03.531198Z",
     "iopub.status.busy": "2020-11-17T18:43:03.530408Z",
     "iopub.status.idle": "2020-11-17T18:43:03.541116Z",
     "shell.execute_reply": "2020-11-17T18:43:03.540370Z"
    },
    "papermill": {
     "duration": 0.06846,
     "end_time": "2020-11-17T18:43:03.541245",
     "exception": false,
     "start_time": "2020-11-17T18:43:03.472785",
     "status": "completed"
    },
    "tags": []
   },
   "outputs": [
    {
     "data": {
      "text/plain": [
       "(3026, 6)"
      ]
     },
     "execution_count": 6,
     "metadata": {},
     "output_type": "execute_result"
    }
   ],
   "source": [
    "characters_df = characters_df[characters_df.gender != '?']\n",
    "characters_df.gender = characters_df.gender.apply(lambda g: 0 if g in ['m', 'M'] else 1)  ## Label encoding\n",
    "\n",
    "characters_df.shape"
   ]
  },
  {
   "cell_type": "code",
   "execution_count": 7,
   "metadata": {
    "execution": {
     "iopub.execute_input": "2020-11-17T18:43:03.647169Z",
     "iopub.status.busy": "2020-11-17T18:43:03.645066Z",
     "iopub.status.idle": "2020-11-17T18:43:03.651422Z",
     "shell.execute_reply": "2020-11-17T18:43:03.652007Z"
    },
    "papermill": {
     "duration": 0.061766,
     "end_time": "2020-11-17T18:43:03.652179",
     "exception": false,
     "start_time": "2020-11-17T18:43:03.590413",
     "status": "completed"
    },
    "tags": []
   },
   "outputs": [
    {
     "data": {
      "text/plain": [
       "0    2044\n",
       "1     982\n",
       "Name: gender, dtype: int64"
      ]
     },
     "execution_count": 7,
     "metadata": {},
     "output_type": "execute_result"
    }
   ],
   "source": [
    "characters_df.gender.value_counts()"
   ]
  },
  {
   "cell_type": "markdown",
   "metadata": {
    "papermill": {
     "duration": 0.04987,
     "end_time": "2020-11-17T18:43:03.752293",
     "exception": false,
     "start_time": "2020-11-17T18:43:03.702423",
     "status": "completed"
    },
    "tags": []
   },
   "source": [
    "Let's also take a look at the position of the character in the post credits of the movie"
   ]
  },
  {
   "cell_type": "code",
   "execution_count": 8,
   "metadata": {
    "execution": {
     "iopub.execute_input": "2020-11-17T18:43:03.863914Z",
     "iopub.status.busy": "2020-11-17T18:43:03.862856Z",
     "iopub.status.idle": "2020-11-17T18:43:03.867807Z",
     "shell.execute_reply": "2020-11-17T18:43:03.867200Z"
    },
    "papermill": {
     "duration": 0.065266,
     "end_time": "2020-11-17T18:43:03.867957",
     "exception": false,
     "start_time": "2020-11-17T18:43:03.802691",
     "status": "completed"
    },
    "tags": []
   },
   "outputs": [
    {
     "data": {
      "text/plain": [
       "1       497\n",
       "2       443\n",
       "3       352\n",
       "?       330\n",
       "4       268\n",
       "5       211\n",
       "6       169\n",
       "7       125\n",
       "8       100\n",
       "9        79\n",
       "10       54\n",
       "11       40\n",
       "1000     38\n",
       "13       33\n",
       "12       32\n",
       "16       26\n",
       "18       24\n",
       "14       24\n",
       "17       19\n",
       "19       18\n",
       "15       14\n",
       "21       13\n",
       "22        9\n",
       "20        8\n",
       "29        7\n",
       "27        6\n",
       "25        5\n",
       "26        5\n",
       "24        5\n",
       "35        4\n",
       "23        4\n",
       "45        4\n",
       "31        4\n",
       "34        3\n",
       "43        3\n",
       "38        3\n",
       "33        3\n",
       "42        2\n",
       "36        2\n",
       "32        2\n",
       "59        2\n",
       "39        2\n",
       "30        2\n",
       "28        2\n",
       "51        1\n",
       "50        1\n",
       "41        1\n",
       "49        1\n",
       "82        1\n",
       "44        1\n",
       "63        1\n",
       "37        1\n",
       "71        1\n",
       "46        1\n",
       "47        1\n",
       "70        1\n",
       "62        1\n",
       "Name: posCredits, dtype: int64"
      ]
     },
     "execution_count": 8,
     "metadata": {},
     "output_type": "execute_result"
    }
   ],
   "source": [
    "characters_df.posCredits.value_counts()"
   ]
  },
  {
   "cell_type": "markdown",
   "metadata": {
    "papermill": {
     "duration": 0.050229,
     "end_time": "2020-11-17T18:43:03.968886",
     "exception": false,
     "start_time": "2020-11-17T18:43:03.918657",
     "status": "completed"
    },
    "tags": []
   },
   "source": [
    "The position of characters in the credits section seems to be a useful feature for classification. We can try to use it as a categorical variable later. But let's combine the low frequency ones together first."
   ]
  },
  {
   "cell_type": "code",
   "execution_count": 9,
   "metadata": {
    "execution": {
     "iopub.execute_input": "2020-11-17T18:43:04.093049Z",
     "iopub.status.busy": "2020-11-17T18:43:04.092144Z",
     "iopub.status.idle": "2020-11-17T18:43:04.097516Z",
     "shell.execute_reply": "2020-11-17T18:43:04.096751Z"
    },
    "papermill": {
     "duration": 0.071764,
     "end_time": "2020-11-17T18:43:04.097652",
     "exception": false,
     "start_time": "2020-11-17T18:43:04.025888",
     "status": "completed"
    },
    "tags": []
   },
   "outputs": [
    {
     "data": {
      "text/plain": [
       "10+    782\n",
       "1      497\n",
       "2      443\n",
       "3      352\n",
       "4      268\n",
       "5      211\n",
       "6      169\n",
       "7      125\n",
       "8      100\n",
       "9       79\n",
       "Name: posCredits, dtype: int64"
      ]
     },
     "execution_count": 9,
     "metadata": {},
     "output_type": "execute_result"
    }
   ],
   "source": [
    "characters_df.posCredits = characters_df.posCredits.apply(lambda p: '10+' if not p in ['1', '2', '3', '4', '5', '6', '7', '8', '9'] else p)  ## Label encoding\n",
    "characters_df.posCredits.value_counts()"
   ]
  },
  {
   "cell_type": "markdown",
   "metadata": {
    "papermill": {
     "duration": 0.052019,
     "end_time": "2020-11-17T18:43:04.201130",
     "exception": false,
     "start_time": "2020-11-17T18:43:04.149111",
     "status": "completed"
    },
    "tags": []
   },
   "source": [
    "Let's clean the lines dataframe now!"
   ]
  },
  {
   "cell_type": "code",
   "execution_count": 10,
   "metadata": {
    "_cell_guid": "4f5c1a41-7991-4cb9-9bfe-22a9e3e8ab88",
    "_execution_state": "idle",
    "_uuid": "f14307a92b5954eb7e130bf092832ceaa5894c84",
    "execution": {
     "iopub.execute_input": "2020-11-17T18:43:04.319557Z",
     "iopub.status.busy": "2020-11-17T18:43:04.318453Z",
     "iopub.status.idle": "2020-11-17T18:43:04.322670Z",
     "shell.execute_reply": "2020-11-17T18:43:04.323227Z"
    },
    "papermill": {
     "duration": 0.070288,
     "end_time": "2020-11-17T18:43:04.323398",
     "exception": false,
     "start_time": "2020-11-17T18:43:04.253110",
     "status": "completed"
    },
    "tags": []
   },
   "outputs": [
    {
     "data": {
      "text/html": [
       "<div>\n",
       "<style scoped>\n",
       "    .dataframe tbody tr th:only-of-type {\n",
       "        vertical-align: middle;\n",
       "    }\n",
       "\n",
       "    .dataframe tbody tr th {\n",
       "        vertical-align: top;\n",
       "    }\n",
       "\n",
       "    .dataframe thead th {\n",
       "        text-align: right;\n",
       "    }\n",
       "</style>\n",
       "<table border=\"1\" class=\"dataframe\">\n",
       "  <thead>\n",
       "    <tr style=\"text-align: right;\">\n",
       "      <th></th>\n",
       "      <th>lineId</th>\n",
       "      <th>chId</th>\n",
       "      <th>mId</th>\n",
       "      <th>chName</th>\n",
       "      <th>dialogue</th>\n",
       "    </tr>\n",
       "  </thead>\n",
       "  <tbody>\n",
       "    <tr>\n",
       "      <th>0</th>\n",
       "      <td>L1045</td>\n",
       "      <td>u0</td>\n",
       "      <td>m0</td>\n",
       "      <td>BIANCA</td>\n",
       "      <td>They do not!</td>\n",
       "    </tr>\n",
       "    <tr>\n",
       "      <th>1</th>\n",
       "      <td>L1044</td>\n",
       "      <td>u2</td>\n",
       "      <td>m0</td>\n",
       "      <td>CAMERON</td>\n",
       "      <td>They do to!</td>\n",
       "    </tr>\n",
       "    <tr>\n",
       "      <th>2</th>\n",
       "      <td>L985</td>\n",
       "      <td>u0</td>\n",
       "      <td>m0</td>\n",
       "      <td>BIANCA</td>\n",
       "      <td>I hope so.</td>\n",
       "    </tr>\n",
       "    <tr>\n",
       "      <th>3</th>\n",
       "      <td>L984</td>\n",
       "      <td>u2</td>\n",
       "      <td>m0</td>\n",
       "      <td>CAMERON</td>\n",
       "      <td>She okay?</td>\n",
       "    </tr>\n",
       "    <tr>\n",
       "      <th>4</th>\n",
       "      <td>L925</td>\n",
       "      <td>u0</td>\n",
       "      <td>m0</td>\n",
       "      <td>BIANCA</td>\n",
       "      <td>Let's go.</td>\n",
       "    </tr>\n",
       "  </tbody>\n",
       "</table>\n",
       "</div>"
      ],
      "text/plain": [
       "  lineId chId mId   chName      dialogue\n",
       "0  L1045   u0  m0   BIANCA  They do not!\n",
       "1  L1044   u2  m0  CAMERON   They do to!\n",
       "2   L985   u0  m0   BIANCA    I hope so.\n",
       "3   L984   u2  m0  CAMERON     She okay?\n",
       "4   L925   u0  m0   BIANCA     Let's go."
      ]
     },
     "execution_count": 10,
     "metadata": {},
     "output_type": "execute_result"
    }
   ],
   "source": [
    "lines_df.columns = ['lineId','chId','mId','chName','dialogue']\n",
    "lines_df.head()"
   ]
  },
  {
   "cell_type": "markdown",
   "metadata": {
    "_cell_guid": "5b07e2a6-b722-41f8-9f17-f6cdce961764",
    "_execution_state": "idle",
    "_uuid": "91e508cdca246de61627cad6e8075fd7c537236f",
    "papermill": {
     "duration": 0.051359,
     "end_time": "2020-11-17T18:43:04.426493",
     "exception": false,
     "start_time": "2020-11-17T18:43:04.375134",
     "status": "completed"
    },
    "tags": []
   },
   "source": [
    "Let's join lines_df and characters_df together."
   ]
  },
  {
   "cell_type": "code",
   "execution_count": 11,
   "metadata": {
    "_cell_guid": "e12163c0-86af-4d03-83cf-ee61e05f1703",
    "_execution_state": "idle",
    "_uuid": "65a1c40d879f87f7260c290e8eb477ed6b9a9682",
    "execution": {
     "iopub.execute_input": "2020-11-17T18:43:04.574873Z",
     "iopub.status.busy": "2020-11-17T18:43:04.574061Z",
     "iopub.status.idle": "2020-11-17T18:43:04.762075Z",
     "shell.execute_reply": "2020-11-17T18:43:04.761346Z"
    },
    "papermill": {
     "duration": 0.283973,
     "end_time": "2020-11-17T18:43:04.762231",
     "exception": false,
     "start_time": "2020-11-17T18:43:04.478258",
     "status": "completed"
    },
    "tags": []
   },
   "outputs": [
    {
     "data": {
      "text/html": [
       "<div>\n",
       "<style scoped>\n",
       "    .dataframe tbody tr th:only-of-type {\n",
       "        vertical-align: middle;\n",
       "    }\n",
       "\n",
       "    .dataframe tbody tr th {\n",
       "        vertical-align: top;\n",
       "    }\n",
       "\n",
       "    .dataframe thead th {\n",
       "        text-align: right;\n",
       "    }\n",
       "</style>\n",
       "<table border=\"1\" class=\"dataframe\">\n",
       "  <thead>\n",
       "    <tr style=\"text-align: right;\">\n",
       "      <th></th>\n",
       "      <th>lineId</th>\n",
       "      <th>chId</th>\n",
       "      <th>mId</th>\n",
       "      <th>chName</th>\n",
       "      <th>dialogue</th>\n",
       "      <th>mName</th>\n",
       "      <th>gender</th>\n",
       "      <th>posCredits</th>\n",
       "    </tr>\n",
       "  </thead>\n",
       "  <tbody>\n",
       "    <tr>\n",
       "      <th>0</th>\n",
       "      <td>L1045</td>\n",
       "      <td>u0</td>\n",
       "      <td>m0</td>\n",
       "      <td>BIANCA</td>\n",
       "      <td>They do not!</td>\n",
       "      <td>10 things i hate about you</td>\n",
       "      <td>1</td>\n",
       "      <td>4</td>\n",
       "    </tr>\n",
       "    <tr>\n",
       "      <th>1</th>\n",
       "      <td>L985</td>\n",
       "      <td>u0</td>\n",
       "      <td>m0</td>\n",
       "      <td>BIANCA</td>\n",
       "      <td>I hope so.</td>\n",
       "      <td>10 things i hate about you</td>\n",
       "      <td>1</td>\n",
       "      <td>4</td>\n",
       "    </tr>\n",
       "    <tr>\n",
       "      <th>2</th>\n",
       "      <td>L925</td>\n",
       "      <td>u0</td>\n",
       "      <td>m0</td>\n",
       "      <td>BIANCA</td>\n",
       "      <td>Let's go.</td>\n",
       "      <td>10 things i hate about you</td>\n",
       "      <td>1</td>\n",
       "      <td>4</td>\n",
       "    </tr>\n",
       "    <tr>\n",
       "      <th>3</th>\n",
       "      <td>L872</td>\n",
       "      <td>u0</td>\n",
       "      <td>m0</td>\n",
       "      <td>BIANCA</td>\n",
       "      <td>Okay -- you're gonna need to learn how to lie.</td>\n",
       "      <td>10 things i hate about you</td>\n",
       "      <td>1</td>\n",
       "      <td>4</td>\n",
       "    </tr>\n",
       "    <tr>\n",
       "      <th>4</th>\n",
       "      <td>L869</td>\n",
       "      <td>u0</td>\n",
       "      <td>m0</td>\n",
       "      <td>BIANCA</td>\n",
       "      <td>Like my fear of wearing pastels?</td>\n",
       "      <td>10 things i hate about you</td>\n",
       "      <td>1</td>\n",
       "      <td>4</td>\n",
       "    </tr>\n",
       "  </tbody>\n",
       "</table>\n",
       "</div>"
      ],
      "text/plain": [
       "  lineId chId mId  chName                                        dialogue  \\\n",
       "0  L1045   u0  m0  BIANCA                                    They do not!   \n",
       "1   L985   u0  m0  BIANCA                                      I hope so.   \n",
       "2   L925   u0  m0  BIANCA                                       Let's go.   \n",
       "3   L872   u0  m0  BIANCA  Okay -- you're gonna need to learn how to lie.   \n",
       "4   L869   u0  m0  BIANCA                Like my fear of wearing pastels?   \n",
       "\n",
       "                        mName  gender posCredits  \n",
       "0  10 things i hate about you       1          4  \n",
       "1  10 things i hate about you       1          4  \n",
       "2  10 things i hate about you       1          4  \n",
       "3  10 things i hate about you       1          4  \n",
       "4  10 things i hate about you       1          4  "
      ]
     },
     "execution_count": 11,
     "metadata": {},
     "output_type": "execute_result"
    }
   ],
   "source": [
    "df = pd.merge(lines_df, characters_df, how='inner', on=['chId','mId', 'chName'],\n",
    "         left_index=False, right_index=False, sort=True,\n",
    "         copy=False, indicator=False)\n",
    "df.head()"
   ]
  },
  {
   "cell_type": "code",
   "execution_count": 12,
   "metadata": {
    "execution": {
     "iopub.execute_input": "2020-11-17T18:43:04.874406Z",
     "iopub.status.busy": "2020-11-17T18:43:04.873485Z",
     "iopub.status.idle": "2020-11-17T18:43:04.878198Z",
     "shell.execute_reply": "2020-11-17T18:43:04.877469Z"
    },
    "papermill": {
     "duration": 0.063184,
     "end_time": "2020-11-17T18:43:04.878343",
     "exception": false,
     "start_time": "2020-11-17T18:43:04.815159",
     "status": "completed"
    },
    "tags": []
   },
   "outputs": [
    {
     "data": {
      "text/plain": [
       "(229309, 8)"
      ]
     },
     "execution_count": 12,
     "metadata": {},
     "output_type": "execute_result"
    }
   ],
   "source": [
    "df.shape"
   ]
  },
  {
   "cell_type": "markdown",
   "metadata": {
    "papermill": {
     "duration": 0.052602,
     "end_time": "2020-11-17T18:43:04.984215",
     "exception": false,
     "start_time": "2020-11-17T18:43:04.931613",
     "status": "completed"
    },
    "tags": []
   },
   "source": [
    "Remove empty dialogues from the dataset"
   ]
  },
  {
   "cell_type": "code",
   "execution_count": 13,
   "metadata": {
    "_cell_guid": "1f4333c0-f159-4c94-ae6b-785695496431",
    "_execution_state": "idle",
    "_uuid": "3d63e78f6524aa0557aaedc179468ab91b2478d9",
    "execution": {
     "iopub.execute_input": "2020-11-17T18:43:05.127476Z",
     "iopub.status.busy": "2020-11-17T18:43:05.126628Z",
     "iopub.status.idle": "2020-11-17T18:43:05.234366Z",
     "shell.execute_reply": "2020-11-17T18:43:05.233586Z"
    },
    "papermill": {
     "duration": 0.196258,
     "end_time": "2020-11-17T18:43:05.234500",
     "exception": false,
     "start_time": "2020-11-17T18:43:05.038242",
     "status": "completed"
    },
    "tags": []
   },
   "outputs": [
    {
     "data": {
      "text/plain": [
       "(229106, 8)"
      ]
     },
     "execution_count": 13,
     "metadata": {},
     "output_type": "execute_result"
    }
   ],
   "source": [
    "df = df[df['dialogue'].notnull()]\n",
    "df.shape"
   ]
  },
  {
   "cell_type": "markdown",
   "metadata": {
    "papermill": {
     "duration": 0.053801,
     "end_time": "2020-11-17T18:43:05.342394",
     "exception": false,
     "start_time": "2020-11-17T18:43:05.288593",
     "status": "completed"
    },
    "tags": []
   },
   "source": [
    "## Feature Engineering\n",
    "- Length of lines\n",
    "- Count of lines\n",
    "- One hot encodings for tokens"
   ]
  },
  {
   "cell_type": "code",
   "execution_count": 14,
   "metadata": {
    "execution": {
     "iopub.execute_input": "2020-11-17T18:43:05.485565Z",
     "iopub.status.busy": "2020-11-17T18:43:05.484763Z",
     "iopub.status.idle": "2020-11-17T18:43:06.124264Z",
     "shell.execute_reply": "2020-11-17T18:43:06.123419Z"
    },
    "papermill": {
     "duration": 0.728094,
     "end_time": "2020-11-17T18:43:06.124404",
     "exception": false,
     "start_time": "2020-11-17T18:43:05.396310",
     "status": "completed"
    },
    "tags": []
   },
   "outputs": [
    {
     "data": {
      "text/html": [
       "<div>\n",
       "<style scoped>\n",
       "    .dataframe tbody tr th:only-of-type {\n",
       "        vertical-align: middle;\n",
       "    }\n",
       "\n",
       "    .dataframe tbody tr th {\n",
       "        vertical-align: top;\n",
       "    }\n",
       "\n",
       "    .dataframe thead th {\n",
       "        text-align: right;\n",
       "    }\n",
       "</style>\n",
       "<table border=\"1\" class=\"dataframe\">\n",
       "  <thead>\n",
       "    <tr style=\"text-align: right;\">\n",
       "      <th></th>\n",
       "      <th>lineId</th>\n",
       "      <th>chId</th>\n",
       "      <th>mId</th>\n",
       "      <th>chName</th>\n",
       "      <th>dialogue</th>\n",
       "      <th>mName</th>\n",
       "      <th>gender</th>\n",
       "      <th>posCredits</th>\n",
       "      <th>lineLength</th>\n",
       "      <th>wordCountLine</th>\n",
       "    </tr>\n",
       "  </thead>\n",
       "  <tbody>\n",
       "    <tr>\n",
       "      <th>0</th>\n",
       "      <td>L1045</td>\n",
       "      <td>u0</td>\n",
       "      <td>m0</td>\n",
       "      <td>BIANCA</td>\n",
       "      <td>They do not!</td>\n",
       "      <td>10 things i hate about you</td>\n",
       "      <td>1</td>\n",
       "      <td>4</td>\n",
       "      <td>12</td>\n",
       "      <td>3</td>\n",
       "    </tr>\n",
       "    <tr>\n",
       "      <th>1</th>\n",
       "      <td>L985</td>\n",
       "      <td>u0</td>\n",
       "      <td>m0</td>\n",
       "      <td>BIANCA</td>\n",
       "      <td>I hope so.</td>\n",
       "      <td>10 things i hate about you</td>\n",
       "      <td>1</td>\n",
       "      <td>4</td>\n",
       "      <td>10</td>\n",
       "      <td>3</td>\n",
       "    </tr>\n",
       "    <tr>\n",
       "      <th>2</th>\n",
       "      <td>L925</td>\n",
       "      <td>u0</td>\n",
       "      <td>m0</td>\n",
       "      <td>BIANCA</td>\n",
       "      <td>Let's go.</td>\n",
       "      <td>10 things i hate about you</td>\n",
       "      <td>1</td>\n",
       "      <td>4</td>\n",
       "      <td>9</td>\n",
       "      <td>2</td>\n",
       "    </tr>\n",
       "    <tr>\n",
       "      <th>3</th>\n",
       "      <td>L872</td>\n",
       "      <td>u0</td>\n",
       "      <td>m0</td>\n",
       "      <td>BIANCA</td>\n",
       "      <td>Okay -- you're gonna need to learn how to lie.</td>\n",
       "      <td>10 things i hate about you</td>\n",
       "      <td>1</td>\n",
       "      <td>4</td>\n",
       "      <td>46</td>\n",
       "      <td>10</td>\n",
       "    </tr>\n",
       "    <tr>\n",
       "      <th>4</th>\n",
       "      <td>L869</td>\n",
       "      <td>u0</td>\n",
       "      <td>m0</td>\n",
       "      <td>BIANCA</td>\n",
       "      <td>Like my fear of wearing pastels?</td>\n",
       "      <td>10 things i hate about you</td>\n",
       "      <td>1</td>\n",
       "      <td>4</td>\n",
       "      <td>32</td>\n",
       "      <td>6</td>\n",
       "    </tr>\n",
       "  </tbody>\n",
       "</table>\n",
       "</div>"
      ],
      "text/plain": [
       "  lineId chId mId  chName                                        dialogue  \\\n",
       "0  L1045   u0  m0  BIANCA                                    They do not!   \n",
       "1   L985   u0  m0  BIANCA                                      I hope so.   \n",
       "2   L925   u0  m0  BIANCA                                       Let's go.   \n",
       "3   L872   u0  m0  BIANCA  Okay -- you're gonna need to learn how to lie.   \n",
       "4   L869   u0  m0  BIANCA                Like my fear of wearing pastels?   \n",
       "\n",
       "                        mName  gender posCredits  lineLength  wordCountLine  \n",
       "0  10 things i hate about you       1          4          12              3  \n",
       "1  10 things i hate about you       1          4          10              3  \n",
       "2  10 things i hate about you       1          4           9              2  \n",
       "3  10 things i hate about you       1          4          46             10  \n",
       "4  10 things i hate about you       1          4          32              6  "
      ]
     },
     "execution_count": 14,
     "metadata": {},
     "output_type": "execute_result"
    }
   ],
   "source": [
    "df['lineLength'] = df.dialogue.str.len()             ## Length of each line by characters\n",
    "df['wordCountLine'] = df.dialogue.str.count(' ') + 1 ## Length of each line by words\n",
    "df.head()"
   ]
  },
  {
   "cell_type": "markdown",
   "metadata": {
    "_cell_guid": "148e0738-b6b9-430a-9422-ae25fd333b08",
    "_execution_state": "idle",
    "_uuid": "d92104ea9b45d32e11e6a98ba54e0ce3435e0423",
    "papermill": {
     "duration": 0.067674,
     "end_time": "2020-11-17T18:43:06.269022",
     "exception": false,
     "start_time": "2020-11-17T18:43:06.201348",
     "status": "completed"
    },
    "tags": []
   },
   "source": [
    "Next, let's convert the dialogues into clean tokens \n",
    "<ol>\n",
    "<li>Remove Stopwords : because they occur very often, but serve no meaning. e.g. : is,am,are,the.</li>\n",
    "<li>Turn all word to smaller cases : I, i -> i</li>\n",
    "<li>walk,walks -> walk</li>  #Lemmatization\n",
    "<li>geographical,geographic -> geographic</li>  #Lemmatization\n",
    "</ol>"
   ]
  },
  {
   "cell_type": "code",
   "execution_count": 15,
   "metadata": {
    "_cell_guid": "89aa9060-2445-4acc-bd60-62209f3665c8",
    "_execution_state": "idle",
    "_uuid": "00118e2a30edd69887dc071c4a01cdada680d594",
    "execution": {
     "iopub.execute_input": "2020-11-17T18:43:06.389596Z",
     "iopub.status.busy": "2020-11-17T18:43:06.388675Z",
     "iopub.status.idle": "2020-11-17T18:43:59.361126Z",
     "shell.execute_reply": "2020-11-17T18:43:59.361742Z"
    },
    "papermill": {
     "duration": 53.037317,
     "end_time": "2020-11-17T18:43:59.361931",
     "exception": false,
     "start_time": "2020-11-17T18:43:06.324614",
     "status": "completed"
    },
    "tags": []
   },
   "outputs": [
    {
     "data": {
      "text/html": [
       "<div>\n",
       "<style scoped>\n",
       "    .dataframe tbody tr th:only-of-type {\n",
       "        vertical-align: middle;\n",
       "    }\n",
       "\n",
       "    .dataframe tbody tr th {\n",
       "        vertical-align: top;\n",
       "    }\n",
       "\n",
       "    .dataframe thead th {\n",
       "        text-align: right;\n",
       "    }\n",
       "</style>\n",
       "<table border=\"1\" class=\"dataframe\">\n",
       "  <thead>\n",
       "    <tr style=\"text-align: right;\">\n",
       "      <th></th>\n",
       "      <th>cleaned_dialogue</th>\n",
       "      <th>dialogue</th>\n",
       "    </tr>\n",
       "  </thead>\n",
       "  <tbody>\n",
       "    <tr>\n",
       "      <th>0</th>\n",
       "      <td></td>\n",
       "      <td>They do not!</td>\n",
       "    </tr>\n",
       "    <tr>\n",
       "      <th>1</th>\n",
       "      <td>hope</td>\n",
       "      <td>I hope so.</td>\n",
       "    </tr>\n",
       "    <tr>\n",
       "      <th>2</th>\n",
       "      <td>let go</td>\n",
       "      <td>Let's go.</td>\n",
       "    </tr>\n",
       "    <tr>\n",
       "      <th>3</th>\n",
       "      <td>okay gonna need learn lie</td>\n",
       "      <td>Okay -- you're gonna need to learn how to lie.</td>\n",
       "    </tr>\n",
       "    <tr>\n",
       "      <th>4</th>\n",
       "      <td>like fear wearing pastel</td>\n",
       "      <td>Like my fear of wearing pastels?</td>\n",
       "    </tr>\n",
       "  </tbody>\n",
       "</table>\n",
       "</div>"
      ],
      "text/plain": [
       "            cleaned_dialogue                                        dialogue\n",
       "0                                                               They do not!\n",
       "1                       hope                                      I hope so.\n",
       "2                     let go                                       Let's go.\n",
       "3  okay gonna need learn lie  Okay -- you're gonna need to learn how to lie.\n",
       "4   like fear wearing pastel                Like my fear of wearing pastels?"
      ]
     },
     "execution_count": 15,
     "metadata": {},
     "output_type": "execute_result"
    }
   ],
   "source": [
    "wordnet_lemmatizer = WordNetLemmatizer()\n",
    "def clean_dialogue( dialogue ):\n",
    "    # Function to convert a raw review to a string of words\n",
    "    # The input is a single string (a raw movie review), and \n",
    "    # the output is a single string (a preprocessed movie review)\n",
    "    # Source : https://www.kaggle.com/akerlyn/wordcloud-based-on-character\n",
    "    #\n",
    "    # 1. Remove HTML\n",
    "    #\n",
    "    # 2. Remove non-letters        \n",
    "    letters_only = re.sub(\"[^a-zA-Z]\", \" \", dialogue) \n",
    "    #\n",
    "    # 3. Convert to lower case, split into individual words\n",
    "    words = letters_only.lower().split()                             \n",
    "    #\n",
    "    # 4. In Python, searching a set is much faster than searching\n",
    "    #   a list, so convert the stop words to a set\n",
    "    stops = set(stopwords.words(\"english\"))   \n",
    "    \n",
    "    # 5. Use lemmatization and remove stop words\n",
    "    meaningful_words = [wordnet_lemmatizer.lemmatize(w) for w in words if not w in stops]   \n",
    "    #\n",
    "    # 6. Join the words back into one string separated by space, \n",
    "    # and return the result.\n",
    "    return( \" \".join( meaningful_words ))\n",
    "\n",
    "df['cleaned_dialogue'] = df['dialogue'].apply(clean_dialogue)\n",
    "df[['cleaned_dialogue','dialogue']].head()"
   ]
  },
  {
   "cell_type": "markdown",
   "metadata": {
    "papermill": {
     "duration": 0.054751,
     "end_time": "2020-11-17T18:43:59.471999",
     "exception": false,
     "start_time": "2020-11-17T18:43:59.417248",
     "status": "completed"
    },
    "tags": []
   },
   "source": [
    "### Create training dataset\n",
    "Now, we can aggregate all data for a particular movie character into 1 record. We will combine their dialogue tokens from the entire movie, calculate their median dialogue length by characters & words, and count their total no of lines in the movie."
   ]
  },
  {
   "cell_type": "code",
   "execution_count": 16,
   "metadata": {
    "execution": {
     "iopub.execute_input": "2020-11-17T18:43:59.592278Z",
     "iopub.status.busy": "2020-11-17T18:43:59.591473Z",
     "iopub.status.idle": "2020-11-17T18:43:59.912760Z",
     "shell.execute_reply": "2020-11-17T18:43:59.912047Z"
    },
    "papermill": {
     "duration": 0.385331,
     "end_time": "2020-11-17T18:43:59.912905",
     "exception": false,
     "start_time": "2020-11-17T18:43:59.527574",
     "status": "completed"
    },
    "tags": []
   },
   "outputs": [
    {
     "data": {
      "text/html": [
       "<div>\n",
       "<style scoped>\n",
       "    .dataframe tbody tr th:only-of-type {\n",
       "        vertical-align: middle;\n",
       "    }\n",
       "\n",
       "    .dataframe tbody tr th {\n",
       "        vertical-align: top;\n",
       "    }\n",
       "\n",
       "    .dataframe thead th {\n",
       "        text-align: right;\n",
       "    }\n",
       "</style>\n",
       "<table border=\"1\" class=\"dataframe\">\n",
       "  <thead>\n",
       "    <tr style=\"text-align: right;\">\n",
       "      <th></th>\n",
       "      <th>chId</th>\n",
       "      <th>mId</th>\n",
       "      <th>chName</th>\n",
       "      <th>gender</th>\n",
       "      <th>posCredits</th>\n",
       "      <th>lineLength_median</th>\n",
       "      <th>wordCountLine_median</th>\n",
       "      <th>chId_count</th>\n",
       "      <th>cleaned_dialogue_&lt;lambda&gt;</th>\n",
       "    </tr>\n",
       "  </thead>\n",
       "  <tbody>\n",
       "    <tr>\n",
       "      <th>0</th>\n",
       "      <td>u0</td>\n",
       "      <td>m0</td>\n",
       "      <td>BIANCA</td>\n",
       "      <td>1</td>\n",
       "      <td>4</td>\n",
       "      <td>34.0</td>\n",
       "      <td>7.0</td>\n",
       "      <td>94</td>\n",
       "      <td>hope let go okay gonna need learn lie like fe...</td>\n",
       "    </tr>\n",
       "    <tr>\n",
       "      <th>1</th>\n",
       "      <td>u100</td>\n",
       "      <td>m6</td>\n",
       "      <td>AMY</td>\n",
       "      <td>1</td>\n",
       "      <td>7</td>\n",
       "      <td>23.0</td>\n",
       "      <td>4.0</td>\n",
       "      <td>31</td>\n",
       "      <td>died sleep three day ago paper tom dead  calli...</td>\n",
       "    </tr>\n",
       "    <tr>\n",
       "      <th>2</th>\n",
       "      <td>u1003</td>\n",
       "      <td>m65</td>\n",
       "      <td>RICHARD</td>\n",
       "      <td>0</td>\n",
       "      <td>3</td>\n",
       "      <td>24.5</td>\n",
       "      <td>5.0</td>\n",
       "      <td>70</td>\n",
       "      <td>asked would said room room serious foolin arou...</td>\n",
       "    </tr>\n",
       "    <tr>\n",
       "      <th>3</th>\n",
       "      <td>u1005</td>\n",
       "      <td>m65</td>\n",
       "      <td>SETH</td>\n",
       "      <td>0</td>\n",
       "      <td>2</td>\n",
       "      <td>37.0</td>\n",
       "      <td>8.0</td>\n",
       "      <td>163</td>\n",
       "      <td>let follow said new jesus christ carlos brothe...</td>\n",
       "    </tr>\n",
       "    <tr>\n",
       "      <th>4</th>\n",
       "      <td>u1008</td>\n",
       "      <td>m66</td>\n",
       "      <td>C.O.</td>\n",
       "      <td>0</td>\n",
       "      <td>10+</td>\n",
       "      <td>48.0</td>\n",
       "      <td>9.0</td>\n",
       "      <td>33</td>\n",
       "      <td>course uh v p security arrangement generally t...</td>\n",
       "    </tr>\n",
       "    <tr>\n",
       "      <th>...</th>\n",
       "      <td>...</td>\n",
       "      <td>...</td>\n",
       "      <td>...</td>\n",
       "      <td>...</td>\n",
       "      <td>...</td>\n",
       "      <td>...</td>\n",
       "      <td>...</td>\n",
       "      <td>...</td>\n",
       "      <td>...</td>\n",
       "    </tr>\n",
       "    <tr>\n",
       "      <th>2946</th>\n",
       "      <td>u980</td>\n",
       "      <td>m63</td>\n",
       "      <td>VICTOR</td>\n",
       "      <td>0</td>\n",
       "      <td>3</td>\n",
       "      <td>32.0</td>\n",
       "      <td>6.0</td>\n",
       "      <td>126</td>\n",
       "      <td>never said name remembers  kill draw line take...</td>\n",
       "    </tr>\n",
       "    <tr>\n",
       "      <th>2947</th>\n",
       "      <td>u983</td>\n",
       "      <td>m64</td>\n",
       "      <td>ALICE</td>\n",
       "      <td>1</td>\n",
       "      <td>10+</td>\n",
       "      <td>30.0</td>\n",
       "      <td>6.0</td>\n",
       "      <td>51</td>\n",
       "      <td>maybe wait mr christy killer still bill bill b...</td>\n",
       "    </tr>\n",
       "    <tr>\n",
       "      <th>2948</th>\n",
       "      <td>u985</td>\n",
       "      <td>m64</td>\n",
       "      <td>BILL</td>\n",
       "      <td>0</td>\n",
       "      <td>10+</td>\n",
       "      <td>20.0</td>\n",
       "      <td>4.0</td>\n",
       "      <td>39</td>\n",
       "      <td>twenty mile crossroad steve back hour thing st...</td>\n",
       "    </tr>\n",
       "    <tr>\n",
       "      <th>2949</th>\n",
       "      <td>u997</td>\n",
       "      <td>m65</td>\n",
       "      <td>JACOB</td>\n",
       "      <td>0</td>\n",
       "      <td>1</td>\n",
       "      <td>36.0</td>\n",
       "      <td>6.0</td>\n",
       "      <td>90</td>\n",
       "      <td>meant son daughter oh daughter bathroom vacati...</td>\n",
       "    </tr>\n",
       "    <tr>\n",
       "      <th>2950</th>\n",
       "      <td>u998</td>\n",
       "      <td>m65</td>\n",
       "      <td>KATE</td>\n",
       "      <td>1</td>\n",
       "      <td>4</td>\n",
       "      <td>20.0</td>\n",
       "      <td>4.5</td>\n",
       "      <td>44</td>\n",
       "      <td>everybody go home going em swear god father ch...</td>\n",
       "    </tr>\n",
       "  </tbody>\n",
       "</table>\n",
       "<p>2951 rows × 9 columns</p>\n",
       "</div>"
      ],
      "text/plain": [
       "       chId  mId   chName  gender posCredits  lineLength_median  \\\n",
       "0        u0   m0   BIANCA       1          4               34.0   \n",
       "1      u100   m6      AMY       1          7               23.0   \n",
       "2     u1003  m65  RICHARD       0          3               24.5   \n",
       "3     u1005  m65     SETH       0          2               37.0   \n",
       "4     u1008  m66     C.O.       0        10+               48.0   \n",
       "...     ...  ...      ...     ...        ...                ...   \n",
       "2946   u980  m63   VICTOR       0          3               32.0   \n",
       "2947   u983  m64    ALICE       1        10+               30.0   \n",
       "2948   u985  m64     BILL       0        10+               20.0   \n",
       "2949   u997  m65    JACOB       0          1               36.0   \n",
       "2950   u998  m65     KATE       1          4               20.0   \n",
       "\n",
       "      wordCountLine_median  chId_count  \\\n",
       "0                      7.0          94   \n",
       "1                      4.0          31   \n",
       "2                      5.0          70   \n",
       "3                      8.0         163   \n",
       "4                      9.0          33   \n",
       "...                    ...         ...   \n",
       "2946                   6.0         126   \n",
       "2947                   6.0          51   \n",
       "2948                   4.0          39   \n",
       "2949                   6.0          90   \n",
       "2950                   4.5          44   \n",
       "\n",
       "                              cleaned_dialogue_<lambda>  \n",
       "0      hope let go okay gonna need learn lie like fe...  \n",
       "1     died sleep three day ago paper tom dead  calli...  \n",
       "2     asked would said room room serious foolin arou...  \n",
       "3     let follow said new jesus christ carlos brothe...  \n",
       "4     course uh v p security arrangement generally t...  \n",
       "...                                                 ...  \n",
       "2946  never said name remembers  kill draw line take...  \n",
       "2947  maybe wait mr christy killer still bill bill b...  \n",
       "2948  twenty mile crossroad steve back hour thing st...  \n",
       "2949  meant son daughter oh daughter bathroom vacati...  \n",
       "2950  everybody go home going em swear god father ch...  \n",
       "\n",
       "[2951 rows x 9 columns]"
      ]
     },
     "execution_count": 16,
     "metadata": {},
     "output_type": "execute_result"
    }
   ],
   "source": [
    "train = df.groupby(['chId', 'mId', 'chName', 'gender', 'posCredits']). \\\n",
    "            agg({'lineLength' : ['median'], \n",
    "                 'wordCountLine' : ['median'],\n",
    "                 'chId' : ['count'],\n",
    "                 'cleaned_dialogue' : [lambda x : ' '.join(x)]\n",
    "                })\n",
    "\n",
    "## Renaming columns by aggregate functions\n",
    "train.columns = [\"_\".join(x) for x in train.columns.ravel()]\n",
    "\n",
    "train.reset_index(inplace=True)\n",
    "train"
   ]
  },
  {
   "cell_type": "markdown",
   "metadata": {
    "papermill": {
     "duration": 0.057993,
     "end_time": "2020-11-17T18:44:00.027580",
     "exception": false,
     "start_time": "2020-11-17T18:43:59.969587",
     "status": "completed"
    },
    "tags": []
   },
   "source": [
    "### Let's check some feature distributions by gender"
   ]
  },
  {
   "cell_type": "code",
   "execution_count": 17,
   "metadata": {
    "execution": {
     "iopub.execute_input": "2020-11-17T18:44:00.151206Z",
     "iopub.status.busy": "2020-11-17T18:44:00.150117Z",
     "iopub.status.idle": "2020-11-17T18:44:00.387116Z",
     "shell.execute_reply": "2020-11-17T18:44:00.387856Z"
    },
    "papermill": {
     "duration": 0.301973,
     "end_time": "2020-11-17T18:44:00.388032",
     "exception": false,
     "start_time": "2020-11-17T18:44:00.086059",
     "status": "completed"
    },
    "tags": []
   },
   "outputs": [
    {
     "data": {
      "text/plain": [
       "<matplotlib.axes._subplots.AxesSubplot at 0x7f7d4a9d3990>"
      ]
     },
     "execution_count": 17,
     "metadata": {},
     "output_type": "execute_result"
    },
    {
     "data": {
      "image/png": "[encoded data removed]",
      "text/plain": [
       "<Figure size 432x288 with 1 Axes>"
      ]
     },
     "metadata": {
      "needs_background": "light"
     },
     "output_type": "display_data"
    }
   ],
   "source": [
    "sns.boxplot(data = train, x = 'gender', y = 'chId_count', hue = 'gender')"
   ]
  },
  {
   "cell_type": "code",
   "execution_count": 18,
   "metadata": {
    "execution": {
     "iopub.execute_input": "2020-11-17T18:44:00.512245Z",
     "iopub.status.busy": "2020-11-17T18:44:00.511267Z",
     "iopub.status.idle": "2020-11-17T18:44:00.694044Z",
     "shell.execute_reply": "2020-11-17T18:44:00.693448Z"
    },
    "papermill": {
     "duration": 0.247614,
     "end_time": "2020-11-17T18:44:00.694173",
     "exception": false,
     "start_time": "2020-11-17T18:44:00.446559",
     "status": "completed"
    },
    "tags": []
   },
   "outputs": [
    {
     "data": {
      "text/plain": [
       "<matplotlib.axes._subplots.AxesSubplot at 0x7f7d4a756fd0>"
      ]
     },
     "execution_count": 18,
     "metadata": {},
     "output_type": "execute_result"
    },
    {
     "data": {
      "image/png": "[encoded data removed]",
      "text/plain": [
       "<Figure size 432x288 with 1 Axes>"
      ]
     },
     "metadata": {
      "needs_background": "light"
     },
     "output_type": "display_data"
    }
   ],
   "source": [
    "sns.boxplot(data = train, x = 'gender', y = 'wordCountLine_median', hue = 'gender')"
   ]
  },
  {
   "cell_type": "code",
   "execution_count": 19,
   "metadata": {
    "execution": {
     "iopub.execute_input": "2020-11-17T18:44:00.820423Z",
     "iopub.status.busy": "2020-11-17T18:44:00.819504Z",
     "iopub.status.idle": "2020-11-17T18:44:00.991225Z",
     "shell.execute_reply": "2020-11-17T18:44:00.990566Z"
    },
    "papermill": {
     "duration": 0.237776,
     "end_time": "2020-11-17T18:44:00.991359",
     "exception": false,
     "start_time": "2020-11-17T18:44:00.753583",
     "status": "completed"
    },
    "tags": []
   },
   "outputs": [
    {
     "data": {
      "text/plain": [
       "<matplotlib.axes._subplots.AxesSubplot at 0x7f7d4a6ffd10>"
      ]
     },
     "execution_count": 19,
     "metadata": {},
     "output_type": "execute_result"
    },
    {
     "data": {
      "image/png": "[encoded data removed]",
      "text/plain": [
       "<Figure size 432x288 with 1 Axes>"
      ]
     },
     "metadata": {
      "needs_background": "light"
     },
     "output_type": "display_data"
    }
   ],
   "source": [
    "sns.boxplot(data = train, x = 'gender', y = 'lineLength_median', hue = 'gender')"
   ]
  },
  {
   "cell_type": "code",
   "execution_count": 20,
   "metadata": {
    "execution": {
     "iopub.execute_input": "2020-11-17T18:44:01.144857Z",
     "iopub.status.busy": "2020-11-17T18:44:01.134413Z",
     "iopub.status.idle": "2020-11-17T18:44:01.478789Z",
     "shell.execute_reply": "2020-11-17T18:44:01.478112Z"
    },
    "papermill": {
     "duration": 0.425295,
     "end_time": "2020-11-17T18:44:01.478956",
     "exception": false,
     "start_time": "2020-11-17T18:44:01.053661",
     "status": "completed"
    },
    "tags": []
   },
   "outputs": [
    {
     "data": {
      "text/plain": [
       "<matplotlib.axes._subplots.AxesSubplot at 0x7f7d4a625a50>"
      ]
     },
     "execution_count": 20,
     "metadata": {},
     "output_type": "execute_result"
    },
    {
     "data": {
      "image/png": "[encoded data removed]",
      "text/plain": [
       "<Figure size 432x288 with 1 Axes>"
      ]
     },
     "metadata": {
      "needs_background": "light"
     },
     "output_type": "display_data"
    }
   ],
   "source": [
    "sns.scatterplot(data = train, x = 'wordCountLine_median', y = 'chId_count', hue = 'gender', alpha = 0.5) "
   ]
  },
  {
   "cell_type": "markdown",
   "metadata": {
    "papermill": {
     "duration": 0.064203,
     "end_time": "2020-11-17T18:44:01.608352",
     "exception": false,
     "start_time": "2020-11-17T18:44:01.544149",
     "status": "completed"
    },
    "tags": []
   },
   "source": [
    "### Train test split\n",
    "\n",
    "Now, we can split our data into a training set & a validation set."
   ]
  },
  {
   "cell_type": "code",
   "execution_count": 21,
   "metadata": {
    "execution": {
     "iopub.execute_input": "2020-11-17T18:44:01.744189Z",
     "iopub.status.busy": "2020-11-17T18:44:01.742418Z",
     "iopub.status.idle": "2020-11-17T18:44:01.753876Z",
     "shell.execute_reply": "2020-11-17T18:44:01.753096Z"
    },
    "papermill": {
     "duration": 0.08268,
     "end_time": "2020-11-17T18:44:01.754017",
     "exception": false,
     "start_time": "2020-11-17T18:44:01.671337",
     "status": "completed"
    },
    "tags": []
   },
   "outputs": [],
   "source": [
    "## Separating labels from features\n",
    "y = train['gender']\n",
    "X = train.copy()\n",
    "X.drop('gender', axis=1, inplace=True)\n",
    "\n",
    "## Removing unnecessary columns\n",
    "X.drop('chId', axis=1, inplace=True)\n",
    "X.drop('mId', axis=1, inplace=True)\n",
    "X.drop('chName', axis=1, inplace=True)\n",
    "#X.drop('posCredits', axis=1, inplace=True) ## Keep ?"
   ]
  },
  {
   "cell_type": "markdown",
   "metadata": {
    "papermill": {
     "duration": 0.063512,
     "end_time": "2020-11-17T18:44:01.881049",
     "exception": false,
     "start_time": "2020-11-17T18:44:01.817537",
     "status": "completed"
    },
    "tags": []
   },
   "source": [
    "We will pick equal no of records for both male & female characters to avoid any kind of bias due to no of records."
   ]
  },
  {
   "cell_type": "code",
   "execution_count": 22,
   "metadata": {
    "execution": {
     "iopub.execute_input": "2020-11-17T18:44:02.065603Z",
     "iopub.status.busy": "2020-11-17T18:44:02.064883Z",
     "iopub.status.idle": "2020-11-17T18:44:02.080495Z",
     "shell.execute_reply": "2020-11-17T18:44:02.079876Z"
    },
    "papermill": {
     "duration": 0.135991,
     "end_time": "2020-11-17T18:44:02.080618",
     "exception": false,
     "start_time": "2020-11-17T18:44:01.944627",
     "status": "completed"
    },
    "tags": []
   },
   "outputs": [
    {
     "data": {
      "text/plain": [
       "1    948\n",
       "0    948\n",
       "Name: gender, dtype: int64"
      ]
     },
     "execution_count": 22,
     "metadata": {},
     "output_type": "execute_result"
    }
   ],
   "source": [
    "undersample = RandomUnderSampler(sampling_strategy='majority')\n",
    "X_under, y_under = undersample.fit_resample(X, y)\n",
    "y_under.value_counts()"
   ]
  },
  {
   "cell_type": "markdown",
   "metadata": {
    "papermill": {
     "duration": 0.064783,
     "end_time": "2020-11-17T18:44:02.209869",
     "exception": false,
     "start_time": "2020-11-17T18:44:02.145086",
     "status": "completed"
    },
    "tags": []
   },
   "source": [
    "We'll also try to keep equal no of male & female records in the train & validation datasets"
   ]
  },
  {
   "cell_type": "code",
   "execution_count": 23,
   "metadata": {
    "execution": {
     "iopub.execute_input": "2020-11-17T18:44:02.345663Z",
     "iopub.status.busy": "2020-11-17T18:44:02.344679Z",
     "iopub.status.idle": "2020-11-17T18:44:02.358434Z",
     "shell.execute_reply": "2020-11-17T18:44:02.357771Z"
    },
    "papermill": {
     "duration": 0.084951,
     "end_time": "2020-11-17T18:44:02.358575",
     "exception": false,
     "start_time": "2020-11-17T18:44:02.273624",
     "status": "completed"
    },
    "tags": []
   },
   "outputs": [
    {
     "data": {
      "text/plain": [
       "1    190\n",
       "0    190\n",
       "Name: gender, dtype: int64"
      ]
     },
     "execution_count": 23,
     "metadata": {},
     "output_type": "execute_result"
    }
   ],
   "source": [
    "X_train, X_val, y_train, y_val = train_test_split(X_under, y_under, test_size=0.2, random_state = 10, stratify=y_under)\n",
    "\n",
    "y_val.value_counts()"
   ]
  },
  {
   "cell_type": "code",
   "execution_count": 24,
   "metadata": {
    "execution": {
     "iopub.execute_input": "2020-11-17T18:44:02.502482Z",
     "iopub.status.busy": "2020-11-17T18:44:02.501512Z",
     "iopub.status.idle": "2020-11-17T18:44:02.506372Z",
     "shell.execute_reply": "2020-11-17T18:44:02.505638Z"
    },
    "papermill": {
     "duration": 0.083159,
     "end_time": "2020-11-17T18:44:02.506495",
     "exception": false,
     "start_time": "2020-11-17T18:44:02.423336",
     "status": "completed"
    },
    "tags": []
   },
   "outputs": [
    {
     "data": {
      "text/html": [
       "<div>\n",
       "<style scoped>\n",
       "    .dataframe tbody tr th:only-of-type {\n",
       "        vertical-align: middle;\n",
       "    }\n",
       "\n",
       "    .dataframe tbody tr th {\n",
       "        vertical-align: top;\n",
       "    }\n",
       "\n",
       "    .dataframe thead th {\n",
       "        text-align: right;\n",
       "    }\n",
       "</style>\n",
       "<table border=\"1\" class=\"dataframe\">\n",
       "  <thead>\n",
       "    <tr style=\"text-align: right;\">\n",
       "      <th></th>\n",
       "      <th>posCredits</th>\n",
       "      <th>lineLength_median</th>\n",
       "      <th>wordCountLine_median</th>\n",
       "      <th>chId_count</th>\n",
       "      <th>cleaned_dialogue_&lt;lambda&gt;</th>\n",
       "    </tr>\n",
       "  </thead>\n",
       "  <tbody>\n",
       "    <tr>\n",
       "      <th>1236</th>\n",
       "      <td>2</td>\n",
       "      <td>33.0</td>\n",
       "      <td>6.0</td>\n",
       "      <td>60</td>\n",
       "      <td>latitude degree  maybe satellite said three ye...</td>\n",
       "    </tr>\n",
       "    <tr>\n",
       "      <th>924</th>\n",
       "      <td>2</td>\n",
       "      <td>38.5</td>\n",
       "      <td>8.0</td>\n",
       "      <td>144</td>\n",
       "      <td>way want take cut make ya hell gonna played bi...</td>\n",
       "    </tr>\n",
       "    <tr>\n",
       "      <th>868</th>\n",
       "      <td>1</td>\n",
       "      <td>34.0</td>\n",
       "      <td>6.0</td>\n",
       "      <td>152</td>\n",
       "      <td>bone pavel hear give name rank come pavel expe...</td>\n",
       "    </tr>\n",
       "    <tr>\n",
       "      <th>363</th>\n",
       "      <td>4</td>\n",
       "      <td>34.0</td>\n",
       "      <td>6.5</td>\n",
       "      <td>32</td>\n",
       "      <td>hears everything understand understand perfect...</td>\n",
       "    </tr>\n",
       "    <tr>\n",
       "      <th>989</th>\n",
       "      <td>10+</td>\n",
       "      <td>42.0</td>\n",
       "      <td>8.0</td>\n",
       "      <td>15</td>\n",
       "      <td>okay took trouble come got principle selling o...</td>\n",
       "    </tr>\n",
       "  </tbody>\n",
       "</table>\n",
       "</div>"
      ],
      "text/plain": [
       "     posCredits  lineLength_median  wordCountLine_median  chId_count  \\\n",
       "1236          2               33.0                   6.0          60   \n",
       "924           2               38.5                   8.0         144   \n",
       "868           1               34.0                   6.0         152   \n",
       "363           4               34.0                   6.5          32   \n",
       "989         10+               42.0                   8.0          15   \n",
       "\n",
       "                              cleaned_dialogue_<lambda>  \n",
       "1236  latitude degree  maybe satellite said three ye...  \n",
       "924   way want take cut make ya hell gonna played bi...  \n",
       "868   bone pavel hear give name rank come pavel expe...  \n",
       "363   hears everything understand understand perfect...  \n",
       "989   okay took trouble come got principle selling o...  "
      ]
     },
     "execution_count": 24,
     "metadata": {},
     "output_type": "execute_result"
    }
   ],
   "source": [
    "X_val.head()"
   ]
  },
  {
   "cell_type": "markdown",
   "metadata": {
    "papermill": {
     "duration": 0.064842,
     "end_time": "2020-11-17T18:44:02.636731",
     "exception": false,
     "start_time": "2020-11-17T18:44:02.571889",
     "status": "completed"
    },
    "tags": []
   },
   "source": [
    "### Pipeline for classifiers\n",
    "\n",
    "Since our dataset includes both numerical features & NLP tokens, we'll use a special converter class in our pipeline."
   ]
  },
  {
   "cell_type": "code",
   "execution_count": 25,
   "metadata": {
    "execution": {
     "iopub.execute_input": "2020-11-17T18:44:02.774893Z",
     "iopub.status.busy": "2020-11-17T18:44:02.773865Z",
     "iopub.status.idle": "2020-11-17T18:44:02.776941Z",
     "shell.execute_reply": "2020-11-17T18:44:02.776203Z"
    },
    "papermill": {
     "duration": 0.074981,
     "end_time": "2020-11-17T18:44:02.777067",
     "exception": false,
     "start_time": "2020-11-17T18:44:02.702086",
     "status": "completed"
    },
    "tags": []
   },
   "outputs": [],
   "source": [
    "class Converter(BaseEstimator, TransformerMixin):\n",
    "    ## Source : https://www.kaggle.com/tylersullivan/classifying-phishing-urls-three-models\n",
    "    def fit(self, x, y=None):\n",
    "        return self\n",
    "\n",
    "    def transform(self, data_frame):\n",
    "        return data_frame.values.ravel()"
   ]
  },
  {
   "cell_type": "markdown",
   "metadata": {
    "papermill": {
     "duration": 0.066618,
     "end_time": "2020-11-17T18:44:02.909318",
     "exception": false,
     "start_time": "2020-11-17T18:44:02.842700",
     "status": "completed"
    },
    "tags": []
   },
   "source": [
    "Pipeline for numeric features"
   ]
  },
  {
   "cell_type": "code",
   "execution_count": 26,
   "metadata": {
    "execution": {
     "iopub.execute_input": "2020-11-17T18:44:03.049143Z",
     "iopub.status.busy": "2020-11-17T18:44:03.048317Z",
     "iopub.status.idle": "2020-11-17T18:44:03.052003Z",
     "shell.execute_reply": "2020-11-17T18:44:03.051212Z"
    },
    "papermill": {
     "duration": 0.076674,
     "end_time": "2020-11-17T18:44:03.052140",
     "exception": false,
     "start_time": "2020-11-17T18:44:02.975466",
     "status": "completed"
    },
    "tags": []
   },
   "outputs": [],
   "source": [
    "numeric_features = ['lineLength_median', 'wordCountLine_median', 'chId_count']\n",
    "\n",
    "numeric_transformer = Pipeline(steps=[('scaler', MinMaxScaler())])"
   ]
  },
  {
   "cell_type": "markdown",
   "metadata": {
    "papermill": {
     "duration": 0.06609,
     "end_time": "2020-11-17T18:44:03.187115",
     "exception": false,
     "start_time": "2020-11-17T18:44:03.121025",
     "status": "completed"
    },
    "tags": []
   },
   "source": [
    "Pipeline for tokens dereived from dialogues"
   ]
  },
  {
   "cell_type": "code",
   "execution_count": 27,
   "metadata": {
    "execution": {
     "iopub.execute_input": "2020-11-17T18:44:03.326710Z",
     "iopub.status.busy": "2020-11-17T18:44:03.325561Z",
     "iopub.status.idle": "2020-11-17T18:44:03.329071Z",
     "shell.execute_reply": "2020-11-17T18:44:03.328327Z"
    },
    "papermill": {
     "duration": 0.075853,
     "end_time": "2020-11-17T18:44:03.329196",
     "exception": false,
     "start_time": "2020-11-17T18:44:03.253343",
     "status": "completed"
    },
    "tags": []
   },
   "outputs": [],
   "source": [
    "categorical_features = ['posCredits']\n",
    "categorical_transformer = Pipeline(steps=[\n",
    "    ('onehot', OneHotEncoder(handle_unknown='ignore'))])"
   ]
  },
  {
   "cell_type": "code",
   "execution_count": 28,
   "metadata": {
    "execution": {
     "iopub.execute_input": "2020-11-17T18:44:03.469970Z",
     "iopub.status.busy": "2020-11-17T18:44:03.468664Z",
     "iopub.status.idle": "2020-11-17T18:44:03.472271Z",
     "shell.execute_reply": "2020-11-17T18:44:03.471360Z"
    },
    "papermill": {
     "duration": 0.076156,
     "end_time": "2020-11-17T18:44:03.472431",
     "exception": false,
     "start_time": "2020-11-17T18:44:03.396275",
     "status": "completed"
    },
    "tags": []
   },
   "outputs": [],
   "source": [
    "vectorizer_features = ['cleaned_dialogue_<lambda>']\n",
    "vectorizer_transformer = Pipeline(steps=[\n",
    "    ('con', Converter()),\n",
    "    ('tf', TfidfVectorizer())])"
   ]
  },
  {
   "cell_type": "markdown",
   "metadata": {
    "papermill": {
     "duration": 0.086383,
     "end_time": "2020-11-17T18:44:03.646506",
     "exception": false,
     "start_time": "2020-11-17T18:44:03.560123",
     "status": "completed"
    },
    "tags": []
   },
   "source": [
    "Now, we can combine preprocessing pipelines with the classifers. We will try 4 basic models:\n",
    "- Linear Support Vector Classifier\n",
    "- Logistic Regression Classifier\n",
    "- Naive Bayes Classifier\n",
    "- Random Forest Clasifier"
   ]
  },
  {
   "cell_type": "code",
   "execution_count": 29,
   "metadata": {
    "execution": {
     "iopub.execute_input": "2020-11-17T18:44:03.832778Z",
     "iopub.status.busy": "2020-11-17T18:44:03.830307Z",
     "iopub.status.idle": "2020-11-17T18:44:03.835915Z",
     "shell.execute_reply": "2020-11-17T18:44:03.836460Z"
    },
    "papermill": {
     "duration": 0.102584,
     "end_time": "2020-11-17T18:44:03.836633",
     "exception": false,
     "start_time": "2020-11-17T18:44:03.734049",
     "status": "completed"
    },
    "tags": []
   },
   "outputs": [],
   "source": [
    "preprocessor = ColumnTransformer(\n",
    "    transformers=[\n",
    "        ('num', numeric_transformer, numeric_features),\n",
    "        ('cat', categorical_transformer, categorical_features),\n",
    "        ('vec', vectorizer_transformer, vectorizer_features)\n",
    "    ])\n",
    "\n",
    "svc_clf = Pipeline(steps=[('preprocessor', preprocessor),\n",
    "                      ('classifier', CalibratedClassifierCV(LinearSVC()))])  ## LinearSVC has no predict_proba method\n",
    "\n",
    "log_clf = Pipeline(steps=[('preprocessor', preprocessor),\n",
    "                      ('classifier', LogisticRegression())])\n",
    "\n",
    "nb_clf = Pipeline(steps=[('preprocessor', preprocessor),\n",
    "                      ('classifier', MultinomialNB())])\n",
    "\n",
    "rf_clf = Pipeline(steps=[('preprocessor', preprocessor),\n",
    "                      ('classifier', RandomForestClassifier(n_estimators=100, min_samples_leaf=10, \n",
    "                                                            max_features=0.7, n_jobs=-1, oob_score=True))])"
   ]
  },
  {
   "cell_type": "markdown",
   "metadata": {
    "papermill": {
     "duration": 0.06616,
     "end_time": "2020-11-17T18:44:03.970272",
     "exception": false,
     "start_time": "2020-11-17T18:44:03.904112",
     "status": "completed"
    },
    "tags": []
   },
   "source": [
    "Fitting the preprocessing & classifier pipelines on training data"
   ]
  },
  {
   "cell_type": "code",
   "execution_count": 30,
   "metadata": {
    "execution": {
     "iopub.execute_input": "2020-11-17T18:44:04.122636Z",
     "iopub.status.busy": "2020-11-17T18:44:04.116707Z",
     "iopub.status.idle": "2020-11-17T18:44:17.142028Z",
     "shell.execute_reply": "2020-11-17T18:44:17.142791Z"
    },
    "papermill": {
     "duration": 13.104507,
     "end_time": "2020-11-17T18:44:17.143050",
     "exception": false,
     "start_time": "2020-11-17T18:44:04.038543",
     "status": "completed"
    },
    "tags": []
   },
   "outputs": [
    {
     "data": {
      "text/plain": [
       "Pipeline(steps=[('preprocessor',\n",
       "                 ColumnTransformer(transformers=[('num',\n",
       "                                                  Pipeline(steps=[('scaler',\n",
       "                                                                   MinMaxScaler())]),\n",
       "                                                  ['lineLength_median',\n",
       "                                                   'wordCountLine_median',\n",
       "                                                   'chId_count']),\n",
       "                                                 ('cat',\n",
       "                                                  Pipeline(steps=[('onehot',\n",
       "                                                                   OneHotEncoder(handle_unknown='ignore'))]),\n",
       "                                                  ['posCredits']),\n",
       "                                                 ('vec',\n",
       "                                                  Pipeline(steps=[('con',\n",
       "                                                                   Converter()),\n",
       "                                                                  ('tf',\n",
       "                                                                   TfidfVectorizer())]),\n",
       "                                                  ['cleaned_dialogue_<lambda>'])])),\n",
       "                ('classifier',\n",
       "                 RandomForestClassifier(max_features=0.7, min_samples_leaf=10,\n",
       "                                        n_jobs=-1, oob_score=True))])"
      ]
     },
     "execution_count": 30,
     "metadata": {},
     "output_type": "execute_result"
    }
   ],
   "source": [
    "svc_clf.fit(X_train, y_train)\n",
    "log_clf.fit(X_train, y_train)\n",
    "nb_clf.fit(X_train, y_train)\n",
    "rf_clf.fit(X_train, y_train)"
   ]
  },
  {
   "cell_type": "markdown",
   "metadata": {
    "papermill": {
     "duration": 0.07651,
     "end_time": "2020-11-17T18:44:17.293564",
     "exception": false,
     "start_time": "2020-11-17T18:44:17.217054",
     "status": "completed"
    },
    "tags": []
   },
   "source": [
    "### Check results on the validation set"
   ]
  },
  {
   "cell_type": "code",
   "execution_count": 31,
   "metadata": {
    "execution": {
     "iopub.execute_input": "2020-11-17T18:44:17.449273Z",
     "iopub.status.busy": "2020-11-17T18:44:17.448199Z",
     "iopub.status.idle": "2020-11-17T18:44:17.451584Z",
     "shell.execute_reply": "2020-11-17T18:44:17.450974Z"
    },
    "papermill": {
     "duration": 0.083027,
     "end_time": "2020-11-17T18:44:17.451707",
     "exception": false,
     "start_time": "2020-11-17T18:44:17.368680",
     "status": "completed"
    },
    "tags": []
   },
   "outputs": [],
   "source": [
    "def results(name: str, model: BaseEstimator) -> None:\n",
    "    '''\n",
    "    Custom function to check model performance on validation set\n",
    "    '''\n",
    "    preds = model.predict(X_val)\n",
    "\n",
    "    print(name + \" score: %.3f\" % model.score(X_val, y_val))\n",
    "    print(classification_report(y_val, preds))\n",
    "    labels = ['Male', 'Female']\n",
    "\n",
    "    conf_matrix = confusion_matrix(y_val, preds)\n",
    "    plt.figure(figsize= (10,6))\n",
    "    sns.heatmap(conf_matrix, xticklabels=labels, yticklabels=labels, annot=True, fmt=\"d\", cmap='Blues')\n",
    "    plt.title(\"Confusion Matrix for \" + name)\n",
    "    plt.ylabel('True Class')\n",
    "    plt.xlabel('Predicted Class')"
   ]
  },
  {
   "cell_type": "code",
   "execution_count": 32,
   "metadata": {
    "execution": {
     "iopub.execute_input": "2020-11-17T18:44:17.642100Z",
     "iopub.status.busy": "2020-11-17T18:44:17.631715Z",
     "iopub.status.idle": "2020-11-17T18:44:20.294589Z",
     "shell.execute_reply": "2020-11-17T18:44:20.293830Z"
    },
    "papermill": {
     "duration": 2.774062,
     "end_time": "2020-11-17T18:44:20.294713",
     "exception": false,
     "start_time": "2020-11-17T18:44:17.520651",
     "status": "completed"
    },
    "tags": []
   },
   "outputs": [
    {
     "name": "stdout",
     "output_type": "stream",
     "text": [
      "SVC score: 0.734\n",
      "              precision    recall  f1-score   support\n",
      "\n",
      "           0       0.75      0.71      0.73       190\n",
      "           1       0.72      0.76      0.74       190\n",
      "\n",
      "    accuracy                           0.73       380\n",
      "   macro avg       0.73      0.73      0.73       380\n",
      "weighted avg       0.73      0.73      0.73       380\n",
      "\n",
      "Logistic Regression score: 0.718\n",
      "              precision    recall  f1-score   support\n",
      "\n",
      "           0       0.72      0.71      0.71       190\n",
      "           1       0.71      0.73      0.72       190\n",
      "\n",
      "    accuracy                           0.72       380\n",
      "   macro avg       0.72      0.72      0.72       380\n",
      "weighted avg       0.72      0.72      0.72       380\n",
      "\n",
      "Naive Bayes score: 0.713\n",
      "              precision    recall  f1-score   support\n",
      "\n",
      "           0       0.70      0.75      0.72       190\n",
      "           1       0.73      0.67      0.70       190\n",
      "\n",
      "    accuracy                           0.71       380\n",
      "   macro avg       0.71      0.71      0.71       380\n",
      "weighted avg       0.71      0.71      0.71       380\n",
      "\n",
      "Random Forest score: 0.705\n",
      "              precision    recall  f1-score   support\n",
      "\n",
      "           0       0.70      0.72      0.71       190\n",
      "           1       0.71      0.69      0.70       190\n",
      "\n",
      "    accuracy                           0.71       380\n",
      "   macro avg       0.71      0.71      0.71       380\n",
      "weighted avg       0.71      0.71      0.71       380\n",
      "\n"
     ]
    },
    {
     "data": {
      "image/png": "[encoded data removed]",
      "text/plain": [
       "<Figure size 720x432 with 2 Axes>"
      ]
     },
     "metadata": {
      "needs_background": "light"
     },
     "output_type": "display_data"
    },
    {
     "data": {
      "image/png": "[encoded data removed]",
      "text/plain": [
       "<Figure size 720x432 with 2 Axes>"
      ]
     },
     "metadata": {
      "needs_background": "light"
     },
     "output_type": "display_data"
    },
    {
     "data": {
      "image/png": "[encoded data removed]",
      "text/plain": [
       "<Figure size 720x432 with 2 Axes>"
      ]
     },
     "metadata": {
      "needs_background": "light"
     },
     "output_type": "display_data"
    },
    {
     "data": {
      "image/png": "[encoded data removed]",
      "text/plain": [
       "<Figure size 720x432 with 2 Axes>"
      ]
     },
     "metadata": {
      "needs_background": "light"
     },
     "output_type": "display_data"
    }
   ],
   "source": [
    "results(\"SVC\" , svc_clf)\n",
    "results(\"Logistic Regression\" , log_clf)\n",
    "results(\"Naive Bayes\" , nb_clf)\n",
    "results(\"Random Forest\" , rf_clf)"
   ]
  },
  {
   "cell_type": "markdown",
   "metadata": {
    "papermill": {
     "duration": 0.072646,
     "end_time": "2020-11-17T18:44:20.440166",
     "exception": false,
     "start_time": "2020-11-17T18:44:20.367520",
     "status": "completed"
    },
    "tags": []
   },
   "source": [
    "We are getting accuracy in the range of 70-75% for most of the models, which is pretty good. \n",
    "Some possible ways to improve this performance could be:\n",
    "- using bi-grams or tri-grams for dialogue tokens\n",
    "- Trying out feed forward neural networks, LSTM or CNN\n",
    "- additional feature engineering related to context of dialogues in the movie\n",
    "\n",
    "Still, our current classifier performance is good enough to understand that there is indeed a gender bias in the characters of Hollywood movies which our models are capturing fairly well.\n",
    "\n",
    "Let's explore what features contribute the most to our classifiers through some model explainability techniques."
   ]
  },
  {
   "cell_type": "markdown",
   "metadata": {
    "papermill": {
     "duration": 0.073202,
     "end_time": "2020-11-17T18:44:20.586103",
     "exception": false,
     "start_time": "2020-11-17T18:44:20.512901",
     "status": "completed"
    },
    "tags": []
   },
   "source": [
    "## Feature importance"
   ]
  },
  {
   "cell_type": "markdown",
   "metadata": {
    "papermill": {
     "duration": 0.071984,
     "end_time": "2020-11-17T18:44:20.731121",
     "exception": false,
     "start_time": "2020-11-17T18:44:20.659137",
     "status": "completed"
    },
    "tags": []
   },
   "source": [
    "Creating a list of all features including numeric & vectorised features"
   ]
  },
  {
   "cell_type": "code",
   "execution_count": 33,
   "metadata": {
    "execution": {
     "iopub.execute_input": "2020-11-17T18:44:20.906046Z",
     "iopub.status.busy": "2020-11-17T18:44:20.904216Z",
     "iopub.status.idle": "2020-11-17T18:44:20.907285Z",
     "shell.execute_reply": "2020-11-17T18:44:20.908063Z"
    },
    "papermill": {
     "duration": 0.105195,
     "end_time": "2020-11-17T18:44:20.908275",
     "exception": false,
     "start_time": "2020-11-17T18:44:20.803080",
     "status": "completed"
    },
    "tags": []
   },
   "outputs": [],
   "source": [
    "vect_columns = list(svc_clf.named_steps['preprocessor'].named_transformers_['vec'].named_steps['tf'].get_feature_names())\n",
    "onehot_columns = list(svc_clf.named_steps['preprocessor'].named_transformers_['cat'].named_steps['onehot'].get_feature_names(input_features=categorical_features))\n",
    "numeric_features_list = list(numeric_features)\n",
    "numeric_features_list.extend(onehot_columns)\n",
    "numeric_features_list.extend(vect_columns)"
   ]
  },
  {
   "cell_type": "markdown",
   "metadata": {
    "papermill": {
     "duration": 0.080143,
     "end_time": "2020-11-17T18:44:21.084111",
     "exception": false,
     "start_time": "2020-11-17T18:44:21.003968",
     "status": "completed"
    },
    "tags": []
   },
   "source": [
    "#### Feature importance for Logistic Regression"
   ]
  },
  {
   "cell_type": "code",
   "execution_count": 34,
   "metadata": {
    "execution": {
     "iopub.execute_input": "2020-11-17T18:44:21.237766Z",
     "iopub.status.busy": "2020-11-17T18:44:21.236978Z",
     "iopub.status.idle": "2020-11-17T18:44:21.314321Z",
     "shell.execute_reply": "2020-11-17T18:44:21.313688Z"
    },
    "papermill": {
     "duration": 0.15684,
     "end_time": "2020-11-17T18:44:21.314446",
     "exception": false,
     "start_time": "2020-11-17T18:44:21.157606",
     "status": "completed"
    },
    "tags": []
   },
   "outputs": [
    {
     "data": {
      "text/html": [
       "\n",
       "    <style>\n",
       "    table.eli5-weights tr:hover {\n",
       "        filter: brightness(85%);\n",
       "    }\n",
       "</style>\n",
       "\n",
       "\n",
       "\n",
       "    \n",
       "\n",
       "    \n",
       "\n",
       "    \n",
       "\n",
       "    \n",
       "\n",
       "    \n",
       "\n",
       "    \n",
       "\n",
       "\n",
       "    \n",
       "\n",
       "    \n",
       "\n",
       "    \n",
       "\n",
       "    \n",
       "        \n",
       "\n",
       "    \n",
       "\n",
       "        \n",
       "            \n",
       "                \n",
       "                \n",
       "    \n",
       "        <p style=\"margin-bottom: 0.5em; margin-top: 0em\">\n",
       "            <b>\n",
       "    \n",
       "        y=1\n",
       "    \n",
       "</b>\n",
       "\n",
       "top features\n",
       "        </p>\n",
       "    \n",
       "    <table class=\"eli5-weights\"\n",
       "           style=\"border-collapse: collapse; border: none; margin-top: 0em; table-layout: auto; margin-bottom: 2em;\">\n",
       "        <thead>\n",
       "        <tr style=\"border: none;\">\n",
       "            \n",
       "                <th style=\"padding: 0 1em 0 0.5em; text-align: right; border: none;\" title=\"Feature weights. Note that weights do not account for feature value scales, so if feature values have different scales, features with highest weights might not be the most important.\">\n",
       "                    Weight<sup>?</sup>\n",
       "                </th>\n",
       "            \n",
       "            <th style=\"padding: 0 0.5em 0 0.5em; text-align: left; border: none;\">Feature</th>\n",
       "            \n",
       "        </tr>\n",
       "        </thead>\n",
       "        <tbody>\n",
       "        \n",
       "            <tr style=\"background-color: hsl(120, 100.00%, 80.00%); border: none;\">\n",
       "    <td style=\"padding: 0 1em 0 0.5em; text-align: right; border: none;\">\n",
       "        +2.845\n",
       "    </td>\n",
       "    <td style=\"padding: 0 0.5em 0 0.5em; text-align: left; border: none;\">\n",
       "        oh\n",
       "    </td>\n",
       "    \n",
       "</tr>\n",
       "        \n",
       "            <tr style=\"background-color: hsl(120, 100.00%, 86.12%); border: none;\">\n",
       "    <td style=\"padding: 0 1em 0 0.5em; text-align: right; border: none;\">\n",
       "        +1.688\n",
       "    </td>\n",
       "    <td style=\"padding: 0 0.5em 0 0.5em; text-align: left; border: none;\">\n",
       "        love\n",
       "    </td>\n",
       "    \n",
       "</tr>\n",
       "        \n",
       "            <tr style=\"background-color: hsl(120, 100.00%, 88.73%); border: none;\">\n",
       "    <td style=\"padding: 0 1em 0 0.5em; text-align: right; border: none;\">\n",
       "        +1.254\n",
       "    </td>\n",
       "    <td style=\"padding: 0 0.5em 0 0.5em; text-align: left; border: none;\">\n",
       "        want\n",
       "    </td>\n",
       "    \n",
       "</tr>\n",
       "        \n",
       "            <tr style=\"background-color: hsl(120, 100.00%, 89.48%); border: none;\">\n",
       "    <td style=\"padding: 0 1em 0 0.5em; text-align: right; border: none;\">\n",
       "        +1.137\n",
       "    </td>\n",
       "    <td style=\"padding: 0 0.5em 0 0.5em; text-align: left; border: none;\">\n",
       "        god\n",
       "    </td>\n",
       "    \n",
       "</tr>\n",
       "        \n",
       "            <tr style=\"background-color: hsl(120, 100.00%, 89.69%); border: none;\">\n",
       "    <td style=\"padding: 0 1em 0 0.5em; text-align: right; border: none;\">\n",
       "        +1.105\n",
       "    </td>\n",
       "    <td style=\"padding: 0 0.5em 0 0.5em; text-align: left; border: none;\">\n",
       "        really\n",
       "    </td>\n",
       "    \n",
       "</tr>\n",
       "        \n",
       "            <tr style=\"background-color: hsl(120, 100.00%, 89.79%); border: none;\">\n",
       "    <td style=\"padding: 0 1em 0 0.5em; text-align: right; border: none;\">\n",
       "        +1.089\n",
       "    </td>\n",
       "    <td style=\"padding: 0 0.5em 0 0.5em; text-align: left; border: none;\">\n",
       "        said\n",
       "    </td>\n",
       "    \n",
       "</tr>\n",
       "        \n",
       "            <tr style=\"background-color: hsl(120, 100.00%, 90.20%); border: none;\">\n",
       "    <td style=\"padding: 0 1em 0 0.5em; text-align: right; border: none;\">\n",
       "        +1.027\n",
       "    </td>\n",
       "    <td style=\"padding: 0 0.5em 0 0.5em; text-align: left; border: none;\">\n",
       "        darling\n",
       "    </td>\n",
       "    \n",
       "</tr>\n",
       "        \n",
       "            <tr style=\"background-color: hsl(120, 100.00%, 90.25%); border: none;\">\n",
       "    <td style=\"padding: 0 1em 0 0.5em; text-align: right; border: none;\">\n",
       "        +1.020\n",
       "    </td>\n",
       "    <td style=\"padding: 0 0.5em 0 0.5em; text-align: left; border: none;\">\n",
       "        child\n",
       "    </td>\n",
       "    \n",
       "</tr>\n",
       "        \n",
       "            <tr style=\"background-color: hsl(120, 100.00%, 90.26%); border: none;\">\n",
       "    <td style=\"padding: 0 1em 0 0.5em; text-align: right; border: none;\">\n",
       "        +1.018\n",
       "    </td>\n",
       "    <td style=\"padding: 0 0.5em 0 0.5em; text-align: left; border: none;\">\n",
       "        never\n",
       "    </td>\n",
       "    \n",
       "</tr>\n",
       "        \n",
       "            <tr style=\"background-color: hsl(120, 100.00%, 90.35%); border: none;\">\n",
       "    <td style=\"padding: 0 1em 0 0.5em; text-align: right; border: none;\">\n",
       "        +1.005\n",
       "    </td>\n",
       "    <td style=\"padding: 0 0.5em 0 0.5em; text-align: left; border: none;\">\n",
       "        going\n",
       "    </td>\n",
       "    \n",
       "</tr>\n",
       "        \n",
       "            <tr style=\"background-color: hsl(120, 100.00%, 91.25%); border: none;\">\n",
       "    <td style=\"padding: 0 1em 0 0.5em; text-align: right; border: none;\">\n",
       "        +0.873\n",
       "    </td>\n",
       "    <td style=\"padding: 0 0.5em 0 0.5em; text-align: left; border: none;\">\n",
       "        bill\n",
       "    </td>\n",
       "    \n",
       "</tr>\n",
       "        \n",
       "            <tr style=\"background-color: hsl(120, 100.00%, 91.51%); border: none;\">\n",
       "    <td style=\"padding: 0 1em 0 0.5em; text-align: right; border: none;\">\n",
       "        +0.837\n",
       "    </td>\n",
       "    <td style=\"padding: 0 0.5em 0 0.5em; text-align: left; border: none;\">\n",
       "        leave\n",
       "    </td>\n",
       "    \n",
       "</tr>\n",
       "        \n",
       "            <tr style=\"background-color: hsl(120, 100.00%, 91.53%); border: none;\">\n",
       "    <td style=\"padding: 0 1em 0 0.5em; text-align: right; border: none;\">\n",
       "        +0.833\n",
       "    </td>\n",
       "    <td style=\"padding: 0 0.5em 0 0.5em; text-align: left; border: none;\">\n",
       "        charles\n",
       "    </td>\n",
       "    \n",
       "</tr>\n",
       "        \n",
       "            <tr style=\"background-color: hsl(120, 100.00%, 91.54%); border: none;\">\n",
       "    <td style=\"padding: 0 1em 0 0.5em; text-align: right; border: none;\">\n",
       "        +0.833\n",
       "    </td>\n",
       "    <td style=\"padding: 0 0.5em 0 0.5em; text-align: left; border: none;\">\n",
       "        father\n",
       "    </td>\n",
       "    \n",
       "</tr>\n",
       "        \n",
       "            <tr style=\"background-color: hsl(120, 100.00%, 91.63%); border: none;\">\n",
       "    <td style=\"padding: 0 1em 0 0.5em; text-align: right; border: none;\">\n",
       "        +0.820\n",
       "    </td>\n",
       "    <td style=\"padding: 0 0.5em 0 0.5em; text-align: left; border: none;\">\n",
       "        daddy\n",
       "    </td>\n",
       "    \n",
       "</tr>\n",
       "        \n",
       "        \n",
       "            <tr style=\"background-color: hsl(120, 100.00%, 91.63%); border: none;\">\n",
       "                <td colspan=\"2\" style=\"padding: 0 0.5em 0 0.5em; text-align: center; border: none; white-space: nowrap;\">\n",
       "                    <i>&hellip; 10866 more positive &hellip;</i>\n",
       "                </td>\n",
       "            </tr>\n",
       "        \n",
       "\n",
       "        \n",
       "            <tr style=\"background-color: hsl(0, 100.00%, 91.60%); border: none;\">\n",
       "                <td colspan=\"2\" style=\"padding: 0 0.5em 0 0.5em; text-align: center; border: none; white-space: nowrap;\">\n",
       "                    <i>&hellip; 14480 more negative &hellip;</i>\n",
       "                </td>\n",
       "            </tr>\n",
       "        \n",
       "        \n",
       "            <tr style=\"background-color: hsl(0, 100.00%, 91.60%); border: none;\">\n",
       "    <td style=\"padding: 0 1em 0 0.5em; text-align: right; border: none;\">\n",
       "        -0.824\n",
       "    </td>\n",
       "    <td style=\"padding: 0 0.5em 0 0.5em; text-align: left; border: none;\">\n",
       "        em\n",
       "    </td>\n",
       "    \n",
       "</tr>\n",
       "        \n",
       "            <tr style=\"background-color: hsl(0, 100.00%, 91.06%); border: none;\">\n",
       "    <td style=\"padding: 0 1em 0 0.5em; text-align: right; border: none;\">\n",
       "        -0.901\n",
       "    </td>\n",
       "    <td style=\"padding: 0 0.5em 0 0.5em; text-align: left; border: none;\">\n",
       "        look\n",
       "    </td>\n",
       "    \n",
       "</tr>\n",
       "        \n",
       "            <tr style=\"background-color: hsl(0, 100.00%, 90.85%); border: none;\">\n",
       "    <td style=\"padding: 0 1em 0 0.5em; text-align: right; border: none;\">\n",
       "        -0.932\n",
       "    </td>\n",
       "    <td style=\"padding: 0 0.5em 0 0.5em; text-align: left; border: none;\">\n",
       "        right\n",
       "    </td>\n",
       "    \n",
       "</tr>\n",
       "        \n",
       "            <tr style=\"background-color: hsl(0, 100.00%, 90.65%); border: none;\">\n",
       "    <td style=\"padding: 0 1em 0 0.5em; text-align: right; border: none;\">\n",
       "        -0.960\n",
       "    </td>\n",
       "    <td style=\"padding: 0 0.5em 0 0.5em; text-align: left; border: none;\">\n",
       "        one\n",
       "    </td>\n",
       "    \n",
       "</tr>\n",
       "        \n",
       "            <tr style=\"background-color: hsl(0, 100.00%, 90.47%); border: none;\">\n",
       "    <td style=\"padding: 0 1em 0 0.5em; text-align: right; border: none;\">\n",
       "        -0.987\n",
       "    </td>\n",
       "    <td style=\"padding: 0 0.5em 0 0.5em; text-align: left; border: none;\">\n",
       "        guy\n",
       "    </td>\n",
       "    \n",
       "</tr>\n",
       "        \n",
       "            <tr style=\"background-color: hsl(0, 100.00%, 90.24%); border: none;\">\n",
       "    <td style=\"padding: 0 1em 0 0.5em; text-align: right; border: none;\">\n",
       "        -1.020\n",
       "    </td>\n",
       "    <td style=\"padding: 0 0.5em 0 0.5em; text-align: left; border: none;\">\n",
       "        dude\n",
       "    </td>\n",
       "    \n",
       "</tr>\n",
       "        \n",
       "            <tr style=\"background-color: hsl(0, 100.00%, 90.21%); border: none;\">\n",
       "    <td style=\"padding: 0 1em 0 0.5em; text-align: right; border: none;\">\n",
       "        -1.026\n",
       "    </td>\n",
       "    <td style=\"padding: 0 0.5em 0 0.5em; text-align: left; border: none;\">\n",
       "        hell\n",
       "    </td>\n",
       "    \n",
       "</tr>\n",
       "        \n",
       "            <tr style=\"background-color: hsl(0, 100.00%, 89.79%); border: none;\">\n",
       "    <td style=\"padding: 0 1em 0 0.5em; text-align: right; border: none;\">\n",
       "        -1.090\n",
       "    </td>\n",
       "    <td style=\"padding: 0 0.5em 0 0.5em; text-align: left; border: none;\">\n",
       "        sir\n",
       "    </td>\n",
       "    \n",
       "</tr>\n",
       "        \n",
       "            <tr style=\"background-color: hsl(0, 100.00%, 89.13%); border: none;\">\n",
       "    <td style=\"padding: 0 1em 0 0.5em; text-align: right; border: none;\">\n",
       "        -1.192\n",
       "    </td>\n",
       "    <td style=\"padding: 0 0.5em 0 0.5em; text-align: left; border: none;\">\n",
       "        hey\n",
       "    </td>\n",
       "    \n",
       "</tr>\n",
       "        \n",
       "            <tr style=\"background-color: hsl(0, 100.00%, 88.96%); border: none;\">\n",
       "    <td style=\"padding: 0 1em 0 0.5em; text-align: right; border: none;\">\n",
       "        -1.218\n",
       "    </td>\n",
       "    <td style=\"padding: 0 0.5em 0 0.5em; text-align: left; border: none;\">\n",
       "        listen\n",
       "    </td>\n",
       "    \n",
       "</tr>\n",
       "        \n",
       "            <tr style=\"background-color: hsl(0, 100.00%, 88.40%); border: none;\">\n",
       "    <td style=\"padding: 0 1em 0 0.5em; text-align: right; border: none;\">\n",
       "        -1.306\n",
       "    </td>\n",
       "    <td style=\"padding: 0 0.5em 0 0.5em; text-align: left; border: none;\">\n",
       "        fuckin\n",
       "    </td>\n",
       "    \n",
       "</tr>\n",
       "        \n",
       "            <tr style=\"background-color: hsl(0, 100.00%, 87.74%); border: none;\">\n",
       "    <td style=\"padding: 0 1em 0 0.5em; text-align: right; border: none;\">\n",
       "        -1.414\n",
       "    </td>\n",
       "    <td style=\"padding: 0 0.5em 0 0.5em; text-align: left; border: none;\">\n",
       "        got\n",
       "    </td>\n",
       "    \n",
       "</tr>\n",
       "        \n",
       "            <tr style=\"background-color: hsl(0, 100.00%, 87.10%); border: none;\">\n",
       "    <td style=\"padding: 0 1em 0 0.5em; text-align: right; border: none;\">\n",
       "        -1.521\n",
       "    </td>\n",
       "    <td style=\"padding: 0 0.5em 0 0.5em; text-align: left; border: none;\">\n",
       "        gotta\n",
       "    </td>\n",
       "    \n",
       "</tr>\n",
       "        \n",
       "            <tr style=\"background-color: hsl(0, 100.00%, 86.97%); border: none;\">\n",
       "    <td style=\"padding: 0 1em 0 0.5em; text-align: right; border: none;\">\n",
       "        -1.542\n",
       "    </td>\n",
       "    <td style=\"padding: 0 0.5em 0 0.5em; text-align: left; border: none;\">\n",
       "        yeah\n",
       "    </td>\n",
       "    \n",
       "</tr>\n",
       "        \n",
       "            <tr style=\"background-color: hsl(0, 100.00%, 83.07%); border: none;\">\n",
       "    <td style=\"padding: 0 1em 0 0.5em; text-align: right; border: none;\">\n",
       "        -2.243\n",
       "    </td>\n",
       "    <td style=\"padding: 0 0.5em 0 0.5em; text-align: left; border: none;\">\n",
       "        man\n",
       "    </td>\n",
       "    \n",
       "</tr>\n",
       "        \n",
       "\n",
       "        </tbody>\n",
       "    </table>\n",
       "\n",
       "            \n",
       "        \n",
       "\n",
       "        \n",
       "\n",
       "\n",
       "\n",
       "    \n",
       "\n",
       "    \n",
       "\n",
       "    \n",
       "\n",
       "    \n",
       "\n",
       "\n",
       "    \n",
       "\n",
       "    \n",
       "\n",
       "    \n",
       "\n",
       "    \n",
       "\n",
       "    \n",
       "\n",
       "    \n",
       "\n",
       "\n",
       "    \n",
       "\n",
       "    \n",
       "\n",
       "    \n",
       "\n",
       "    \n",
       "\n",
       "    \n",
       "\n",
       "    \n",
       "\n",
       "\n",
       "\n"
      ],
      "text/plain": [
       "Explanation(estimator='LogisticRegression()', description=\"\\nFeatures with largest coefficients.\\nCaveats:\\n1. Be careful with features which are not\\n   independent - weights don't show their importance.\\n2. If scale of input features is different then scale of coefficients\\n   will also be different, making direct comparison between coefficient values\\n   incorrect.\\n3. Depending on regularization, rare features sometimes may have high\\n   coefficients; this doesn't mean they contribute much to the\\n   classification result for most examples.\\n\", error=None, method='linear model', is_regression=False, targets=[TargetExplanation(target=1, feature_weights=FeatureWeights(pos=[FeatureWeight(feature='oh', weight=2.8453299745478646, std=None, value=None), FeatureWeight(feature='love', weight=1.6881815042971493, std=None, value=None), FeatureWeight(feature='want', weight=1.2541754762978283, std=None, value=None), FeatureWeight(feature='god', weight=1.1367921842516056, std=None, value=None), FeatureWeight(feature='really', weight=1.1045252677983055, std=None, value=None), FeatureWeight(feature='said', weight=1.089129705041138, std=None, value=None), FeatureWeight(feature='darling', weight=1.0268286757566012, std=None, value=None), FeatureWeight(feature='child', weight=1.0200166471286543, std=None, value=None), FeatureWeight(feature='never', weight=1.018294109342755, std=None, value=None), FeatureWeight(feature='going', weight=1.0047397758037389, std=None, value=None), FeatureWeight(feature='bill', weight=0.8729574194076529, std=None, value=None), FeatureWeight(feature='leave', weight=0.8367606277685453, std=None, value=None), FeatureWeight(feature='charles', weight=0.8333783302799707, std=None, value=None), FeatureWeight(feature='father', weight=0.8328587381330562, std=None, value=None), FeatureWeight(feature='daddy', weight=0.8197573299760893, std=None, value=None)], neg=[FeatureWeight(feature='man', weight=-2.243005407192483, std=None, value=None), FeatureWeight(feature='yeah', weight=-1.5424567061197239, std=None, value=None), FeatureWeight(feature='gotta', weight=-1.520950093422355, std=None, value=None), FeatureWeight(feature='got', weight=-1.4140976863589723, std=None, value=None), FeatureWeight(feature='fuckin', weight=-1.3064521467903345, std=None, value=None), FeatureWeight(feature='listen', weight=-1.2175227126011121, std=None, value=None), FeatureWeight(feature='hey', weight=-1.1915226976103865, std=None, value=None), FeatureWeight(feature='sir', weight=-1.0895058173700736, std=None, value=None), FeatureWeight(feature='hell', weight=-1.0259713000534236, std=None, value=None), FeatureWeight(feature='dude', weight=-1.020384756886402, std=None, value=None), FeatureWeight(feature='guy', weight=-0.986595242816592, std=None, value=None), FeatureWeight(feature='one', weight=-0.9604278221792035, std=None, value=None), FeatureWeight(feature='right', weight=-0.9315005809347816, std=None, value=None), FeatureWeight(feature='look', weight=-0.9006952739242702, std=None, value=None), FeatureWeight(feature='em', weight=-0.824468612628669, std=None, value=None)], pos_remaining=10866, neg_remaining=14480), proba=None, score=None, weighted_spans=None, heatmap=None)], feature_importances=None, decision_tree=None, highlight_spaces=None, transition_features=None, image=None)"
      ]
     },
     "execution_count": 34,
     "metadata": {},
     "output_type": "execute_result"
    }
   ],
   "source": [
    "eli5.explain_weights(log_clf.named_steps['classifier'], top=30, feature_names=numeric_features_list)"
   ]
  },
  {
   "cell_type": "markdown",
   "metadata": {
    "papermill": {
     "duration": 0.073613,
     "end_time": "2020-11-17T18:44:21.463343",
     "exception": false,
     "start_time": "2020-11-17T18:44:21.389730",
     "status": "completed"
    },
    "tags": []
   },
   "source": [
    "We see that dialogue keywords like \"oh\", \"love\", \"like\", \"darling\", \"want\", \"honey\" are strong indicators that the character is a female, while keywords like \"sir\", \"man\", \"hell\", \"fuckin\", \"gotta\" & \"yeah\" are usually found in the dialogues of male characters!"
   ]
  },
  {
   "cell_type": "markdown",
   "metadata": {
    "papermill": {
     "duration": 0.073452,
     "end_time": "2020-11-17T18:44:21.610940",
     "exception": false,
     "start_time": "2020-11-17T18:44:21.537488",
     "status": "completed"
    },
    "tags": []
   },
   "source": [
    "#### Let's also try to visualize a single decision tree\n",
    "\n",
    "We can training a single decision tree using the Random Forest Classifier."
   ]
  },
  {
   "cell_type": "code",
   "execution_count": 35,
   "metadata": {
    "execution": {
     "iopub.execute_input": "2020-11-17T18:44:21.797739Z",
     "iopub.status.busy": "2020-11-17T18:44:21.792630Z",
     "iopub.status.idle": "2020-11-17T18:44:23.241251Z",
     "shell.execute_reply": "2020-11-17T18:44:23.240478Z"
    },
    "papermill": {
     "duration": 1.556379,
     "end_time": "2020-11-17T18:44:23.241386",
     "exception": false,
     "start_time": "2020-11-17T18:44:21.685007",
     "status": "completed"
    },
    "tags": []
   },
   "outputs": [
    {
     "name": "stdout",
     "output_type": "stream",
     "text": [
      "Decision Tree Classifier score: 0.518\n",
      "              precision    recall  f1-score   support\n",
      "\n",
      "           0       0.61      0.10      0.17       190\n",
      "           1       0.51      0.94      0.66       190\n",
      "\n",
      "    accuracy                           0.52       380\n",
      "   macro avg       0.56      0.52      0.42       380\n",
      "weighted avg       0.56      0.52      0.42       380\n",
      "\n"
     ]
    },
    {
     "data": {
      "image/png": "[encoded data removed]",
      "text/plain": [
       "<Figure size 720x432 with 2 Axes>"
      ]
     },
     "metadata": {
      "needs_background": "light"
     },
     "output_type": "display_data"
    }
   ],
   "source": [
    "def draw_tree(t, df, size=10, ratio=0.6, precision=0):\n",
    "    \"\"\" \n",
    "    Draws a representation of a decition tree in IPython from fastai v0.7\n",
    "    \"\"\"\n",
    "    s=export_graphviz(t, out_file=None, feature_names=numeric_features_list, filled=True,\n",
    "                      special_characters=True, rotate=True, precision=precision, \n",
    "                      proportion=True, class_names = [\"male\", \"female\"], impurity = False)\n",
    "    IPython.display.display(graphviz.Source(re.sub('Tree {',\n",
    "       f'Tree {{ size={size}; ratio={ratio}', s)))\n",
    "\n",
    "m = RandomForestClassifier(n_estimators=1, min_samples_leaf=5, max_depth = 3, \n",
    "                           oob_score=True, random_state = np.random.seed(12))\n",
    "dt_clf = Pipeline(steps=[('preprocessor', preprocessor),\n",
    "                         ('classifier', m)])\n",
    "\n",
    "dt_clf.fit(X_train, y_train)\n",
    "results(\"Decision Tree Classifier\", dt_clf)"
   ]
  },
  {
   "cell_type": "markdown",
   "metadata": {
    "papermill": {
     "duration": 0.080901,
     "end_time": "2020-11-17T18:44:23.403032",
     "exception": false,
     "start_time": "2020-11-17T18:44:23.322131",
     "status": "completed"
    },
    "tags": []
   },
   "source": [
    "While a single decision is a poor classifier with accuracy barely more than 50%, we see that bagging enough of such weak classifiers to form a Random Forest model helps us improve the model performance drastically! Let's look at how the splits are made for a single decision tree."
   ]
  },
  {
   "cell_type": "code",
   "execution_count": 36,
   "metadata": {
    "execution": {
     "iopub.execute_input": "2020-11-17T18:44:23.574884Z",
     "iopub.status.busy": "2020-11-17T18:44:23.573132Z",
     "iopub.status.idle": "2020-11-17T18:44:24.096696Z",
     "shell.execute_reply": "2020-11-17T18:44:24.096077Z"
    },
    "papermill": {
     "duration": 0.61347,
     "end_time": "2020-11-17T18:44:24.096849",
     "exception": false,
     "start_time": "2020-11-17T18:44:23.483379",
     "status": "completed"
    },
    "tags": []
   },
   "outputs": [
    {
     "data": {
      "image/svg+xml": [
       "<?xml version=\"1.0\" encoding=\"UTF-8\" standalone=\"no\"?>\n",
       "<!DOCTYPE svg PUBLIC \"-//W3C//DTD SVG 1.1//EN\"\n",
       " \"http://www.w3.org/Graphics/SVG/1.1/DTD/svg11.dtd\">\n",
       "<!-- Generated by graphviz version 2.42.3 (20191010.1750)\n",
       " -->\n",
       "<!-- Title: Tree Pages: 1 -->\n",
       "<svg width=\"701pt\" height=\"424pt\"\n",
       " viewBox=\"0.00 0.00 701.33 424.00\" xmlns=\"http://www.w3.org/2000/svg\" xmlns:xlink=\"http://www.w3.org/1999/xlink\">\n",
       "<g id=\"graph0\" class=\"graph\" transform=\"scale(1 1) rotate(0) translate(4 420)\">\n",
       "<title>Tree</title>\n",
       "<polygon fill=\"white\" stroke=\"transparent\" points=\"-4,4 -4,-420 697.33,-420 697.33,4 -4,4\"/>\n",
       "<!-- 0 -->\n",
       "<g id=\"node1\" class=\"node\">\n",
       "<title>0</title>\n",
       "<polygon fill=\"#f8fbfe\" stroke=\"black\" points=\"134.33,-202.5 8.33,-202.5 8.33,-134.5 134.33,-134.5 134.33,-202.5\"/>\n",
       "<text text-anchor=\"start\" x=\"37.83\" y=\"-187.3\" font-family=\"Times,serif\" font-size=\"14.00\">level ≤ 0.01</text>\n",
       "<text text-anchor=\"start\" x=\"19.83\" y=\"-172.3\" font-family=\"Times,serif\" font-size=\"14.00\">samples = 100.0%</text>\n",
       "<text text-anchor=\"start\" x=\"16.33\" y=\"-157.3\" font-family=\"Times,serif\" font-size=\"14.00\">value = [0.49, 0.51]</text>\n",
       "<text text-anchor=\"start\" x=\"31.33\" y=\"-142.3\" font-family=\"Times,serif\" font-size=\"14.00\">class = female</text>\n",
       "</g>\n",
       "<!-- 1 -->\n",
       "<g id=\"node2\" class=\"node\">\n",
       "<title>1</title>\n",
       "<polygon fill=\"#eef6fd\" stroke=\"black\" points=\"318.33,-246.5 192.33,-246.5 192.33,-178.5 318.33,-178.5 318.33,-246.5\"/>\n",
       "<text text-anchor=\"start\" x=\"223.33\" y=\"-231.3\" font-family=\"Times,serif\" font-size=\"14.00\">land ≤ 0.03</text>\n",
       "<text text-anchor=\"start\" x=\"206.83\" y=\"-216.3\" font-family=\"Times,serif\" font-size=\"14.00\">samples = 96.0%</text>\n",
       "<text text-anchor=\"start\" x=\"200.33\" y=\"-201.3\" font-family=\"Times,serif\" font-size=\"14.00\">value = [0.48, 0.52]</text>\n",
       "<text text-anchor=\"start\" x=\"215.33\" y=\"-186.3\" font-family=\"Times,serif\" font-size=\"14.00\">class = female</text>\n",
       "</g>\n",
       "<!-- 0&#45;&gt;1 -->\n",
       "<g id=\"edge1\" class=\"edge\">\n",
       "<title>0&#45;&gt;1</title>\n",
       "<path fill=\"none\" stroke=\"black\" d=\"M134.46,-183.52C149.89,-187.25 166.57,-191.28 182.43,-195.12\"/>\n",
       "<polygon fill=\"black\" stroke=\"black\" points=\"181.64,-198.53 192.18,-197.47 183.28,-191.72 181.64,-198.53\"/>\n",
       "<text text-anchor=\"middle\" x=\"170.84\" y=\"-206.8\" font-family=\"Times,serif\" font-size=\"14.00\">True</text>\n",
       "</g>\n",
       "<!-- 8 -->\n",
       "<g id=\"node9\" class=\"node\">\n",
       "<title>8</title>\n",
       "<polygon fill=\"#eca36e\" stroke=\"black\" points=\"318.33,-139.5 192.33,-139.5 192.33,-71.5 318.33,-71.5 318.33,-139.5\"/>\n",
       "<text text-anchor=\"start\" x=\"221.83\" y=\"-124.3\" font-family=\"Times,serif\" font-size=\"14.00\">gotta ≤ 0.03</text>\n",
       "<text text-anchor=\"start\" x=\"210.33\" y=\"-109.3\" font-family=\"Times,serif\" font-size=\"14.00\">samples = 4.0%</text>\n",
       "<text text-anchor=\"start\" x=\"200.33\" y=\"-94.3\" font-family=\"Times,serif\" font-size=\"14.00\">value = [0.79, 0.21]</text>\n",
       "<text text-anchor=\"start\" x=\"220.33\" y=\"-79.3\" font-family=\"Times,serif\" font-size=\"14.00\">class = male</text>\n",
       "</g>\n",
       "<!-- 0&#45;&gt;8 -->\n",
       "<g id=\"edge8\" class=\"edge\">\n",
       "<title>0&#45;&gt;8</title>\n",
       "<path fill=\"none\" stroke=\"black\" d=\"M134.46,-147C149.89,-141.65 166.57,-135.88 182.43,-130.39\"/>\n",
       "<polygon fill=\"black\" stroke=\"black\" points=\"183.87,-133.59 192.18,-127.01 181.58,-126.98 183.87,-133.59\"/>\n",
       "<text text-anchor=\"middle\" x=\"169.69\" y=\"-112.39\" font-family=\"Times,serif\" font-size=\"14.00\">False</text>\n",
       "</g>\n",
       "<!-- 2 -->\n",
       "<g id=\"node3\" class=\"node\">\n",
       "<title>2</title>\n",
       "<polygon fill=\"#e7f3fc\" stroke=\"black\" points=\"501.33,-352.5 375.33,-352.5 375.33,-284.5 501.33,-284.5 501.33,-352.5\"/>\n",
       "<text text-anchor=\"start\" x=\"406.33\" y=\"-337.3\" font-family=\"Times,serif\" font-size=\"14.00\">twin ≤ 0.05</text>\n",
       "<text text-anchor=\"start\" x=\"389.83\" y=\"-322.3\" font-family=\"Times,serif\" font-size=\"14.00\">samples = 92.8%</text>\n",
       "<text text-anchor=\"start\" x=\"383.33\" y=\"-307.3\" font-family=\"Times,serif\" font-size=\"14.00\">value = [0.47, 0.53]</text>\n",
       "<text text-anchor=\"start\" x=\"398.33\" y=\"-292.3\" font-family=\"Times,serif\" font-size=\"14.00\">class = female</text>\n",
       "</g>\n",
       "<!-- 1&#45;&gt;2 -->\n",
       "<g id=\"edge2\" class=\"edge\">\n",
       "<title>1&#45;&gt;2</title>\n",
       "<path fill=\"none\" stroke=\"black\" d=\"M314.6,-246.62C332.36,-257.02 352.03,-268.54 370.32,-279.26\"/>\n",
       "<polygon fill=\"black\" stroke=\"black\" points=\"368.78,-282.41 379.18,-284.44 372.32,-276.37 368.78,-282.41\"/>\n",
       "</g>\n",
       "<!-- 5 -->\n",
       "<g id=\"node6\" class=\"node\">\n",
       "<title>5</title>\n",
       "<polygon fill=\"#edaa79\" stroke=\"black\" points=\"501.33,-246.5 375.33,-246.5 375.33,-178.5 501.33,-178.5 501.33,-246.5\"/>\n",
       "<text text-anchor=\"start\" x=\"408.33\" y=\"-231.3\" font-family=\"Times,serif\" font-size=\"14.00\">bad ≤ 0.02</text>\n",
       "<text text-anchor=\"start\" x=\"393.33\" y=\"-216.3\" font-family=\"Times,serif\" font-size=\"14.00\">samples = 3.2%</text>\n",
       "<text text-anchor=\"start\" x=\"383.33\" y=\"-201.3\" font-family=\"Times,serif\" font-size=\"14.00\">value = [0.76, 0.24]</text>\n",
       "<text text-anchor=\"start\" x=\"403.33\" y=\"-186.3\" font-family=\"Times,serif\" font-size=\"14.00\">class = male</text>\n",
       "</g>\n",
       "<!-- 1&#45;&gt;5 -->\n",
       "<g id=\"edge5\" class=\"edge\">\n",
       "<title>1&#45;&gt;5</title>\n",
       "<path fill=\"none\" stroke=\"black\" d=\"M318.37,-212.5C333.4,-212.5 349.59,-212.5 365.04,-212.5\"/>\n",
       "<polygon fill=\"black\" stroke=\"black\" points=\"365.07,-216 375.07,-212.5 365.07,-209 365.07,-216\"/>\n",
       "</g>\n",
       "<!-- 3 -->\n",
       "<g id=\"node4\" class=\"node\">\n",
       "<title>3</title>\n",
       "<polygon fill=\"#e9f4fc\" stroke=\"black\" points=\"685.33,-416 559.33,-416 559.33,-363 685.33,-363 685.33,-416\"/>\n",
       "<text text-anchor=\"start\" x=\"573.83\" y=\"-400.8\" font-family=\"Times,serif\" font-size=\"14.00\">samples = 92.3%</text>\n",
       "<text text-anchor=\"start\" x=\"567.33\" y=\"-385.8\" font-family=\"Times,serif\" font-size=\"14.00\">value = [0.47, 0.53]</text>\n",
       "<text text-anchor=\"start\" x=\"582.33\" y=\"-370.8\" font-family=\"Times,serif\" font-size=\"14.00\">class = female</text>\n",
       "</g>\n",
       "<!-- 2&#45;&gt;3 -->\n",
       "<g id=\"edge3\" class=\"edge\">\n",
       "<title>2&#45;&gt;3</title>\n",
       "<path fill=\"none\" stroke=\"black\" d=\"M501.46,-342.74C516.89,-348.76 533.57,-355.26 549.43,-361.45\"/>\n",
       "<polygon fill=\"black\" stroke=\"black\" points=\"548.59,-364.88 559.18,-365.25 551.14,-358.36 548.59,-364.88\"/>\n",
       "</g>\n",
       "<!-- 4 -->\n",
       "<g id=\"node5\" class=\"node\">\n",
       "<title>4</title>\n",
       "<polygon fill=\"#399de5\" stroke=\"black\" points=\"678.83,-345 565.83,-345 565.83,-292 678.83,-292 678.83,-345\"/>\n",
       "<text text-anchor=\"start\" x=\"577.33\" y=\"-329.8\" font-family=\"Times,serif\" font-size=\"14.00\">samples = 0.5%</text>\n",
       "<text text-anchor=\"start\" x=\"573.83\" y=\"-314.8\" font-family=\"Times,serif\" font-size=\"14.00\">value = [0.0, 1.0]</text>\n",
       "<text text-anchor=\"start\" x=\"582.33\" y=\"-299.8\" font-family=\"Times,serif\" font-size=\"14.00\">class = female</text>\n",
       "</g>\n",
       "<!-- 2&#45;&gt;4 -->\n",
       "<g id=\"edge4\" class=\"edge\">\n",
       "<title>2&#45;&gt;4</title>\n",
       "<path fill=\"none\" stroke=\"black\" d=\"M501.46,-318.5C518.85,-318.5 537.8,-318.5 555.41,-318.5\"/>\n",
       "<polygon fill=\"black\" stroke=\"black\" points=\"555.59,-322 565.59,-318.5 555.59,-315 555.59,-322\"/>\n",
       "</g>\n",
       "<!-- 6 -->\n",
       "<g id=\"node7\" class=\"node\">\n",
       "<title>6</title>\n",
       "<polygon fill=\"#e78c4b\" stroke=\"black\" points=\"685.33,-274 559.33,-274 559.33,-221 685.33,-221 685.33,-274\"/>\n",
       "<text text-anchor=\"start\" x=\"577.33\" y=\"-258.8\" font-family=\"Times,serif\" font-size=\"14.00\">samples = 2.4%</text>\n",
       "<text text-anchor=\"start\" x=\"567.33\" y=\"-243.8\" font-family=\"Times,serif\" font-size=\"14.00\">value = [0.92, 0.08]</text>\n",
       "<text text-anchor=\"start\" x=\"587.33\" y=\"-228.8\" font-family=\"Times,serif\" font-size=\"14.00\">class = male</text>\n",
       "</g>\n",
       "<!-- 5&#45;&gt;6 -->\n",
       "<g id=\"edge6\" class=\"edge\">\n",
       "<title>5&#45;&gt;6</title>\n",
       "<path fill=\"none\" stroke=\"black\" d=\"M501.46,-224.45C516.75,-227.39 533.25,-230.56 548.98,-233.59\"/>\n",
       "<polygon fill=\"black\" stroke=\"black\" points=\"548.7,-237.1 559.18,-235.55 550.02,-230.22 548.7,-237.1\"/>\n",
       "</g>\n",
       "<!-- 7 -->\n",
       "<g id=\"node8\" class=\"node\">\n",
       "<title>7</title>\n",
       "<polygon fill=\"#91c9f1\" stroke=\"black\" points=\"685.33,-203 559.33,-203 559.33,-150 685.33,-150 685.33,-203\"/>\n",
       "<text text-anchor=\"start\" x=\"577.33\" y=\"-187.8\" font-family=\"Times,serif\" font-size=\"14.00\">samples = 0.8%</text>\n",
       "<text text-anchor=\"start\" x=\"567.33\" y=\"-172.8\" font-family=\"Times,serif\" font-size=\"14.00\">value = [0.31, 0.69]</text>\n",
       "<text text-anchor=\"start\" x=\"582.33\" y=\"-157.8\" font-family=\"Times,serif\" font-size=\"14.00\">class = female</text>\n",
       "</g>\n",
       "<!-- 5&#45;&gt;7 -->\n",
       "<g id=\"edge7\" class=\"edge\">\n",
       "<title>5&#45;&gt;7</title>\n",
       "<path fill=\"none\" stroke=\"black\" d=\"M501.46,-200.21C516.75,-197.19 533.25,-193.92 548.98,-190.81\"/>\n",
       "<polygon fill=\"black\" stroke=\"black\" points=\"550.05,-194.17 559.18,-188.79 548.69,-187.3 550.05,-194.17\"/>\n",
       "</g>\n",
       "<!-- 9 -->\n",
       "<g id=\"node10\" class=\"node\">\n",
       "<title>9</title>\n",
       "<polygon fill=\"#edaa79\" stroke=\"black\" points=\"501.33,-139.5 375.33,-139.5 375.33,-71.5 501.33,-71.5 501.33,-139.5\"/>\n",
       "<text text-anchor=\"start\" x=\"408.83\" y=\"-124.3\" font-family=\"Times,serif\" font-size=\"14.00\">truth ≤ 0.0</text>\n",
       "<text text-anchor=\"start\" x=\"393.33\" y=\"-109.3\" font-family=\"Times,serif\" font-size=\"14.00\">samples = 3.4%</text>\n",
       "<text text-anchor=\"start\" x=\"383.33\" y=\"-94.3\" font-family=\"Times,serif\" font-size=\"14.00\">value = [0.75, 0.25]</text>\n",
       "<text text-anchor=\"start\" x=\"403.33\" y=\"-79.3\" font-family=\"Times,serif\" font-size=\"14.00\">class = male</text>\n",
       "</g>\n",
       "<!-- 8&#45;&gt;9 -->\n",
       "<g id=\"edge9\" class=\"edge\">\n",
       "<title>8&#45;&gt;9</title>\n",
       "<path fill=\"none\" stroke=\"black\" d=\"M318.37,-105.5C333.4,-105.5 349.59,-105.5 365.04,-105.5\"/>\n",
       "<polygon fill=\"black\" stroke=\"black\" points=\"365.07,-109 375.07,-105.5 365.07,-102 365.07,-109\"/>\n",
       "</g>\n",
       "<!-- 12 -->\n",
       "<g id=\"node13\" class=\"node\">\n",
       "<title>12</title>\n",
       "<polygon fill=\"#e58139\" stroke=\"black\" points=\"494.83,-53 381.83,-53 381.83,0 494.83,0 494.83,-53\"/>\n",
       "<text text-anchor=\"start\" x=\"393.33\" y=\"-37.8\" font-family=\"Times,serif\" font-size=\"14.00\">samples = 0.5%</text>\n",
       "<text text-anchor=\"start\" x=\"389.83\" y=\"-22.8\" font-family=\"Times,serif\" font-size=\"14.00\">value = [1.0, 0.0]</text>\n",
       "<text text-anchor=\"start\" x=\"403.33\" y=\"-7.8\" font-family=\"Times,serif\" font-size=\"14.00\">class = male</text>\n",
       "</g>\n",
       "<!-- 8&#45;&gt;12 -->\n",
       "<g id=\"edge12\" class=\"edge\">\n",
       "<title>8&#45;&gt;12</title>\n",
       "<path fill=\"none\" stroke=\"black\" d=\"M318.37,-78.42C335.73,-70.85 354.64,-62.59 372.17,-54.94\"/>\n",
       "<polygon fill=\"black\" stroke=\"black\" points=\"373.98,-57.97 381.75,-50.76 371.18,-51.55 373.98,-57.97\"/>\n",
       "</g>\n",
       "<!-- 10 -->\n",
       "<g id=\"node11\" class=\"node\">\n",
       "<title>10</title>\n",
       "<polygon fill=\"#eca571\" stroke=\"black\" points=\"685.33,-132 559.33,-132 559.33,-79 685.33,-79 685.33,-132\"/>\n",
       "<text text-anchor=\"start\" x=\"577.33\" y=\"-116.8\" font-family=\"Times,serif\" font-size=\"14.00\">samples = 2.9%</text>\n",
       "<text text-anchor=\"start\" x=\"567.33\" y=\"-101.8\" font-family=\"Times,serif\" font-size=\"14.00\">value = [0.78, 0.22]</text>\n",
       "<text text-anchor=\"start\" x=\"587.33\" y=\"-86.8\" font-family=\"Times,serif\" font-size=\"14.00\">class = male</text>\n",
       "</g>\n",
       "<!-- 9&#45;&gt;10 -->\n",
       "<g id=\"edge10\" class=\"edge\">\n",
       "<title>9&#45;&gt;10</title>\n",
       "<path fill=\"none\" stroke=\"black\" d=\"M501.46,-105.5C516.75,-105.5 533.25,-105.5 548.98,-105.5\"/>\n",
       "<polygon fill=\"black\" stroke=\"black\" points=\"549.18,-109 559.18,-105.5 549.18,-102 549.18,-109\"/>\n",
       "</g>\n",
       "<!-- 11 -->\n",
       "<g id=\"node12\" class=\"node\">\n",
       "<title>11</title>\n",
       "<polygon fill=\"#f8e0ce\" stroke=\"black\" points=\"685.33,-61 559.33,-61 559.33,-8 685.33,-8 685.33,-61\"/>\n",
       "<text text-anchor=\"start\" x=\"577.33\" y=\"-45.8\" font-family=\"Times,serif\" font-size=\"14.00\">samples = 0.5%</text>\n",
       "<text text-anchor=\"start\" x=\"567.33\" y=\"-30.8\" font-family=\"Times,serif\" font-size=\"14.00\">value = [0.57, 0.43]</text>\n",
       "<text text-anchor=\"start\" x=\"587.33\" y=\"-15.8\" font-family=\"Times,serif\" font-size=\"14.00\">class = male</text>\n",
       "</g>\n",
       "<!-- 9&#45;&gt;11 -->\n",
       "<g id=\"edge11\" class=\"edge\">\n",
       "<title>9&#45;&gt;11</title>\n",
       "<path fill=\"none\" stroke=\"black\" d=\"M501.46,-81.26C516.89,-75.24 533.57,-68.74 549.43,-62.55\"/>\n",
       "<polygon fill=\"black\" stroke=\"black\" points=\"551.14,-65.64 559.18,-58.75 548.59,-59.12 551.14,-65.64\"/>\n",
       "</g>\n",
       "</g>\n",
       "</svg>\n"
      ],
      "text/plain": [
       "<graphviz.files.Source at 0x7f7d58de7390>"
      ]
     },
     "metadata": {},
     "output_type": "display_data"
    }
   ],
   "source": [
    "draw_tree(m.estimators_[0], X_train, precision=2)"
   ]
  },
  {
   "cell_type": "markdown",
   "metadata": {
    "papermill": {
     "duration": 0.07818,
     "end_time": "2020-11-17T18:44:24.253420",
     "exception": false,
     "start_time": "2020-11-17T18:44:24.175240",
     "status": "completed"
    },
    "tags": []
   },
   "source": [
    "Here the blue colored nodes indicate their majority class is \"female\" while the orange colored nodes have a majority of \"male\" labels. The decision tree starts with a mixed sample, but the leaves of the tree are biased towards one class or the other. Most splits seem to be happening using dialogue tokens."
   ]
  },
  {
   "cell_type": "markdown",
   "metadata": {
    "papermill": {
     "duration": 0.076559,
     "end_time": "2020-11-17T18:44:24.407191",
     "exception": false,
     "start_time": "2020-11-17T18:44:24.330632",
     "status": "completed"
    },
    "tags": []
   },
   "source": [
    "#### Feature importance for the Random Forest model"
   ]
  },
  {
   "cell_type": "code",
   "execution_count": 37,
   "metadata": {
    "execution": {
     "iopub.execute_input": "2020-11-17T18:44:24.568605Z",
     "iopub.status.busy": "2020-11-17T18:44:24.567552Z",
     "iopub.status.idle": "2020-11-17T18:44:24.976765Z",
     "shell.execute_reply": "2020-11-17T18:44:24.975985Z"
    },
    "papermill": {
     "duration": 0.492716,
     "end_time": "2020-11-17T18:44:24.976918",
     "exception": false,
     "start_time": "2020-11-17T18:44:24.484202",
     "status": "completed"
    },
    "tags": []
   },
   "outputs": [
    {
     "data": {
      "text/html": [
       "\n",
       "    <style>\n",
       "    table.eli5-weights tr:hover {\n",
       "        filter: brightness(85%);\n",
       "    }\n",
       "</style>\n",
       "\n",
       "\n",
       "\n",
       "    \n",
       "\n",
       "    \n",
       "\n",
       "    \n",
       "\n",
       "    \n",
       "\n",
       "    \n",
       "\n",
       "    \n",
       "\n",
       "\n",
       "    \n",
       "\n",
       "    \n",
       "\n",
       "    \n",
       "\n",
       "    \n",
       "\n",
       "    \n",
       "\n",
       "    \n",
       "\n",
       "\n",
       "    \n",
       "\n",
       "    \n",
       "\n",
       "    \n",
       "\n",
       "    \n",
       "\n",
       "    \n",
       "        <table class=\"eli5-weights eli5-feature-importances\" style=\"border-collapse: collapse; border: none; margin-top: 0em; table-layout: auto;\">\n",
       "    <thead>\n",
       "    <tr style=\"border: none;\">\n",
       "        <th style=\"padding: 0 1em 0 0.5em; text-align: right; border: none;\">Weight</th>\n",
       "        <th style=\"padding: 0 0.5em 0 0.5em; text-align: left; border: none;\">Feature</th>\n",
       "    </tr>\n",
       "    </thead>\n",
       "    <tbody>\n",
       "    \n",
       "        <tr style=\"background-color: hsl(120, 100.00%, 80.00%); border: none;\">\n",
       "            <td style=\"padding: 0 1em 0 0.5em; text-align: right; border: none;\">\n",
       "                0.0711\n",
       "                \n",
       "                    &plusmn; 0.0656\n",
       "                \n",
       "            </td>\n",
       "            <td style=\"padding: 0 0.5em 0 0.5em; text-align: left; border: none;\">\n",
       "                oh\n",
       "            </td>\n",
       "        </tr>\n",
       "    \n",
       "        <tr style=\"background-color: hsl(120, 100.00%, 83.66%); border: none;\">\n",
       "            <td style=\"padding: 0 1em 0 0.5em; text-align: right; border: none;\">\n",
       "                0.0532\n",
       "                \n",
       "                    &plusmn; 0.0602\n",
       "                \n",
       "            </td>\n",
       "            <td style=\"padding: 0 0.5em 0 0.5em; text-align: left; border: none;\">\n",
       "                man\n",
       "            </td>\n",
       "        </tr>\n",
       "    \n",
       "        <tr style=\"background-color: hsl(120, 100.00%, 89.89%); border: none;\">\n",
       "            <td style=\"padding: 0 1em 0 0.5em; text-align: right; border: none;\">\n",
       "                0.0268\n",
       "                \n",
       "                    &plusmn; 0.0625\n",
       "                \n",
       "            </td>\n",
       "            <td style=\"padding: 0 0.5em 0 0.5em; text-align: left; border: none;\">\n",
       "                love\n",
       "            </td>\n",
       "        </tr>\n",
       "    \n",
       "        <tr style=\"background-color: hsl(120, 100.00%, 91.54%); border: none;\">\n",
       "            <td style=\"padding: 0 1em 0 0.5em; text-align: right; border: none;\">\n",
       "                0.0208\n",
       "                \n",
       "                    &plusmn; 0.0465\n",
       "                \n",
       "            </td>\n",
       "            <td style=\"padding: 0 0.5em 0 0.5em; text-align: left; border: none;\">\n",
       "                got\n",
       "            </td>\n",
       "        </tr>\n",
       "    \n",
       "        <tr style=\"background-color: hsl(120, 100.00%, 91.74%); border: none;\">\n",
       "            <td style=\"padding: 0 1em 0 0.5em; text-align: right; border: none;\">\n",
       "                0.0201\n",
       "                \n",
       "                    &plusmn; 0.0379\n",
       "                \n",
       "            </td>\n",
       "            <td style=\"padding: 0 0.5em 0 0.5em; text-align: left; border: none;\">\n",
       "                lineLength_median\n",
       "            </td>\n",
       "        </tr>\n",
       "    \n",
       "        <tr style=\"background-color: hsl(120, 100.00%, 93.20%); border: none;\">\n",
       "            <td style=\"padding: 0 1em 0 0.5em; text-align: right; border: none;\">\n",
       "                0.0152\n",
       "                \n",
       "                    &plusmn; 0.0371\n",
       "                \n",
       "            </td>\n",
       "            <td style=\"padding: 0 0.5em 0 0.5em; text-align: left; border: none;\">\n",
       "                yeah\n",
       "            </td>\n",
       "        </tr>\n",
       "    \n",
       "        <tr style=\"background-color: hsl(120, 100.00%, 93.22%); border: none;\">\n",
       "            <td style=\"padding: 0 1em 0 0.5em; text-align: right; border: none;\">\n",
       "                0.0151\n",
       "                \n",
       "                    &plusmn; 0.0334\n",
       "                \n",
       "            </td>\n",
       "            <td style=\"padding: 0 0.5em 0 0.5em; text-align: left; border: none;\">\n",
       "                want\n",
       "            </td>\n",
       "        </tr>\n",
       "    \n",
       "        <tr style=\"background-color: hsl(120, 100.00%, 93.30%); border: none;\">\n",
       "            <td style=\"padding: 0 1em 0 0.5em; text-align: right; border: none;\">\n",
       "                0.0149\n",
       "                \n",
       "                    &plusmn; 0.0427\n",
       "                \n",
       "            </td>\n",
       "            <td style=\"padding: 0 0.5em 0 0.5em; text-align: left; border: none;\">\n",
       "                hey\n",
       "            </td>\n",
       "        </tr>\n",
       "    \n",
       "        <tr style=\"background-color: hsl(120, 100.00%, 93.51%); border: none;\">\n",
       "            <td style=\"padding: 0 1em 0 0.5em; text-align: right; border: none;\">\n",
       "                0.0142\n",
       "                \n",
       "                    &plusmn; 0.0334\n",
       "                \n",
       "            </td>\n",
       "            <td style=\"padding: 0 0.5em 0 0.5em; text-align: left; border: none;\">\n",
       "                said\n",
       "            </td>\n",
       "        </tr>\n",
       "    \n",
       "        <tr style=\"background-color: hsl(120, 100.00%, 93.58%); border: none;\">\n",
       "            <td style=\"padding: 0 1em 0 0.5em; text-align: right; border: none;\">\n",
       "                0.0140\n",
       "                \n",
       "                    &plusmn; 0.0363\n",
       "                \n",
       "            </td>\n",
       "            <td style=\"padding: 0 0.5em 0 0.5em; text-align: left; border: none;\">\n",
       "                listen\n",
       "            </td>\n",
       "        </tr>\n",
       "    \n",
       "        <tr style=\"background-color: hsl(120, 100.00%, 93.99%); border: none;\">\n",
       "            <td style=\"padding: 0 1em 0 0.5em; text-align: right; border: none;\">\n",
       "                0.0128\n",
       "                \n",
       "                    &plusmn; 0.0406\n",
       "                \n",
       "            </td>\n",
       "            <td style=\"padding: 0 0.5em 0 0.5em; text-align: left; border: none;\">\n",
       "                gotta\n",
       "            </td>\n",
       "        </tr>\n",
       "    \n",
       "        <tr style=\"background-color: hsl(120, 100.00%, 94.64%); border: none;\">\n",
       "            <td style=\"padding: 0 1em 0 0.5em; text-align: right; border: none;\">\n",
       "                0.0108\n",
       "                \n",
       "                    &plusmn; 0.0264\n",
       "                \n",
       "            </td>\n",
       "            <td style=\"padding: 0 0.5em 0 0.5em; text-align: left; border: none;\">\n",
       "                one\n",
       "            </td>\n",
       "        </tr>\n",
       "    \n",
       "        <tr style=\"background-color: hsl(120, 100.00%, 94.65%); border: none;\">\n",
       "            <td style=\"padding: 0 1em 0 0.5em; text-align: right; border: none;\">\n",
       "                0.0108\n",
       "                \n",
       "                    &plusmn; 0.0271\n",
       "                \n",
       "            </td>\n",
       "            <td style=\"padding: 0 0.5em 0 0.5em; text-align: left; border: none;\">\n",
       "                think\n",
       "            </td>\n",
       "        </tr>\n",
       "    \n",
       "        <tr style=\"background-color: hsl(120, 100.00%, 94.89%); border: none;\">\n",
       "            <td style=\"padding: 0 1em 0 0.5em; text-align: right; border: none;\">\n",
       "                0.0101\n",
       "                \n",
       "                    &plusmn; 0.0246\n",
       "                \n",
       "            </td>\n",
       "            <td style=\"padding: 0 0.5em 0 0.5em; text-align: left; border: none;\">\n",
       "                right\n",
       "            </td>\n",
       "        </tr>\n",
       "    \n",
       "        <tr style=\"background-color: hsl(120, 100.00%, 95.20%); border: none;\">\n",
       "            <td style=\"padding: 0 1em 0 0.5em; text-align: right; border: none;\">\n",
       "                0.0092\n",
       "                \n",
       "                    &plusmn; 0.0289\n",
       "                \n",
       "            </td>\n",
       "            <td style=\"padding: 0 0.5em 0 0.5em; text-align: left; border: none;\">\n",
       "                good\n",
       "            </td>\n",
       "        </tr>\n",
       "    \n",
       "        <tr style=\"background-color: hsl(120, 100.00%, 95.21%); border: none;\">\n",
       "            <td style=\"padding: 0 1em 0 0.5em; text-align: right; border: none;\">\n",
       "                0.0092\n",
       "                \n",
       "                    &plusmn; 0.0283\n",
       "                \n",
       "            </td>\n",
       "            <td style=\"padding: 0 0.5em 0 0.5em; text-align: left; border: none;\">\n",
       "                look\n",
       "            </td>\n",
       "        </tr>\n",
       "    \n",
       "        <tr style=\"background-color: hsl(120, 100.00%, 95.29%); border: none;\">\n",
       "            <td style=\"padding: 0 1em 0 0.5em; text-align: right; border: none;\">\n",
       "                0.0090\n",
       "                \n",
       "                    &plusmn; 0.0263\n",
       "                \n",
       "            </td>\n",
       "            <td style=\"padding: 0 0.5em 0 0.5em; text-align: left; border: none;\">\n",
       "                going\n",
       "            </td>\n",
       "        </tr>\n",
       "    \n",
       "        <tr style=\"background-color: hsl(120, 100.00%, 95.33%); border: none;\">\n",
       "            <td style=\"padding: 0 1em 0 0.5em; text-align: right; border: none;\">\n",
       "                0.0089\n",
       "                \n",
       "                    &plusmn; 0.0267\n",
       "                \n",
       "            </td>\n",
       "            <td style=\"padding: 0 0.5em 0 0.5em; text-align: left; border: none;\">\n",
       "                ever\n",
       "            </td>\n",
       "        </tr>\n",
       "    \n",
       "        <tr style=\"background-color: hsl(120, 100.00%, 95.44%); border: none;\">\n",
       "            <td style=\"padding: 0 1em 0 0.5em; text-align: right; border: none;\">\n",
       "                0.0086\n",
       "                \n",
       "                    &plusmn; 0.0250\n",
       "                \n",
       "            </td>\n",
       "            <td style=\"padding: 0 0.5em 0 0.5em; text-align: left; border: none;\">\n",
       "                chId_count\n",
       "            </td>\n",
       "        </tr>\n",
       "    \n",
       "        <tr style=\"background-color: hsl(120, 100.00%, 95.56%); border: none;\">\n",
       "            <td style=\"padding: 0 1em 0 0.5em; text-align: right; border: none;\">\n",
       "                0.0083\n",
       "                \n",
       "                    &plusmn; 0.0204\n",
       "                \n",
       "            </td>\n",
       "            <td style=\"padding: 0 0.5em 0 0.5em; text-align: left; border: none;\">\n",
       "                know\n",
       "            </td>\n",
       "        </tr>\n",
       "    \n",
       "        <tr style=\"background-color: hsl(120, 100.00%, 95.66%); border: none;\">\n",
       "            <td style=\"padding: 0 1em 0 0.5em; text-align: right; border: none;\">\n",
       "                0.0080\n",
       "                \n",
       "                    &plusmn; 0.0220\n",
       "                \n",
       "            </td>\n",
       "            <td style=\"padding: 0 0.5em 0 0.5em; text-align: left; border: none;\">\n",
       "                say\n",
       "            </td>\n",
       "        </tr>\n",
       "    \n",
       "        <tr style=\"background-color: hsl(120, 100.00%, 95.69%); border: none;\">\n",
       "            <td style=\"padding: 0 1em 0 0.5em; text-align: right; border: none;\">\n",
       "                0.0079\n",
       "                \n",
       "                    &plusmn; 0.0252\n",
       "                \n",
       "            </td>\n",
       "            <td style=\"padding: 0 0.5em 0 0.5em; text-align: left; border: none;\">\n",
       "                tell\n",
       "            </td>\n",
       "        </tr>\n",
       "    \n",
       "        <tr style=\"background-color: hsl(120, 100.00%, 95.74%); border: none;\">\n",
       "            <td style=\"padding: 0 1em 0 0.5em; text-align: right; border: none;\">\n",
       "                0.0078\n",
       "                \n",
       "                    &plusmn; 0.0216\n",
       "                \n",
       "            </td>\n",
       "            <td style=\"padding: 0 0.5em 0 0.5em; text-align: left; border: none;\">\n",
       "                go\n",
       "            </td>\n",
       "        </tr>\n",
       "    \n",
       "        <tr style=\"background-color: hsl(120, 100.00%, 95.89%); border: none;\">\n",
       "            <td style=\"padding: 0 1em 0 0.5em; text-align: right; border: none;\">\n",
       "                0.0074\n",
       "                \n",
       "                    &plusmn; 0.0323\n",
       "                \n",
       "            </td>\n",
       "            <td style=\"padding: 0 0.5em 0 0.5em; text-align: left; border: none;\">\n",
       "                hell\n",
       "            </td>\n",
       "        </tr>\n",
       "    \n",
       "        <tr style=\"background-color: hsl(120, 100.00%, 95.91%); border: none;\">\n",
       "            <td style=\"padding: 0 1em 0 0.5em; text-align: right; border: none;\">\n",
       "                0.0074\n",
       "                \n",
       "                    &plusmn; 0.0293\n",
       "                \n",
       "            </td>\n",
       "            <td style=\"padding: 0 0.5em 0 0.5em; text-align: left; border: none;\">\n",
       "                running\n",
       "            </td>\n",
       "        </tr>\n",
       "    \n",
       "        <tr style=\"background-color: hsl(120, 100.00%, 95.92%); border: none;\">\n",
       "            <td style=\"padding: 0 1em 0 0.5em; text-align: right; border: none;\">\n",
       "                0.0073\n",
       "                \n",
       "                    &plusmn; 0.0298\n",
       "                \n",
       "            </td>\n",
       "            <td style=\"padding: 0 0.5em 0 0.5em; text-align: left; border: none;\">\n",
       "                child\n",
       "            </td>\n",
       "        </tr>\n",
       "    \n",
       "        <tr style=\"background-color: hsl(120, 100.00%, 96.00%); border: none;\">\n",
       "            <td style=\"padding: 0 1em 0 0.5em; text-align: right; border: none;\">\n",
       "                0.0071\n",
       "                \n",
       "                    &plusmn; 0.0262\n",
       "                \n",
       "            </td>\n",
       "            <td style=\"padding: 0 0.5em 0 0.5em; text-align: left; border: none;\">\n",
       "                even\n",
       "            </td>\n",
       "        </tr>\n",
       "    \n",
       "        <tr style=\"background-color: hsl(120, 100.00%, 96.04%); border: none;\">\n",
       "            <td style=\"padding: 0 1em 0 0.5em; text-align: right; border: none;\">\n",
       "                0.0070\n",
       "                \n",
       "                    &plusmn; 0.0217\n",
       "                \n",
       "            </td>\n",
       "            <td style=\"padding: 0 0.5em 0 0.5em; text-align: left; border: none;\">\n",
       "                like\n",
       "            </td>\n",
       "        </tr>\n",
       "    \n",
       "        <tr style=\"background-color: hsl(120, 100.00%, 96.14%); border: none;\">\n",
       "            <td style=\"padding: 0 1em 0 0.5em; text-align: right; border: none;\">\n",
       "                0.0068\n",
       "                \n",
       "                    &plusmn; 0.0222\n",
       "                \n",
       "            </td>\n",
       "            <td style=\"padding: 0 0.5em 0 0.5em; text-align: left; border: none;\">\n",
       "                may\n",
       "            </td>\n",
       "        </tr>\n",
       "    \n",
       "        <tr style=\"background-color: hsl(120, 100.00%, 96.25%); border: none;\">\n",
       "            <td style=\"padding: 0 1em 0 0.5em; text-align: right; border: none;\">\n",
       "                0.0065\n",
       "                \n",
       "                    &plusmn; 0.0216\n",
       "                \n",
       "            </td>\n",
       "            <td style=\"padding: 0 0.5em 0 0.5em; text-align: left; border: none;\">\n",
       "                yes\n",
       "            </td>\n",
       "        </tr>\n",
       "    \n",
       "    \n",
       "        \n",
       "            <tr style=\"background-color: hsl(120, 100.00%, 96.25%); border: none;\">\n",
       "                <td colspan=\"2\" style=\"padding: 0 0.5em 0 0.5em; text-align: center; border: none; white-space: nowrap;\">\n",
       "                    <i>&hellip; 25345 more &hellip;</i>\n",
       "                </td>\n",
       "            </tr>\n",
       "        \n",
       "    \n",
       "    </tbody>\n",
       "</table>\n",
       "    \n",
       "\n",
       "    \n",
       "\n",
       "\n",
       "    \n",
       "\n",
       "    \n",
       "\n",
       "    \n",
       "\n",
       "    \n",
       "\n",
       "    \n",
       "\n",
       "    \n",
       "\n",
       "\n",
       "\n"
      ],
      "text/plain": [
       "Explanation(estimator='RandomForestClassifier(max_features=0.7, min_samples_leaf=10, n_jobs=-1,\\n                       oob_score=True)', description='\\nRandom forest feature importances; values are numbers 0 <= x <= 1;\\nall values sum to 1.\\n', error=None, method='feature importances', is_regression=False, targets=None, feature_importances=FeatureImportances(importances=[FeatureWeight(feature='oh', weight=0.07105163990693092, std=0.03282042451887098, value=None), FeatureWeight(feature='man', weight=0.053244057691435025, std=0.030078782350260867, value=None), FeatureWeight(feature='love', weight=0.02681908831889266, std=0.03124327669682953, value=None), FeatureWeight(feature='got', weight=0.0207823481688747, std=0.023274649135931306, value=None), FeatureWeight(feature='lineLength_median', weight=0.020099961685264078, std=0.0189743502521095, value=None), FeatureWeight(feature='yeah', weight=0.01522878210928203, std=0.018561187384673744, value=None), FeatureWeight(feature='want', weight=0.015139274630040856, std=0.016681075464570504, value=None), FeatureWeight(feature='hey', weight=0.014899228841706974, std=0.021369837381098614, value=None), FeatureWeight(feature='said', weight=0.014226594820024753, std=0.016698020000588495, value=None), FeatureWeight(feature='listen', weight=0.01400371909460995, std=0.018172540782826378, value=None), FeatureWeight(feature='gotta', weight=0.012755656006317699, std=0.020322494177857208, value=None), FeatureWeight(feature='one', weight=0.010835956457802033, std=0.013222835815396197, value=None), FeatureWeight(feature='think', weight=0.01080290398355241, std=0.013554886558216274, value=None), FeatureWeight(feature='right', weight=0.010109664380052263, std=0.012313710454337143, value=None), FeatureWeight(feature='good', weight=0.009244198100513891, std=0.014442387418947463, value=None), FeatureWeight(feature='look', weight=0.009219969066869692, std=0.014165940712176056, value=None), FeatureWeight(feature='going', weight=0.008992521584601868, std=0.013129599633683372, value=None), FeatureWeight(feature='ever', weight=0.00889520406170909, std=0.013373741695539154, value=None), FeatureWeight(feature='chId_count', weight=0.008602939746373987, std=0.012492425196415979, value=None), FeatureWeight(feature='know', weight=0.008280125768823693, std=0.01021064916234527, value=None), FeatureWeight(feature='say', weight=0.008002119624914818, std=0.011004637656750044, value=None), FeatureWeight(feature='tell', weight=0.007925748946696788, std=0.012583825355579743, value=None), FeatureWeight(feature='go', weight=0.007809326993862001, std=0.010803432314780391, value=None), FeatureWeight(feature='hell', weight=0.00740304466878289, std=0.01614874869960474, value=None), FeatureWeight(feature='running', weight=0.007357501936002941, std=0.014666051909243749, value=None), FeatureWeight(feature='child', weight=0.007340720961897453, std=0.014906515508427887, value=None), FeatureWeight(feature='even', weight=0.007136107933128252, std=0.013098324771467334, value=None), FeatureWeight(feature='like', weight=0.007038704478484244, std=0.010858672623753014, value=None), FeatureWeight(feature='may', weight=0.006773556638010568, std=0.011104331927562949, value=None), FeatureWeight(feature='yes', weight=0.006507978309381582, std=0.01080848418248343, value=None)], remaining=25345), decision_tree=None, highlight_spaces=None, transition_features=None, image=None)"
      ]
     },
     "execution_count": 37,
     "metadata": {},
     "output_type": "execute_result"
    }
   ],
   "source": [
    "eli5.explain_weights(rf_clf.named_steps['classifier'], top=30, feature_names=numeric_features_list)"
   ]
  },
  {
   "cell_type": "markdown",
   "metadata": {
    "papermill": {
     "duration": 0.078142,
     "end_time": "2020-11-17T18:44:25.134351",
     "exception": false,
     "start_time": "2020-11-17T18:44:25.056209",
     "status": "completed"
    },
    "tags": []
   },
   "source": [
    "We see that the median length of a dialogue, total no of lines (`chId_count`) & position in the post credits in a movie are important features along with the tokens extracted from the character's dialogues for the Random Forest model!"
   ]
  }
 ],
 "metadata": {
  "kernelspec": {
   "display_name": "Python 3",
   "language": "python",
   "name": "python3"
  },
  "language_info": {
   "codemirror_mode": {
    "name": "ipython",
    "version": 3
   },
   "file_extension": ".py",
   "mimetype": "text/x-python",
   "name": "python",
   "nbconvert_exporter": "python",
   "pygments_lexer": "ipython3",
   "version": "3.7.6"
  },
  "papermill": {
   "duration": 99.5191,
   "end_time": "2020-11-17T18:44:25.321261",
   "environment_variables": {},
   "exception": null,
   "input_path": "__notebook__.ipynb",
   "output_path": "__notebook__.ipynb",
   "parameters": {},
   "start_time": "2020-11-17T18:42:45.802161",
   "version": "2.1.0"
  }
 },
 "nbformat": 4,
 "nbformat_minor": 4
}
