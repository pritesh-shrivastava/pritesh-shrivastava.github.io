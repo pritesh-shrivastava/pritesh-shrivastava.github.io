{
 "cells": [
  {
   "cell_type": "markdown",
   "metadata": {},
   "source": [
    "Suppose we represent vectors **v** = ( v_{i} ) as sequences of numbers, and matrices **m** = ( m_{i j} ) as sequences of vectors (the rows of the matrix). For example, the matrix\n",
    "       1 2 3 4 \n",
    "       4 5 6 6 \n",
    "       6 7 8 9\n",
    "is represented as the sequence `((1 2 3 4) (4 5 6 6) (6 7 8 9))`. With this representation, we can use sequence operations to concisely express the basic matrix and vector operations. These operations (which are described in any book on matrix algebra) are the following: \n",
    "`(dot-product v w)` returns the sum `Σ i v i w i` ; \n",
    "`(matrix-*-vector m v)` returns the vector `t` , where `t i = Σ j m i j v j` ; \n",
    "`(matrix-*-matrix m n)` returns the matrix `p` , where `p i j = Σ k m i k n k j` ; \n",
    "`(transpose m)` returns the matrix `n` , where `n i j = m j i` "
   ]
  },
  {
   "cell_type": "code",
   "execution_count": null,
   "metadata": {},
   "outputs": [],
   "source": []
  }
 ],
 "metadata": {
  "kernelspec": {
   "display_name": "MIT Scheme",
   "language": "mit-scheme",
   "name": "mit-scheme"
  },
  "language_info": {
   "codemirror_mode": "scheme",
   "file_extension": ".scm",
   "mimetype": "application/x-scheme",
   "name": "MIT Scheme",
   "pygments_lexer": "scheme",
   "version": "9.2.1"
  }
 },
 "nbformat": 4,
 "nbformat_minor": 4
}
