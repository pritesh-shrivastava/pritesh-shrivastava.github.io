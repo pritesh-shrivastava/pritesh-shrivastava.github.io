{
 "cells": [
  {
   "cell_type": "markdown",
   "metadata": {},
   "source": [
    "This post is inspired by a couple of [exercises](https://sarabander.github.io/sicp/html/2_002e2.xhtml#Exercise-2_002e37) from the classical book, [SICP](https://sarabander.github.io/sicp/html/index.xhtml) (I wrote about why SICP [here](https://pritesh-shrivastava.github.io/blog/2020/08/30/sicp-so-far)). I found them pretty interesting they were just using recursion & some common list operations to multiply matrices !! I also wanted to try out the Jupyter notebook kernel for [MIT Scheme](https://github.com/joeltg/mit-scheme-kernel) & play with some Latex along the way."
   ]
  },
  {
   "cell_type": "markdown",
   "metadata": {},
   "source": [
    "#### Representation & Problem Statement\n",
    "\n",
    "Suppose we represent vectors $ v = ( v_{i} )$ as sequences of numbers, and matrices $m = ( m_{i j} )$ as sequences of vectors (the rows of the matrix). For example, the matrix\n",
    "$$ \n",
    "\\left\\{\n",
    "\\begin{array} \\\\\n",
    "1 & 2 & 3 & 4 \\\\\n",
    "4 & 5 & 6 & 6 \\\\\n",
    "6 & 7 & 8 & 9 \\\\\n",
    "\\end{array}\n",
    "\\right\\}\n",
    "$$\n",
    "\n",
    "is represented as the sequence `((1 2 3 4) (4 5 6 6) (6 7 8 9))`. With this representation, we can use sequence operations to concisely express the basic matrix and vector operations. \n",
    "\n",
    "We will look at the following 4 basic operations on matrices:\n",
    "- `(dot-product v w)` returns the sum $ \\sum_{i} v_{i} w_{i} $  \n",
    "- `(matrix-*-vector m v)` returns the vector `t` , where $t_{i} = \\sum_{j} m_{ij} v_{j}$  \n",
    "- `(matrix-*-matrix m n)` returns the matrix `p` , where $ p_{ij} = \\sum_{k} m_{ik} n_{kj} $ \n",
    "- `(transpose m)` returns the matrix `n` , where $n_{ij} = m_{ji}$ "
   ]
  },
  {
   "cell_type": "code",
   "execution_count": null,
   "metadata": {},
   "outputs": [],
   "source": []
  },
  {
   "cell_type": "markdown",
   "metadata": {},
   "source": [
    "Another small function to create an identity matrix of length `n`"
   ]
  },
  {
   "cell_type": "code",
   "execution_count": 2,
   "metadata": {},
   "outputs": [
    {
     "data": {
      "text/plain": [
       "((1 0 0) (0 1 0) (0 0 1))"
      ]
     },
     "execution_count": 2,
     "metadata": {},
     "output_type": "execute_result"
    }
   ],
   "source": [
    ";; Create an identity matrix of length n\n",
    "; N -> [List-of [List-of N]]\n",
    "(define (identityM n)\n",
    "    (letrec   ;; Documentation for letrec : https://groups.csail.mit.edu/mac/ftpdir/scheme-7.4/doc-html/scheme_3.html\n",
    "        (\n",
    "          ;; N -> [List-of [List-of N]]\n",
    "          (generate-matrix (lambda (row)\n",
    "            (cond\n",
    "             ((= row 0) '())\n",
    "             (else (cons (generate-row row n)\n",
    "                         (generate-matrix (- row 1)))))))\n",
    "\n",
    "          ;; N N -> [List-of N]\n",
    "          (generate-row (lambda (row col)\n",
    "            ;; col goes from column n to 0\n",
    "            (cond\n",
    "             ((= col 0) '())\n",
    "             (else (cons (if (= row col) 1 0)\n",
    "                         (generate-row row (- col 1)))))))\n",
    "        )\n",
    "        (generate-matrix n)\n",
    "    )\n",
    ")\n",
    "      \n",
    "(identityM 3)"
   ]
  },
  {
   "cell_type": "markdown",
   "metadata": {},
   "source": [
    "PS : \n",
    "Nice tutorial on using Latex in Markdown [here](https://towardsdatascience.com/write-markdown-latex-in-the-jupyter-notebook-10985edb91fd)"
   ]
  }
 ],
 "metadata": {
  "kernelspec": {
   "display_name": "MIT Scheme",
   "language": "mit-scheme",
   "name": "mit-scheme"
  },
  "language_info": {
   "codemirror_mode": "scheme",
   "file_extension": ".scm",
   "mimetype": "application/x-scheme",
   "name": "MIT Scheme",
   "pygments_lexer": "scheme",
   "version": "9.2.1"
  }
 },
 "nbformat": 4,
 "nbformat_minor": 4
}
