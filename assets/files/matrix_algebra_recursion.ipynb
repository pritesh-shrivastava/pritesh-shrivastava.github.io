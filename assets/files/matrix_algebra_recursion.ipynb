{
 "cells": [
  {
   "cell_type": "markdown",
   "metadata": {},
   "source": [
    "This post is inspired by a couple of [exercises](https://sarabander.github.io/sicp/html/2_002e2.xhtml#Exercise-2_002e37) from the classical book, [SICP](https://sarabander.github.io/sicp/html/index.xhtml). I found them pretty interesting as they were just using recursion & some common list operations to multiply matrices !! I also wanted to try out the Jupyter notebook kernel for [MIT Scheme](https://github.com/joeltg/mit-scheme-kernel) & play with some Latex along the way."
   ]
  },
  {
   "cell_type": "markdown",
   "metadata": {},
   "source": [
    "#### Representation & Problem Statement\n",
    "\n",
    "Suppose we represent vectors $ v = ( v_{i} )$ as sequences of numbers, and matrices $m = ( m_{i j} )$ as sequences of vectors (the rows of the matrix). For example, the matrix\n",
    "$$ \n",
    "\\left\\{\n",
    "\\begin{array} \\\\\n",
    "1 & 2 & 3 & 4 \\\\\n",
    "4 & 5 & 6 & 6 \\\\\n",
    "6 & 7 & 8 & 9 \\\\\n",
    "\\end{array}\n",
    "\\right\\}\n",
    "$$\n",
    "\n",
    "is represented as the sequence `((1 2 3 4) (4 5 6 6) (6 7 8 9))`. With this representation, we can use sequence operations to concisely express the basic matrix and vector operations. \n",
    "\n",
    "We will look at the following 4 basic operations on matrices:\n",
    "- `(dot-product v w)` returns the sum $ \\sum_{i} v_{i} w_{i} $  \n",
    "- `(matrix-*-vector m v)` returns the vector `t` , where $t_{i} = \\sum_{j} m_{ij} v_{j}$  \n",
    "- `(transpose m)` returns the matrix `n` , where $n_{ij} = m_{ji}$ \n",
    "- `(matrix-*-matrix m n)` returns the matrix `p` , where $ p_{ij} = \\sum_{k} m_{ik} n_{kj} $ "
   ]
  },
  {
   "cell_type": "markdown",
   "metadata": {},
   "source": [
    "Dot product of 2 vectors in this notation can be done by using 2 higher order functions, `map` and `fold`, both of which are implemented using recursion.\n",
    "\n",
    "Implementation of `map`:\n",
    "```scheme\n",
    "(define (map proc items)\n",
    "  (if (null? items)\n",
    "      nil\n",
    "      (cons (proc (car items))\n",
    "            (map proc (cdr items)))))\n",
    "```\n",
    "\n",
    "\n",
    "Implementation of `fold-right`:\n",
    "```scheme\n",
    "(define (fold-right op initial sequence) \n",
    "   (if (null? sequence) \n",
    "       initial \n",
    "       (op (car sequence) \n",
    "           (fold-right op initial (cdr sequence)))))\n",
    "``` \n",
    "\n",
    "We can use either `fold-left` or `fold-right` for `dot-product`."
   ]
  },
  {
   "cell_type": "code",
   "execution_count": 1,
   "metadata": {},
   "outputs": [
    {
     "data": {
      "text/plain": [
       "6"
      ]
     },
     "execution_count": 1,
     "metadata": {},
     "output_type": "execute_result"
    }
   ],
   "source": [
    ";; Define dot product of 2 vectors of equal length\n",
    "(define (dot-product v w)\n",
    "  (fold-right + 0 (map * v w))\n",
    ")\n",
    "\n",
    ";; testing our function\n",
    "(define vec1 (list 1 2 3) )\n",
    "(define vec2 (list 1 1 1) )\n",
    "\n",
    "(dot-product vec1 vec2)"
   ]
  },
  {
   "cell_type": "markdown",
   "metadata": {},
   "source": [
    "Calculating a dot product was really easy with a couple of higher order functions!\n",
    "Let's work with matrices now. We will now right a function to multiply a matrix and a vector:"
   ]
  },
  {
   "cell_type": "code",
   "execution_count": 2,
   "metadata": {},
   "outputs": [
    {
     "data": {
      "text/plain": [
       "(1 2 3)"
      ]
     },
     "execution_count": 2,
     "metadata": {},
     "output_type": "execute_result"
    }
   ],
   "source": [
    "(define (matrix-*-vector m v)\n",
    "  (map (lambda (m-row)(dot-product m-row v) ) \n",
    "       m)\n",
    ")\n",
    "\n",
    ";; testing the function\n",
    "(define mat1 (list (list 1 0 0) (list 0 1 0) (list 0 0 1)))\n",
    "(matrix-*-vector mat1 vec1)"
   ]
  },
  {
   "cell_type": "markdown",
   "metadata": {},
   "source": [
    "Let's look at transpose now! For this, we will need to implement a helper function, `accumulate-n`, which is similar to `fold` except that it takes as its third argument a sequence of sequences, which are all assumed to have the same number of elements. "
   ]
  },
  {
   "cell_type": "code",
   "execution_count": 3,
   "metadata": {},
   "outputs": [
    {
     "data": {
      "text/plain": [
       "((1 4 7) (2 5 8) (3 6 9))"
      ]
     },
     "execution_count": 3,
     "metadata": {},
     "output_type": "execute_result"
    }
   ],
   "source": [
    ";; Defining helper functions for transpose to \n",
    ";; apply the operation op to combine all the first elements of the sequences,\n",
    ";; all the second elements of the sequences, and so on, \n",
    ";; and returns a sequence of the results. \n",
    "(define (accumulate-n op init seqs)\n",
    "  (if (null? (car seqs))\n",
    "      '()\n",
    "      (cons (fold-right op init (map car seqs))\n",
    "            (accumulate-n op init (map cdr seqs))\n",
    "      )\n",
    "  )\n",
    ")\n",
    "\n",
    "(define (transpose mat)\n",
    "  (accumulate-n cons '() mat)\n",
    ")\n",
    "\n",
    ";; testing transpose\n",
    "(define mat2 (list (list 1 2 3) (list 4 5 6) (list 7 8 9))) \n",
    "(transpose mat2)"
   ]
  },
  {
   "cell_type": "markdown",
   "metadata": {},
   "source": [
    "Now, let's use this transpose function to do matrix multiplication:"
   ]
  },
  {
   "cell_type": "code",
   "execution_count": 4,
   "metadata": {},
   "outputs": [
    {
     "data": {
      "text/plain": [
       "((1 2 3) (4 5 6) (7 8 9))"
      ]
     },
     "execution_count": 4,
     "metadata": {},
     "output_type": "execute_result"
    }
   ],
   "source": [
    "; Matrix multiplication\n",
    "(define (matrix-*-matrix m n)\n",
    "  (let ((n-cols (transpose n)))\n",
    "    (map (lambda (m-row)(matrix-*-vector n-cols m-row)) \n",
    "         m)\n",
    "  )\n",
    ")\n",
    "\n",
    ";; For testing\n",
    "(matrix-*-matrix mat2 mat1)"
   ]
  },
  {
   "cell_type": "markdown",
   "metadata": {},
   "source": [
    "We can even write recursive procedures to create some special kinds of matrices, for eg, an identity matrix. Here is a recursive procudure to create an identity matrix of length `n`:"
   ]
  },
  {
   "cell_type": "code",
   "execution_count": 1,
   "metadata": {},
   "outputs": [
    {
     "data": {
      "text/plain": [
       "((1 0 0) (0 1 0) (0 0 1))"
      ]
     },
     "execution_count": 1,
     "metadata": {},
     "output_type": "execute_result"
    }
   ],
   "source": [
    ";; Create an identity matrix of length n\n",
    "; N -> [List-of [List-of N]]\n",
    "(define (identityM n)\n",
    "    (letrec   ;; Documentation for letrec : https://groups.csail.mit.edu/mac/ftpdir/scheme-7.4/doc-html/scheme_3.html\n",
    "        (\n",
    "          ;; N -> [List-of [List-of N]]\n",
    "          (generate-matrix (lambda (row)\n",
    "            (cond\n",
    "             ((= row 0) '())\n",
    "             (else (cons (generate-row row n)\n",
    "                         (generate-matrix (- row 1)))))))\n",
    "\n",
    "          ;; N N -> [List-of N]\n",
    "          (generate-row (lambda (row col)\n",
    "            ;; col goes from column n to 0\n",
    "            (cond\n",
    "             ((= col 0) '())\n",
    "             (else (cons (if (= row col) 1 0)\n",
    "                         (generate-row row (- col 1)))))))\n",
    "        )\n",
    "        (generate-matrix n)\n",
    "    )\n",
    ")\n",
    "\n",
    "(identitym 3)"
   ]
  },
  {
   "cell_type": "markdown",
   "metadata": {},
   "source": [
    "If you found these functions interesting, I'de definitely encourage to go read SICP. I wrote about why I'm reading SICP [here](https://pritesh-shrivastava.github.io/blog/2020/08/30/sicp-so-far). "
   ]
  },
  {
   "cell_type": "markdown",
   "metadata": {},
   "source": [
    "**PS** : \n",
    "Here 's a nice tutorial on using Latex in Markdown [here](https://towardsdatascience.com/write-markdown-latex-in-the-jupyter-notebook-10985edb91fd)"
   ]
  }
 ],
 "metadata": {
  "kernelspec": {
   "display_name": "MIT Scheme",
   "language": "mit-scheme",
   "name": "mit-scheme"
  },
  "language_info": {
   "codemirror_mode": "scheme",
   "file_extension": ".scm",
   "mimetype": "application/x-scheme",
   "name": "MIT Scheme",
   "pygments_lexer": "scheme",
   "version": "9.2.1"
  }
 },
 "nbformat": 4,
 "nbformat_minor": 4
}
