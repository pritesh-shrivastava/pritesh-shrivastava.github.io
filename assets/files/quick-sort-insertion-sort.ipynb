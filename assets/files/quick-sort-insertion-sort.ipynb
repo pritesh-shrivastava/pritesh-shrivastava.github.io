{
 "cells": [
  {
   "cell_type": "markdown",
   "metadata": {},
   "source": [
    "The code snippets for this post have been adapted from ISL+, a teaching language in Racket to MIT Scheme, from the free e-book [How to Design Programs](https://htdp.org/2020-5-6/Book/index.html#%28part._htdp2e%29)"
   ]
  },
  {
   "cell_type": "markdown",
   "metadata": {},
   "source": [
    "### Insertion Sort\n",
    "This is what is called structural recursion. It follows a common template which uses \"wishful thinking\".\n",
    "Here, we only solve a trivial case of the problem, rather than the complete problem itself. We then \"wish\" for the computer to solve the problem itlsef. \n",
    "If the trivial case is solved, recursion works it's magic on the entire list without us telling the computer how to do it!"
   ]
  },
  {
   "cell_type": "code",
   "execution_count": 2,
   "metadata": {},
   "outputs": [
    {
     "data": {
      "text/plain": [
       "(29 34 43 45 72)"
      ]
     },
     "execution_count": 2,
     "metadata": {},
     "output_type": "execute_result"
    }
   ],
   "source": [
    "; List-of-numbers -> List-of-numbers\n",
    "; sorts a list l in increasing order\n",
    "(define (insertion-sort l)\n",
    "  (cond\n",
    "    ((null? l) '())\n",
    "    (else (insert (car l) (insertion-sort (cdr l))))\n",
    "  )\n",
    ")\n",
    "\n",
    ";; This is our wish list. We haven't defined insert function yet, but if we do it, then our problem is solved.\n",
    "\n",
    "; Number List-of-numbers -> List-of-numbers\n",
    "; Helper function that inserts n into the sorted list of numbers l \n",
    "(define (insert n l)\n",
    "  (cond\n",
    "    ((null? l) (cons n '()))\n",
    "    (else (if (<= n (first l))\n",
    "              (cons n l)\n",
    "              (cons (car l) (insert n (cdr l)))\n",
    "          )\n",
    "    )\n",
    "  )\n",
    ")\n",
    "\n",
    "; testing the insert sort function with an example\n",
    "(insertion-sort '(72 45 43 29 34))"
   ]
  },
  {
   "cell_type": "markdown",
   "metadata": {},
   "source": [
    "### Quick Sort\n",
    "This is an example of generative recursion. Instead of following a simple template like we did with Insertion Sort, here, you need some kind of mathematical insight to come up with such clever algorithm design. "
   ]
  },
  {
   "cell_type": "code",
   "execution_count": 1,
   "metadata": {},
   "outputs": [
    {
     "data": {
      "text/plain": [
       "(29 34 43 45 72)"
      ]
     },
     "execution_count": 1,
     "metadata": {},
     "output_type": "execute_result"
    }
   ],
   "source": [
    "; [List-of Number] -> [List-of Number]\n",
    "; produces a sorted version of alon\n",
    "; assume the numbers are all distinct \n",
    "(define (quick-sort alon)\n",
    "  (cond\n",
    "    ((null? alon) '())\n",
    "    (else (let ((pivot (car alon)))\n",
    "               (append (quick-sort (smallers alon pivot))\n",
    "                       (list pivot)\n",
    "                       (quick-sort (largers alon pivot))\n",
    "               )\n",
    "          )\n",
    "    )\n",
    "  )\n",
    ")\n",
    " \n",
    "; [List-of Number] Number -> [List-of Number]\n",
    "(define (largers alon n)\n",
    "  (cond\n",
    "    ((null? alon) '())\n",
    "    (else (if (> (car alon) n)\n",
    "              (cons (car alon) (largers (cdr alon) n))\n",
    "              (largers (cdr alon) n))\n",
    "    )\n",
    "  )\n",
    ")\n",
    " \n",
    "; [List-of Number] Number -> [List-of Number]\n",
    "(define (smallers alon n)\n",
    "  (cond\n",
    "    ((null? alon) '())\n",
    "    (else (if (< (car alon) n)\n",
    "              (cons (car alon) (smallers (cdr alon) n))\n",
    "              (smallers (cdr alon) n))\n",
    "    )\n",
    "  )\n",
    ")\n",
    "\n",
    "\n",
    "; testing the insert sort function with an example\n",
    "(quick-sort '(72 45 43 29 34))"
   ]
  },
  {
   "cell_type": "markdown",
   "metadata": {},
   "source": [
    "Notice that the helper functions `largers` and `smallers` still follow the simple template of structural recursion only."
   ]
  },
  {
   "cell_type": "code",
   "execution_count": null,
   "metadata": {},
   "outputs": [],
   "source": []
  }
 ],
 "metadata": {
  "kernelspec": {
   "display_name": "MIT Scheme",
   "language": "mit-scheme",
   "name": "mit-scheme"
  },
  "language_info": {
   "codemirror_mode": "scheme",
   "file_extension": ".scm",
   "mimetype": "application/x-scheme",
   "name": "MIT Scheme",
   "pygments_lexer": "scheme",
   "version": "9.2.1"
  }
 },
 "nbformat": 4,
 "nbformat_minor": 4
}
